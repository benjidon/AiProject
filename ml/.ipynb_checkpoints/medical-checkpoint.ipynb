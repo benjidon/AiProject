{
 "cells": [
  {
   "cell_type": "markdown",
   "metadata": {},
   "source": [
    "# Healthcare Provider Fraud Detection Analysis"
   ]
  },
  {
   "cell_type": "markdown",
   "metadata": {},
   "source": [
    "## Import Statements"
   ]
  },
  {
   "cell_type": "code",
   "execution_count": 347,
   "metadata": {
    "_cell_guid": "b1076dfc-b9ad-4769-8c92-a6c4dae69d19",
    "_uuid": "8f2839f25d086af736a60e9eeb907d3b93b6e0e5"
   },
   "outputs": [],
   "source": [
    "import numpy as np # linear algebra\n",
    "import pandas as pd # data processing, CSV file I/O (e.g. pd.read_csv)\n",
    "import os"
   ]
  },
  {
   "cell_type": "code",
   "execution_count": 348,
   "metadata": {},
   "outputs": [],
   "source": [
    "import pandas as pd\n",
    "import numpy as np\n",
    "import scipy as sc\n",
    "import seaborn as sns\n",
    "import matplotlib.pyplot as plt\n",
    "import pandas_profiling as profile   # To check data distributions and correlations\n",
    "import warnings     # for supressing a warning when importing large files\n",
    "warnings.filterwarnings(\"ignore\")\n",
    "from sklearn.preprocessing import StandardScaler,MinMaxScaler\n",
    "from sklearn.model_selection import train_test_split\n",
    "import pickle\n",
    "import matplotlib.pyplot as plt\n",
    "from scipy import stats\n",
    "import tensorflow as tf\n",
    "from pylab import rcParams\n",
    "from keras.models import Model, load_model\n",
    "from keras.layers import Input, Dense\n",
    "from keras.callbacks import ModelCheckpoint, TensorBoard\n",
    "from keras import regularizers\n",
    "%matplotlib inline\n",
    "sns.set(style='whitegrid', palette='muted', font_scale=1.5)\n",
    "rcParams['figure.figsize'] = 14, 8\n",
    "RANDOM_SEED = 42\n",
    "\n",
    "LABELS = [\"Normal\", \"Fraud\"]"
   ]
  },
  {
   "cell_type": "markdown",
   "metadata": {},
   "source": [
    "#### Load Train/Test Dataset"
   ]
  },
  {
   "cell_type": "code",
   "execution_count": 349,
   "metadata": {},
   "outputs": [],
   "source": [
    "Train=pd.read_csv(\"input/Train-1542865627584.csv\")\n",
    "Train_Beneficiarydata=pd.read_csv(\"input/Train_Beneficiarydata-1542865627584.csv\")\n",
    "Train_Inpatientdata=pd.read_csv(\"input/Train_Inpatientdata-1542865627584.csv\")\n",
    "Train_Outpatientdata=pd.read_csv(\"input/Train_Outpatientdata-1542865627584.csv\")\n",
    "\n",
    "Test=pd.read_csv(\"input/Test-1542969243754.csv\")\n",
    "Test_Beneficiarydata=pd.read_csv(\"input/Test_Beneficiarydata-1542969243754.csv\")\n",
    "Test_Inpatientdata=pd.read_csv(\"input/Test_Inpatientdata-1542969243754.csv\")\n",
    "Test_Outpatientdata=pd.read_csv(\"input/Test_Outpatientdata-1542969243754.csv\")\n"
   ]
  },
  {
   "cell_type": "code",
   "execution_count": 350,
   "metadata": {},
   "outputs": [
    {
     "name": "stdout",
     "output_type": "stream",
     "text": [
      "Shape of Train data : (5410, 2)\n",
      "Shape of Train_Beneficiarydata data : (138556, 25)\n",
      "Shape of Train_Inpatientdata data : (40474, 30)\n",
      "Shape of Train_Outpatientdata data : (517737, 27)\n",
      "Shape of Test data : (1353, 1)\n",
      "Shape of Test_Beneficiarydata data : (63968, 25)\n",
      "Shape of Test_Inpatientdata data : (9551, 30)\n",
      "Shape of Test_Outpatientdata data : (125841, 27)\n"
     ]
    }
   ],
   "source": [
    "# Lets Check Shape of datasets \n",
    "\n",
    "print('Shape of Train data :',Train.shape)\n",
    "print('Shape of Train_Beneficiarydata data :',Train_Beneficiarydata.shape)\n",
    "print('Shape of Train_Inpatientdata data :',Train_Inpatientdata.shape)\n",
    "print('Shape of Train_Outpatientdata data :',Train_Outpatientdata.shape)\n",
    "\n",
    "print('Shape of Test data :',Test.shape)\n",
    "print('Shape of Test_Beneficiarydata data :',Test_Beneficiarydata.shape)\n",
    "print('Shape of Test_Inpatientdata data :',Test_Inpatientdata.shape)\n",
    "print('Shape of Test_Outpatientdata data :',Test_Outpatientdata.shape)"
   ]
  },
  {
   "cell_type": "markdown",
   "metadata": {},
   "source": [
    "**Basic Data Understanding**\n",
    "\n",
    "Train and Test Data Understanding"
   ]
  },
  {
   "cell_type": "code",
   "execution_count": 352,
   "metadata": {},
   "outputs": [
    {
     "name": "stdout",
     "output_type": "stream",
     "text": [
      "Train Shape: (5410, 2) \n",
      "\n",
      "Train Sample:\n",
      "    Provider PotentialFraud\n",
      "0  PRV51001             No\n",
      "1  PRV51003            Yes \n",
      "\n",
      "\n",
      " Test Shape: (1353, 1) \n",
      "\n",
      "Test Sample: \n",
      "    Provider\n",
      "0  PRV51002\n",
      "1  PRV51006\n"
     ]
    }
   ],
   "source": [
    "# Lets check shape of Train and Test Data\n",
    "\n",
    "print('Train Shape:',Train.shape,'\\n')\n",
    "print('Train Sample:\\n',Train.head(2),'\\n')\n",
    "\n",
    "print('\\n Test Shape:',Test.shape,'\\n')\n",
    "print('Test Sample: \\n',Test.head(2))"
   ]
  },
  {
   "cell_type": "markdown",
   "metadata": {},
   "source": [
    "**Beneficiary Data Understanding**"
   ]
  },
  {
   "cell_type": "code",
   "execution_count": 353,
   "metadata": {},
   "outputs": [],
   "source": [
    "# Replacing 2 with 0 for chronic conditions ,that means chroniv condition No is 0 and yes is 1\n",
    "\n",
    "Train_Beneficiarydata = Train_Beneficiarydata.replace({'ChronicCond_Alzheimer': 2, 'ChronicCond_Heartfailure': 2, 'ChronicCond_KidneyDisease': 2,\n",
    "                           'ChronicCond_Cancer': 2, 'ChronicCond_ObstrPulmonary': 2, 'ChronicCond_Depression': 2, \n",
    "                           'ChronicCond_Diabetes': 2, 'ChronicCond_IschemicHeart': 2, 'ChronicCond_Osteoporasis': 2, \n",
    "                           'ChronicCond_rheumatoidarthritis': 2, 'ChronicCond_stroke': 2 }, 0)\n",
    "\n",
    "Train_Beneficiarydata = Train_Beneficiarydata.replace({'RenalDiseaseIndicator': 'Y'}, 1)\n",
    "\n",
    "Test_Beneficiarydata = Test_Beneficiarydata.replace({'ChronicCond_Alzheimer': 2, 'ChronicCond_Heartfailure': 2, 'ChronicCond_KidneyDisease': 2,\n",
    "                           'ChronicCond_Cancer': 2, 'ChronicCond_ObstrPulmonary': 2, 'ChronicCond_Depression': 2, \n",
    "                           'ChronicCond_Diabetes': 2, 'ChronicCond_IschemicHeart': 2, 'ChronicCond_Osteoporasis': 2, \n",
    "                           'ChronicCond_rheumatoidarthritis': 2, 'ChronicCond_stroke': 2 }, 0)\n",
    "\n",
    "Test_Beneficiarydata = Test_Beneficiarydata.replace({'RenalDiseaseIndicator': 'Y'}, 1)"
   ]
  },
  {
   "cell_type": "code",
   "execution_count": 354,
   "metadata": {},
   "outputs": [
    {
     "data": {
      "text/html": [
       "<div>\n",
       "<style scoped>\n",
       "    .dataframe tbody tr th:only-of-type {\n",
       "        vertical-align: middle;\n",
       "    }\n",
       "\n",
       "    .dataframe tbody tr th {\n",
       "        vertical-align: top;\n",
       "    }\n",
       "\n",
       "    .dataframe thead th {\n",
       "        text-align: right;\n",
       "    }\n",
       "</style>\n",
       "<table border=\"1\" class=\"dataframe\">\n",
       "  <thead>\n",
       "    <tr style=\"text-align: right;\">\n",
       "      <th></th>\n",
       "      <th>BeneID</th>\n",
       "      <th>DOB</th>\n",
       "      <th>DOD</th>\n",
       "      <th>Gender</th>\n",
       "      <th>Race</th>\n",
       "      <th>RenalDiseaseIndicator</th>\n",
       "      <th>State</th>\n",
       "      <th>County</th>\n",
       "      <th>NoOfMonths_PartACov</th>\n",
       "      <th>NoOfMonths_PartBCov</th>\n",
       "      <th>...</th>\n",
       "      <th>ChronicCond_Depression</th>\n",
       "      <th>ChronicCond_Diabetes</th>\n",
       "      <th>ChronicCond_IschemicHeart</th>\n",
       "      <th>ChronicCond_Osteoporasis</th>\n",
       "      <th>ChronicCond_rheumatoidarthritis</th>\n",
       "      <th>ChronicCond_stroke</th>\n",
       "      <th>IPAnnualReimbursementAmt</th>\n",
       "      <th>IPAnnualDeductibleAmt</th>\n",
       "      <th>OPAnnualReimbursementAmt</th>\n",
       "      <th>OPAnnualDeductibleAmt</th>\n",
       "    </tr>\n",
       "  </thead>\n",
       "  <tbody>\n",
       "    <tr>\n",
       "      <th>0</th>\n",
       "      <td>BENE11001</td>\n",
       "      <td>1943-01-01</td>\n",
       "      <td>NaN</td>\n",
       "      <td>1</td>\n",
       "      <td>1</td>\n",
       "      <td>0</td>\n",
       "      <td>39</td>\n",
       "      <td>230</td>\n",
       "      <td>12</td>\n",
       "      <td>12</td>\n",
       "      <td>...</td>\n",
       "      <td>1</td>\n",
       "      <td>1</td>\n",
       "      <td>1</td>\n",
       "      <td>0</td>\n",
       "      <td>1</td>\n",
       "      <td>1</td>\n",
       "      <td>36000</td>\n",
       "      <td>3204</td>\n",
       "      <td>60</td>\n",
       "      <td>70</td>\n",
       "    </tr>\n",
       "  </tbody>\n",
       "</table>\n",
       "<p>1 rows × 25 columns</p>\n",
       "</div>"
      ],
      "text/plain": [
       "      BeneID         DOB  DOD  Gender  Race RenalDiseaseIndicator  State  \\\n",
       "0  BENE11001  1943-01-01  NaN       1     1                     0     39   \n",
       "\n",
       "   County  NoOfMonths_PartACov  NoOfMonths_PartBCov  ...  \\\n",
       "0     230                   12                   12  ...   \n",
       "\n",
       "   ChronicCond_Depression  ChronicCond_Diabetes  ChronicCond_IschemicHeart  \\\n",
       "0                       1                     1                          1   \n",
       "\n",
       "   ChronicCond_Osteoporasis  ChronicCond_rheumatoidarthritis  \\\n",
       "0                         0                                1   \n",
       "\n",
       "   ChronicCond_stroke  IPAnnualReimbursementAmt  IPAnnualDeductibleAmt  \\\n",
       "0                   1                     36000                   3204   \n",
       "\n",
       "   OPAnnualReimbursementAmt  OPAnnualDeductibleAmt  \n",
       "0                        60                     70  \n",
       "\n",
       "[1 rows x 25 columns]"
      ]
     },
     "execution_count": 354,
     "metadata": {},
     "output_type": "execute_result"
    }
   ],
   "source": [
    "Train_Beneficiarydata.head(1)\n",
    "Test_Beneficiarydata.head(1)"
   ]
  },
  {
   "cell_type": "markdown",
   "metadata": {},
   "source": [
    "**Add Age of Person based on his/her DOD(Date of death ) and DOB (Date of Birth)**"
   ]
  },
  {
   "cell_type": "code",
   "execution_count": 355,
   "metadata": {},
   "outputs": [],
   "source": [
    "## Lets Create Age column to the dataset\n",
    "\n",
    "Train_Beneficiarydata['DOB'] = pd.to_datetime(Train_Beneficiarydata['DOB'] , format = '%Y-%m-%d')\n",
    "Train_Beneficiarydata['DOD'] = pd.to_datetime(Train_Beneficiarydata['DOD'],format = '%Y-%m-%d',errors='ignore')\n",
    "Train_Beneficiarydata['Age'] = round(((Train_Beneficiarydata['DOD'] - Train_Beneficiarydata['DOB']).dt.days)/365)\n",
    "\n",
    "\n",
    "Test_Beneficiarydata['DOB'] = pd.to_datetime(Test_Beneficiarydata['DOB'] , format = '%Y-%m-%d')\n",
    "Test_Beneficiarydata['DOD'] = pd.to_datetime(Test_Beneficiarydata['DOD'],format = '%Y-%m-%d',errors='ignore')\n",
    "Test_Beneficiarydata['Age'] = round(((Test_Beneficiarydata['DOD'] - Test_Beneficiarydata['DOB']).dt.days)/365)"
   ]
  },
  {
   "cell_type": "code",
   "execution_count": 356,
   "metadata": {},
   "outputs": [],
   "source": [
    "## As we see that last DOD value is 2009-12-01 ,which means Beneficiary Details data is of year 2009.\n",
    "## so we will calculate age of other benficiaries for year 2009.\n",
    "\n",
    "Train_Beneficiarydata.Age.fillna(round(((pd.to_datetime('2009-12-01' , format = '%Y-%m-%d') - Train_Beneficiarydata['DOB']).dt.days)/365),\n",
    "                                 inplace=True)\n",
    "\n",
    "\n",
    "Test_Beneficiarydata.Age.fillna(round(((pd.to_datetime('2009-12-01' , format = '%Y-%m-%d') - Test_Beneficiarydata['DOB']).dt.days)/365),\n",
    "                                 inplace=True)"
   ]
  },
  {
   "cell_type": "code",
   "execution_count": 357,
   "metadata": {},
   "outputs": [
    {
     "data": {
      "text/html": [
       "<div>\n",
       "<style scoped>\n",
       "    .dataframe tbody tr th:only-of-type {\n",
       "        vertical-align: middle;\n",
       "    }\n",
       "\n",
       "    .dataframe tbody tr th {\n",
       "        vertical-align: top;\n",
       "    }\n",
       "\n",
       "    .dataframe thead th {\n",
       "        text-align: right;\n",
       "    }\n",
       "</style>\n",
       "<table border=\"1\" class=\"dataframe\">\n",
       "  <thead>\n",
       "    <tr style=\"text-align: right;\">\n",
       "      <th></th>\n",
       "      <th>BeneID</th>\n",
       "      <th>DOB</th>\n",
       "      <th>DOD</th>\n",
       "      <th>Gender</th>\n",
       "      <th>Race</th>\n",
       "      <th>RenalDiseaseIndicator</th>\n",
       "      <th>State</th>\n",
       "      <th>County</th>\n",
       "      <th>NoOfMonths_PartACov</th>\n",
       "      <th>NoOfMonths_PartBCov</th>\n",
       "      <th>...</th>\n",
       "      <th>ChronicCond_Diabetes</th>\n",
       "      <th>ChronicCond_IschemicHeart</th>\n",
       "      <th>ChronicCond_Osteoporasis</th>\n",
       "      <th>ChronicCond_rheumatoidarthritis</th>\n",
       "      <th>ChronicCond_stroke</th>\n",
       "      <th>IPAnnualReimbursementAmt</th>\n",
       "      <th>IPAnnualDeductibleAmt</th>\n",
       "      <th>OPAnnualReimbursementAmt</th>\n",
       "      <th>OPAnnualDeductibleAmt</th>\n",
       "      <th>Age</th>\n",
       "    </tr>\n",
       "  </thead>\n",
       "  <tbody>\n",
       "    <tr>\n",
       "      <th>0</th>\n",
       "      <td>BENE11001</td>\n",
       "      <td>1943-01-01</td>\n",
       "      <td>NaT</td>\n",
       "      <td>1</td>\n",
       "      <td>1</td>\n",
       "      <td>0</td>\n",
       "      <td>39</td>\n",
       "      <td>230</td>\n",
       "      <td>12</td>\n",
       "      <td>12</td>\n",
       "      <td>...</td>\n",
       "      <td>1</td>\n",
       "      <td>1</td>\n",
       "      <td>0</td>\n",
       "      <td>1</td>\n",
       "      <td>1</td>\n",
       "      <td>36000</td>\n",
       "      <td>3204</td>\n",
       "      <td>60</td>\n",
       "      <td>70</td>\n",
       "      <td>67.0</td>\n",
       "    </tr>\n",
       "    <tr>\n",
       "      <th>1</th>\n",
       "      <td>BENE11007</td>\n",
       "      <td>1940-09-01</td>\n",
       "      <td>2009-12-01</td>\n",
       "      <td>1</td>\n",
       "      <td>2</td>\n",
       "      <td>0</td>\n",
       "      <td>45</td>\n",
       "      <td>610</td>\n",
       "      <td>12</td>\n",
       "      <td>12</td>\n",
       "      <td>...</td>\n",
       "      <td>1</td>\n",
       "      <td>0</td>\n",
       "      <td>1</td>\n",
       "      <td>1</td>\n",
       "      <td>0</td>\n",
       "      <td>0</td>\n",
       "      <td>0</td>\n",
       "      <td>1490</td>\n",
       "      <td>160</td>\n",
       "      <td>69.0</td>\n",
       "    </tr>\n",
       "  </tbody>\n",
       "</table>\n",
       "<p>2 rows × 26 columns</p>\n",
       "</div>"
      ],
      "text/plain": [
       "      BeneID        DOB        DOD  Gender  Race RenalDiseaseIndicator  State  \\\n",
       "0  BENE11001 1943-01-01        NaT       1     1                     0     39   \n",
       "1  BENE11007 1940-09-01 2009-12-01       1     2                     0     45   \n",
       "\n",
       "   County  NoOfMonths_PartACov  NoOfMonths_PartBCov  ...  \\\n",
       "0     230                   12                   12  ...   \n",
       "1     610                   12                   12  ...   \n",
       "\n",
       "   ChronicCond_Diabetes  ChronicCond_IschemicHeart  ChronicCond_Osteoporasis  \\\n",
       "0                     1                          1                         0   \n",
       "1                     1                          0                         1   \n",
       "\n",
       "   ChronicCond_rheumatoidarthritis  ChronicCond_stroke  \\\n",
       "0                                1                   1   \n",
       "1                                1                   0   \n",
       "\n",
       "   IPAnnualReimbursementAmt  IPAnnualDeductibleAmt  OPAnnualReimbursementAmt  \\\n",
       "0                     36000                   3204                        60   \n",
       "1                         0                      0                      1490   \n",
       "\n",
       "   OPAnnualDeductibleAmt   Age  \n",
       "0                     70  67.0  \n",
       "1                    160  69.0  \n",
       "\n",
       "[2 rows x 26 columns]"
      ]
     },
     "execution_count": 357,
     "metadata": {},
     "output_type": "execute_result"
    }
   ],
   "source": [
    "Train_Beneficiarydata.head(2)\n",
    "Test_Beneficiarydata.head(2)"
   ]
  },
  {
   "cell_type": "markdown",
   "metadata": {},
   "source": [
    "**Add Flag column 'WhetherDead' using DOD values to tell whether beneficiary is dead on not**"
   ]
  },
  {
   "cell_type": "code",
   "execution_count": 358,
   "metadata": {},
   "outputs": [
    {
     "data": {
      "text/plain": [
       "0    0.0\n",
       "1    1.0\n",
       "2    0.0\n",
       "Name: WhetherDead, dtype: float64"
      ]
     },
     "execution_count": 358,
     "metadata": {},
     "output_type": "execute_result"
    }
   ],
   "source": [
    "#Lets create a new variable 'WhetherDead' with flag 1 means Dead and 0 means not Dead\n",
    "\n",
    "Train_Beneficiarydata.loc[Train_Beneficiarydata.DOD.isna(),'WhetherDead']=0\n",
    "Train_Beneficiarydata.loc[Train_Beneficiarydata.DOD.notna(),'WhetherDead']=1\n",
    "Train_Beneficiarydata.loc[:,'WhetherDead'].head(7)\n",
    "\n",
    "\n",
    "Test_Beneficiarydata.loc[Test_Beneficiarydata.DOD.isna(),'WhetherDead']=0\n",
    "Test_Beneficiarydata.loc[Test_Beneficiarydata.DOD.notna(),'WhetherDead']=1\n",
    "Test_Beneficiarydata.loc[:,'WhetherDead'].head(3)"
   ]
  },
  {
   "cell_type": "markdown",
   "metadata": {},
   "source": [
    "**Create new column 'AdmitForDays' indicating number of days patient was admitted in hospita**"
   ]
  },
  {
   "cell_type": "code",
   "execution_count": 360,
   "metadata": {},
   "outputs": [],
   "source": [
    "## As patient can be admitted for only for 1 day,we will add 1 to the difference of Discharge Date and Admission Date \n",
    "\n",
    "Train_Inpatientdata['AdmissionDt'] = pd.to_datetime(Train_Inpatientdata['AdmissionDt'] , format = '%Y-%m-%d')\n",
    "Train_Inpatientdata['DischargeDt'] = pd.to_datetime(Train_Inpatientdata['DischargeDt'],format = '%Y-%m-%d')\n",
    "Train_Inpatientdata['AdmitForDays'] = ((Train_Inpatientdata['DischargeDt'] - Train_Inpatientdata['AdmissionDt']).dt.days)+1\n",
    "\n",
    "\n",
    "Test_Inpatientdata['AdmissionDt'] = pd.to_datetime(Test_Inpatientdata['AdmissionDt'] , format = '%Y-%m-%d')\n",
    "Test_Inpatientdata['DischargeDt'] = pd.to_datetime(Test_Inpatientdata['DischargeDt'],format = '%Y-%m-%d')\n",
    "Test_Inpatientdata['AdmitForDays'] = ((Test_Inpatientdata['DischargeDt'] - Test_Inpatientdata['AdmissionDt']).dt.days)+1"
   ]
  },
  {
   "cell_type": "markdown",
   "metadata": {},
   "source": [
    "**Data Merging**\n",
    "\n",
    "As we see columns in inpatient and outpatient data are similar, we will merge this data based on these similar keys using outer join."
   ]
  },
  {
   "cell_type": "code",
   "execution_count": 361,
   "metadata": {},
   "outputs": [
    {
     "name": "stdout",
     "output_type": "stream",
     "text": [
      "Index(['BeneID', 'ClaimID', 'ClaimStartDt', 'ClaimEndDt', 'Provider',\n",
      "       'InscClaimAmtReimbursed', 'AttendingPhysician', 'OperatingPhysician',\n",
      "       'OtherPhysician', 'ClmDiagnosisCode_1', 'ClmDiagnosisCode_2',\n",
      "       'ClmDiagnosisCode_3', 'ClmDiagnosisCode_4', 'ClmDiagnosisCode_5',\n",
      "       'ClmDiagnosisCode_6', 'ClmDiagnosisCode_7', 'ClmDiagnosisCode_8',\n",
      "       'ClmDiagnosisCode_9', 'ClmDiagnosisCode_10', 'ClmProcedureCode_1',\n",
      "       'ClmProcedureCode_2', 'ClmProcedureCode_3', 'ClmProcedureCode_4',\n",
      "       'ClmProcedureCode_5', 'ClmProcedureCode_6', 'DeductibleAmtPaid',\n",
      "       'ClmAdmitDiagnosisCode'],\n",
      "      dtype='object')\n"
     ]
    }
   ],
   "source": [
    "Key_Column_To_Merge_Outpatient=Train_Outpatientdata.columns\n",
    "print(Key_Column_To_Merge_Outpatient)"
   ]
  },
  {
   "cell_type": "markdown",
   "metadata": {},
   "source": [
    "**Merge Inpatient and Outpatinet data and create dataset for all patients.**"
   ]
  },
  {
   "cell_type": "code",
   "execution_count": 362,
   "metadata": {},
   "outputs": [],
   "source": [
    "# Lets make union of Inpatient and outpatient data.\n",
    "# We will use all keys in outpatient data as we want to make union and dont want duplicate columns from both tables.\n",
    "\n",
    "Train_Allpatientdata=pd.merge(Train_Outpatientdata,Train_Inpatientdata,\n",
    "                              left_on=['BeneID', 'ClaimID', 'ClaimStartDt', 'ClaimEndDt', 'Provider',\n",
    "       'InscClaimAmtReimbursed', 'AttendingPhysician', 'OperatingPhysician',\n",
    "       'OtherPhysician', 'ClmDiagnosisCode_1', 'ClmDiagnosisCode_2',\n",
    "       'ClmDiagnosisCode_3', 'ClmDiagnosisCode_4', 'ClmDiagnosisCode_5',\n",
    "       'ClmDiagnosisCode_6', 'ClmDiagnosisCode_7', 'ClmDiagnosisCode_8',\n",
    "       'ClmDiagnosisCode_9', 'ClmDiagnosisCode_10', 'ClmProcedureCode_1',\n",
    "       'ClmProcedureCode_2', 'ClmProcedureCode_3', 'ClmProcedureCode_4',\n",
    "       'ClmProcedureCode_5', 'ClmProcedureCode_6', 'DeductibleAmtPaid',\n",
    "       'ClmAdmitDiagnosisCode'],\n",
    "                              right_on=['BeneID', 'ClaimID', 'ClaimStartDt', 'ClaimEndDt', 'Provider',\n",
    "       'InscClaimAmtReimbursed', 'AttendingPhysician', 'OperatingPhysician',\n",
    "       'OtherPhysician', 'ClmDiagnosisCode_1', 'ClmDiagnosisCode_2',\n",
    "       'ClmDiagnosisCode_3', 'ClmDiagnosisCode_4', 'ClmDiagnosisCode_5',\n",
    "       'ClmDiagnosisCode_6', 'ClmDiagnosisCode_7', 'ClmDiagnosisCode_8',\n",
    "       'ClmDiagnosisCode_9', 'ClmDiagnosisCode_10', 'ClmProcedureCode_1',\n",
    "       'ClmProcedureCode_2', 'ClmProcedureCode_3', 'ClmProcedureCode_4',\n",
    "       'ClmProcedureCode_5', 'ClmProcedureCode_6', 'DeductibleAmtPaid',\n",
    "       'ClmAdmitDiagnosisCode']\n",
    "                              ,how='outer')\n",
    "\n",
    "\n",
    "Test_Allpatientdata=pd.merge(Test_Outpatientdata,Test_Inpatientdata,\n",
    "                              left_on=['BeneID', 'ClaimID', 'ClaimStartDt', 'ClaimEndDt', 'Provider',\n",
    "       'InscClaimAmtReimbursed', 'AttendingPhysician', 'OperatingPhysician',\n",
    "       'OtherPhysician', 'ClmDiagnosisCode_1', 'ClmDiagnosisCode_2',\n",
    "       'ClmDiagnosisCode_3', 'ClmDiagnosisCode_4', 'ClmDiagnosisCode_5',\n",
    "       'ClmDiagnosisCode_6', 'ClmDiagnosisCode_7', 'ClmDiagnosisCode_8',\n",
    "       'ClmDiagnosisCode_9', 'ClmDiagnosisCode_10', 'ClmProcedureCode_1',\n",
    "       'ClmProcedureCode_2', 'ClmProcedureCode_3', 'ClmProcedureCode_4',\n",
    "       'ClmProcedureCode_5', 'ClmProcedureCode_6', 'DeductibleAmtPaid',\n",
    "       'ClmAdmitDiagnosisCode'],\n",
    "                              right_on=['BeneID', 'ClaimID', 'ClaimStartDt', 'ClaimEndDt', 'Provider',\n",
    "       'InscClaimAmtReimbursed', 'AttendingPhysician', 'OperatingPhysician',\n",
    "       'OtherPhysician', 'ClmDiagnosisCode_1', 'ClmDiagnosisCode_2',\n",
    "       'ClmDiagnosisCode_3', 'ClmDiagnosisCode_4', 'ClmDiagnosisCode_5',\n",
    "       'ClmDiagnosisCode_6', 'ClmDiagnosisCode_7', 'ClmDiagnosisCode_8',\n",
    "       'ClmDiagnosisCode_9', 'ClmDiagnosisCode_10', 'ClmProcedureCode_1',\n",
    "       'ClmProcedureCode_2', 'ClmProcedureCode_3', 'ClmProcedureCode_4',\n",
    "       'ClmProcedureCode_5', 'ClmProcedureCode_6', 'DeductibleAmtPaid',\n",
    "       'ClmAdmitDiagnosisCode']\n",
    "                              ,how='outer')\n"
   ]
  },
  {
   "cell_type": "code",
   "execution_count": 363,
   "metadata": {},
   "outputs": [
    {
     "name": "stdout",
     "output_type": "stream",
     "text": [
      "Train_Allpatientdata (558211, 31)\n",
      "Test_Allpatientdata (135392, 31)\n"
     ]
    }
   ],
   "source": [
    "print('Train_Allpatientdata',Train_Allpatientdata.shape)\n",
    "print('Test_Allpatientdata',Test_Allpatientdata.shape)"
   ]
  },
  {
   "cell_type": "code",
   "execution_count": 364,
   "metadata": {},
   "outputs": [
    {
     "data": {
      "text/html": [
       "<div>\n",
       "<style scoped>\n",
       "    .dataframe tbody tr th:only-of-type {\n",
       "        vertical-align: middle;\n",
       "    }\n",
       "\n",
       "    .dataframe tbody tr th {\n",
       "        vertical-align: top;\n",
       "    }\n",
       "\n",
       "    .dataframe thead th {\n",
       "        text-align: right;\n",
       "    }\n",
       "</style>\n",
       "<table border=\"1\" class=\"dataframe\">\n",
       "  <thead>\n",
       "    <tr style=\"text-align: right;\">\n",
       "      <th></th>\n",
       "      <th>BeneID</th>\n",
       "      <th>ClaimID</th>\n",
       "      <th>ClaimStartDt</th>\n",
       "      <th>ClaimEndDt</th>\n",
       "      <th>Provider</th>\n",
       "      <th>InscClaimAmtReimbursed</th>\n",
       "      <th>AttendingPhysician</th>\n",
       "      <th>OperatingPhysician</th>\n",
       "      <th>OtherPhysician</th>\n",
       "      <th>ClmDiagnosisCode_1</th>\n",
       "      <th>...</th>\n",
       "      <th>ClmProcedureCode_3</th>\n",
       "      <th>ClmProcedureCode_4</th>\n",
       "      <th>ClmProcedureCode_5</th>\n",
       "      <th>ClmProcedureCode_6</th>\n",
       "      <th>DeductibleAmtPaid</th>\n",
       "      <th>ClmAdmitDiagnosisCode</th>\n",
       "      <th>AdmissionDt</th>\n",
       "      <th>DischargeDt</th>\n",
       "      <th>DiagnosisGroupCode</th>\n",
       "      <th>AdmitForDays</th>\n",
       "    </tr>\n",
       "  </thead>\n",
       "  <tbody>\n",
       "    <tr>\n",
       "      <th>0</th>\n",
       "      <td>BENE11001</td>\n",
       "      <td>CLM392397</td>\n",
       "      <td>2009-06-02</td>\n",
       "      <td>2009-06-02</td>\n",
       "      <td>PRV55962</td>\n",
       "      <td>30</td>\n",
       "      <td>PHY347633</td>\n",
       "      <td>NaN</td>\n",
       "      <td>PHY347633</td>\n",
       "      <td>V5832</td>\n",
       "      <td>...</td>\n",
       "      <td>NaN</td>\n",
       "      <td>NaN</td>\n",
       "      <td>NaN</td>\n",
       "      <td>NaN</td>\n",
       "      <td>0.0</td>\n",
       "      <td>NaN</td>\n",
       "      <td>NaT</td>\n",
       "      <td>NaT</td>\n",
       "      <td>NaN</td>\n",
       "      <td>NaN</td>\n",
       "    </tr>\n",
       "    <tr>\n",
       "      <th>1</th>\n",
       "      <td>BENE11001</td>\n",
       "      <td>CLM430760</td>\n",
       "      <td>2009-06-23</td>\n",
       "      <td>2009-06-23</td>\n",
       "      <td>PRV56112</td>\n",
       "      <td>30</td>\n",
       "      <td>PHY381777</td>\n",
       "      <td>NaN</td>\n",
       "      <td>PHY381777</td>\n",
       "      <td>9594</td>\n",
       "      <td>...</td>\n",
       "      <td>NaN</td>\n",
       "      <td>NaN</td>\n",
       "      <td>NaN</td>\n",
       "      <td>NaN</td>\n",
       "      <td>0.0</td>\n",
       "      <td>NaN</td>\n",
       "      <td>NaT</td>\n",
       "      <td>NaT</td>\n",
       "      <td>NaN</td>\n",
       "      <td>NaN</td>\n",
       "    </tr>\n",
       "    <tr>\n",
       "      <th>2</th>\n",
       "      <td>BENE11007</td>\n",
       "      <td>CLM233081</td>\n",
       "      <td>2009-03-07</td>\n",
       "      <td>2009-03-07</td>\n",
       "      <td>PRV56979</td>\n",
       "      <td>200</td>\n",
       "      <td>PHY425311</td>\n",
       "      <td>NaN</td>\n",
       "      <td>PHY425311</td>\n",
       "      <td>7248</td>\n",
       "      <td>...</td>\n",
       "      <td>NaN</td>\n",
       "      <td>NaN</td>\n",
       "      <td>NaN</td>\n",
       "      <td>NaN</td>\n",
       "      <td>0.0</td>\n",
       "      <td>NaN</td>\n",
       "      <td>NaT</td>\n",
       "      <td>NaT</td>\n",
       "      <td>NaN</td>\n",
       "      <td>NaN</td>\n",
       "    </tr>\n",
       "    <tr>\n",
       "      <th>3</th>\n",
       "      <td>BENE11007</td>\n",
       "      <td>CLM496381</td>\n",
       "      <td>2009-07-29</td>\n",
       "      <td>2009-07-29</td>\n",
       "      <td>PRV56573</td>\n",
       "      <td>10</td>\n",
       "      <td>PHY393253</td>\n",
       "      <td>PHY347995</td>\n",
       "      <td>NaN</td>\n",
       "      <td>58889</td>\n",
       "      <td>...</td>\n",
       "      <td>NaN</td>\n",
       "      <td>NaN</td>\n",
       "      <td>NaN</td>\n",
       "      <td>NaN</td>\n",
       "      <td>0.0</td>\n",
       "      <td>5939</td>\n",
       "      <td>NaT</td>\n",
       "      <td>NaT</td>\n",
       "      <td>NaN</td>\n",
       "      <td>NaN</td>\n",
       "    </tr>\n",
       "  </tbody>\n",
       "</table>\n",
       "<p>4 rows × 31 columns</p>\n",
       "</div>"
      ],
      "text/plain": [
       "      BeneID    ClaimID ClaimStartDt  ClaimEndDt  Provider  \\\n",
       "0  BENE11001  CLM392397   2009-06-02  2009-06-02  PRV55962   \n",
       "1  BENE11001  CLM430760   2009-06-23  2009-06-23  PRV56112   \n",
       "2  BENE11007  CLM233081   2009-03-07  2009-03-07  PRV56979   \n",
       "3  BENE11007  CLM496381   2009-07-29  2009-07-29  PRV56573   \n",
       "\n",
       "   InscClaimAmtReimbursed AttendingPhysician OperatingPhysician  \\\n",
       "0                      30          PHY347633                NaN   \n",
       "1                      30          PHY381777                NaN   \n",
       "2                     200          PHY425311                NaN   \n",
       "3                      10          PHY393253          PHY347995   \n",
       "\n",
       "  OtherPhysician ClmDiagnosisCode_1  ... ClmProcedureCode_3  \\\n",
       "0      PHY347633              V5832  ...                NaN   \n",
       "1      PHY381777               9594  ...                NaN   \n",
       "2      PHY425311               7248  ...                NaN   \n",
       "3            NaN              58889  ...                NaN   \n",
       "\n",
       "  ClmProcedureCode_4 ClmProcedureCode_5 ClmProcedureCode_6 DeductibleAmtPaid  \\\n",
       "0                NaN                NaN                NaN               0.0   \n",
       "1                NaN                NaN                NaN               0.0   \n",
       "2                NaN                NaN                NaN               0.0   \n",
       "3                NaN                NaN                NaN               0.0   \n",
       "\n",
       "  ClmAdmitDiagnosisCode AdmissionDt DischargeDt DiagnosisGroupCode  \\\n",
       "0                   NaN         NaT         NaT                NaN   \n",
       "1                   NaN         NaT         NaT                NaN   \n",
       "2                   NaN         NaT         NaT                NaN   \n",
       "3                  5939         NaT         NaT                NaN   \n",
       "\n",
       "   AdmitForDays  \n",
       "0           NaN  \n",
       "1           NaN  \n",
       "2           NaN  \n",
       "3           NaN  \n",
       "\n",
       "[4 rows x 31 columns]"
      ]
     },
     "execution_count": 364,
     "metadata": {},
     "output_type": "execute_result"
    }
   ],
   "source": [
    "Train_Allpatientdata.head(4)\n",
    "Test_Allpatientdata.head(4)"
   ]
  },
  {
   "cell_type": "markdown",
   "metadata": {},
   "source": [
    "**Merge Beneficiary details to All Patients data**"
   ]
  },
  {
   "cell_type": "code",
   "execution_count": 365,
   "metadata": {},
   "outputs": [],
   "source": [
    "## Lets merge All patient data with beneficiary details data based on 'BeneID' as joining key for inner join\n",
    "Train_AllPatientDetailsdata=pd.merge(Train_Allpatientdata,Train_Beneficiarydata,left_on='BeneID',right_on='BeneID',how='inner')\n",
    "\n",
    "Test_AllPatientDetailsdata=pd.merge(Test_Allpatientdata,Test_Beneficiarydata,left_on='BeneID',right_on='BeneID',how='inner')"
   ]
  },
  {
   "cell_type": "code",
   "execution_count": 366,
   "metadata": {},
   "outputs": [
    {
     "name": "stdout",
     "output_type": "stream",
     "text": [
      "Shape of All Patient Details Train :  (558211, 57)\n",
      "Shape of All Patient Details Test :  (135392, 57)\n"
     ]
    },
    {
     "data": {
      "text/html": [
       "<div>\n",
       "<style scoped>\n",
       "    .dataframe tbody tr th:only-of-type {\n",
       "        vertical-align: middle;\n",
       "    }\n",
       "\n",
       "    .dataframe tbody tr th {\n",
       "        vertical-align: top;\n",
       "    }\n",
       "\n",
       "    .dataframe thead th {\n",
       "        text-align: right;\n",
       "    }\n",
       "</style>\n",
       "<table border=\"1\" class=\"dataframe\">\n",
       "  <thead>\n",
       "    <tr style=\"text-align: right;\">\n",
       "      <th></th>\n",
       "      <th>BeneID</th>\n",
       "      <th>ClaimID</th>\n",
       "      <th>ClaimStartDt</th>\n",
       "      <th>ClaimEndDt</th>\n",
       "      <th>Provider</th>\n",
       "      <th>InscClaimAmtReimbursed</th>\n",
       "      <th>AttendingPhysician</th>\n",
       "      <th>OperatingPhysician</th>\n",
       "      <th>OtherPhysician</th>\n",
       "      <th>ClmDiagnosisCode_1</th>\n",
       "      <th>...</th>\n",
       "      <th>ChronicCond_IschemicHeart</th>\n",
       "      <th>ChronicCond_Osteoporasis</th>\n",
       "      <th>ChronicCond_rheumatoidarthritis</th>\n",
       "      <th>ChronicCond_stroke</th>\n",
       "      <th>IPAnnualReimbursementAmt</th>\n",
       "      <th>IPAnnualDeductibleAmt</th>\n",
       "      <th>OPAnnualReimbursementAmt</th>\n",
       "      <th>OPAnnualDeductibleAmt</th>\n",
       "      <th>Age</th>\n",
       "      <th>WhetherDead</th>\n",
       "    </tr>\n",
       "  </thead>\n",
       "  <tbody>\n",
       "    <tr>\n",
       "      <th>0</th>\n",
       "      <td>BENE11001</td>\n",
       "      <td>CLM392397</td>\n",
       "      <td>2009-06-02</td>\n",
       "      <td>2009-06-02</td>\n",
       "      <td>PRV55962</td>\n",
       "      <td>30</td>\n",
       "      <td>PHY347633</td>\n",
       "      <td>NaN</td>\n",
       "      <td>PHY347633</td>\n",
       "      <td>V5832</td>\n",
       "      <td>...</td>\n",
       "      <td>1</td>\n",
       "      <td>0</td>\n",
       "      <td>1</td>\n",
       "      <td>1</td>\n",
       "      <td>36000</td>\n",
       "      <td>3204</td>\n",
       "      <td>60</td>\n",
       "      <td>70</td>\n",
       "      <td>67.0</td>\n",
       "      <td>0.0</td>\n",
       "    </tr>\n",
       "    <tr>\n",
       "      <th>1</th>\n",
       "      <td>BENE11001</td>\n",
       "      <td>CLM430760</td>\n",
       "      <td>2009-06-23</td>\n",
       "      <td>2009-06-23</td>\n",
       "      <td>PRV56112</td>\n",
       "      <td>30</td>\n",
       "      <td>PHY381777</td>\n",
       "      <td>NaN</td>\n",
       "      <td>PHY381777</td>\n",
       "      <td>9594</td>\n",
       "      <td>...</td>\n",
       "      <td>1</td>\n",
       "      <td>0</td>\n",
       "      <td>1</td>\n",
       "      <td>1</td>\n",
       "      <td>36000</td>\n",
       "      <td>3204</td>\n",
       "      <td>60</td>\n",
       "      <td>70</td>\n",
       "      <td>67.0</td>\n",
       "      <td>0.0</td>\n",
       "    </tr>\n",
       "  </tbody>\n",
       "</table>\n",
       "<p>2 rows × 57 columns</p>\n",
       "</div>"
      ],
      "text/plain": [
       "      BeneID    ClaimID ClaimStartDt  ClaimEndDt  Provider  \\\n",
       "0  BENE11001  CLM392397   2009-06-02  2009-06-02  PRV55962   \n",
       "1  BENE11001  CLM430760   2009-06-23  2009-06-23  PRV56112   \n",
       "\n",
       "   InscClaimAmtReimbursed AttendingPhysician OperatingPhysician  \\\n",
       "0                      30          PHY347633                NaN   \n",
       "1                      30          PHY381777                NaN   \n",
       "\n",
       "  OtherPhysician ClmDiagnosisCode_1  ... ChronicCond_IschemicHeart  \\\n",
       "0      PHY347633              V5832  ...                         1   \n",
       "1      PHY381777               9594  ...                         1   \n",
       "\n",
       "  ChronicCond_Osteoporasis ChronicCond_rheumatoidarthritis ChronicCond_stroke  \\\n",
       "0                        0                               1                  1   \n",
       "1                        0                               1                  1   \n",
       "\n",
       "  IPAnnualReimbursementAmt IPAnnualDeductibleAmt OPAnnualReimbursementAmt  \\\n",
       "0                    36000                  3204                       60   \n",
       "1                    36000                  3204                       60   \n",
       "\n",
       "  OPAnnualDeductibleAmt   Age  WhetherDead  \n",
       "0                    70  67.0          0.0  \n",
       "1                    70  67.0          0.0  \n",
       "\n",
       "[2 rows x 57 columns]"
      ]
     },
     "execution_count": 366,
     "metadata": {},
     "output_type": "execute_result"
    }
   ],
   "source": [
    "## Lets Print shape of data \n",
    "print('Shape of All Patient Details Train : ',Train_AllPatientDetailsdata.shape)\n",
    "Train_AllPatientDetailsdata.head()\n",
    "\n",
    "print('Shape of All Patient Details Test : ',Test_AllPatientDetailsdata.shape)\n",
    "Test_AllPatientDetailsdata.head(2)"
   ]
  },
  {
   "cell_type": "markdown",
   "metadata": {},
   "source": [
    "**Merge PotentialFraud details for each provider to create ProviderWithPatientDetails data**"
   ]
  },
  {
   "cell_type": "code",
   "execution_count": 367,
   "metadata": {},
   "outputs": [],
   "source": [
    "# Lets merge patient data with fradulent providers details data with \"Provider\" as joining key for inner join\n",
    "\n",
    "Train_ProviderWithPatientDetailsdata=pd.merge(Train,Train_AllPatientDetailsdata,on='Provider')\n",
    "\n",
    "Test_ProviderWithPatientDetailsdata=pd.merge(Test,Test_AllPatientDetailsdata,on='Provider')"
   ]
  },
  {
   "cell_type": "code",
   "execution_count": 368,
   "metadata": {},
   "outputs": [
    {
     "name": "stdout",
     "output_type": "stream",
     "text": [
      "Shape of Train Provider with Patient Details data :- (558211, 58)\n",
      "Shape of Test Provider with Patient Details data :- (135392, 57)\n"
     ]
    },
    {
     "data": {
      "text/html": [
       "<div>\n",
       "<style scoped>\n",
       "    .dataframe tbody tr th:only-of-type {\n",
       "        vertical-align: middle;\n",
       "    }\n",
       "\n",
       "    .dataframe tbody tr th {\n",
       "        vertical-align: top;\n",
       "    }\n",
       "\n",
       "    .dataframe thead th {\n",
       "        text-align: right;\n",
       "    }\n",
       "</style>\n",
       "<table border=\"1\" class=\"dataframe\">\n",
       "  <thead>\n",
       "    <tr style=\"text-align: right;\">\n",
       "      <th></th>\n",
       "      <th>Provider</th>\n",
       "      <th>BeneID</th>\n",
       "      <th>ClaimID</th>\n",
       "      <th>ClaimStartDt</th>\n",
       "      <th>ClaimEndDt</th>\n",
       "      <th>InscClaimAmtReimbursed</th>\n",
       "      <th>AttendingPhysician</th>\n",
       "      <th>OperatingPhysician</th>\n",
       "      <th>OtherPhysician</th>\n",
       "      <th>ClmDiagnosisCode_1</th>\n",
       "      <th>...</th>\n",
       "      <th>ChronicCond_IschemicHeart</th>\n",
       "      <th>ChronicCond_Osteoporasis</th>\n",
       "      <th>ChronicCond_rheumatoidarthritis</th>\n",
       "      <th>ChronicCond_stroke</th>\n",
       "      <th>IPAnnualReimbursementAmt</th>\n",
       "      <th>IPAnnualDeductibleAmt</th>\n",
       "      <th>OPAnnualReimbursementAmt</th>\n",
       "      <th>OPAnnualDeductibleAmt</th>\n",
       "      <th>Age</th>\n",
       "      <th>WhetherDead</th>\n",
       "    </tr>\n",
       "  </thead>\n",
       "  <tbody>\n",
       "    <tr>\n",
       "      <th>0</th>\n",
       "      <td>PRV51002</td>\n",
       "      <td>BENE13342</td>\n",
       "      <td>CLM129901</td>\n",
       "      <td>2009-01-10</td>\n",
       "      <td>2009-01-10</td>\n",
       "      <td>100</td>\n",
       "      <td>PHY418314</td>\n",
       "      <td>PHY418314</td>\n",
       "      <td>PHY413853</td>\n",
       "      <td>514</td>\n",
       "      <td>...</td>\n",
       "      <td>0</td>\n",
       "      <td>0</td>\n",
       "      <td>0</td>\n",
       "      <td>0</td>\n",
       "      <td>0</td>\n",
       "      <td>0</td>\n",
       "      <td>1310</td>\n",
       "      <td>590</td>\n",
       "      <td>75.0</td>\n",
       "      <td>0.0</td>\n",
       "    </tr>\n",
       "    <tr>\n",
       "      <th>1</th>\n",
       "      <td>PRV51002</td>\n",
       "      <td>BENE13915</td>\n",
       "      <td>CLM163936</td>\n",
       "      <td>2009-01-29</td>\n",
       "      <td>2009-01-29</td>\n",
       "      <td>40</td>\n",
       "      <td>PHY399539</td>\n",
       "      <td>PHY421140</td>\n",
       "      <td>NaN</td>\n",
       "      <td>7840</td>\n",
       "      <td>...</td>\n",
       "      <td>1</td>\n",
       "      <td>0</td>\n",
       "      <td>0</td>\n",
       "      <td>0</td>\n",
       "      <td>22000</td>\n",
       "      <td>3204</td>\n",
       "      <td>1020</td>\n",
       "      <td>910</td>\n",
       "      <td>89.0</td>\n",
       "      <td>0.0</td>\n",
       "    </tr>\n",
       "  </tbody>\n",
       "</table>\n",
       "<p>2 rows × 57 columns</p>\n",
       "</div>"
      ],
      "text/plain": [
       "   Provider     BeneID    ClaimID ClaimStartDt  ClaimEndDt  \\\n",
       "0  PRV51002  BENE13342  CLM129901   2009-01-10  2009-01-10   \n",
       "1  PRV51002  BENE13915  CLM163936   2009-01-29  2009-01-29   \n",
       "\n",
       "   InscClaimAmtReimbursed AttendingPhysician OperatingPhysician  \\\n",
       "0                     100          PHY418314          PHY418314   \n",
       "1                      40          PHY399539          PHY421140   \n",
       "\n",
       "  OtherPhysician ClmDiagnosisCode_1  ... ChronicCond_IschemicHeart  \\\n",
       "0      PHY413853                514  ...                         0   \n",
       "1            NaN               7840  ...                         1   \n",
       "\n",
       "  ChronicCond_Osteoporasis ChronicCond_rheumatoidarthritis ChronicCond_stroke  \\\n",
       "0                        0                               0                  0   \n",
       "1                        0                               0                  0   \n",
       "\n",
       "  IPAnnualReimbursementAmt IPAnnualDeductibleAmt OPAnnualReimbursementAmt  \\\n",
       "0                        0                     0                     1310   \n",
       "1                    22000                  3204                     1020   \n",
       "\n",
       "  OPAnnualDeductibleAmt   Age  WhetherDead  \n",
       "0                   590  75.0          0.0  \n",
       "1                   910  89.0          0.0  \n",
       "\n",
       "[2 rows x 57 columns]"
      ]
     },
     "execution_count": 368,
     "metadata": {},
     "output_type": "execute_result"
    }
   ],
   "source": [
    "## Lets Print the shape of dataset \n",
    "print(\"Shape of Train Provider with Patient Details data :-\",Train_ProviderWithPatientDetailsdata.shape)\n",
    "Train_ProviderWithPatientDetailsdata.head()\n",
    "\n",
    "print(\"Shape of Test Provider with Patient Details data :-\",Test_ProviderWithPatientDetailsdata.shape)\n",
    "Test_ProviderWithPatientDetailsdata.head(2)"
   ]
  },
  {
   "cell_type": "code",
   "execution_count": 369,
   "metadata": {},
   "outputs": [
    {
     "name": "stdout",
     "output_type": "stream",
     "text": [
      "Percent missing values in Test Provider with patient details data :\n",
      "\n"
     ]
    },
    {
     "data": {
      "text/plain": [
       "Provider                             0.000000\n",
       "BeneID                               0.000000\n",
       "ClaimID                              0.000000\n",
       "ClaimStartDt                         0.000000\n",
       "ClaimEndDt                           0.000000\n",
       "InscClaimAmtReimbursed               0.000000\n",
       "AttendingPhysician                   0.256293\n",
       "OperatingPhysician                  79.915357\n",
       "OtherPhysician                      64.080596\n",
       "ClmDiagnosisCode_1                   1.904101\n",
       "ClmDiagnosisCode_2                  35.293814\n",
       "ClmDiagnosisCode_3                  56.682817\n",
       "ClmDiagnosisCode_4                  70.739039\n",
       "ClmDiagnosisCode_5                  80.207102\n",
       "ClmDiagnosisCode_6                  85.109903\n",
       "ClmDiagnosisCode_7                  88.341261\n",
       "ClmDiagnosisCode_8                  90.603581\n",
       "ClmDiagnosisCode_9                  92.705625\n",
       "ClmDiagnosisCode_10                 99.150615\n",
       "ClmProcedureCode_1                  95.962095\n",
       "ClmProcedureCode_2                  99.067153\n",
       "ClmProcedureCode_3                  99.833816\n",
       "ClmProcedureCode_4                  99.978581\n",
       "ClmProcedureCode_5                  99.998523\n",
       "ClmProcedureCode_6                 100.000000\n",
       "DeductibleAmtPaid                    0.144765\n",
       "ClmAdmitDiagnosisCode               73.886197\n",
       "AdmissionDt                         92.945669\n",
       "DischargeDt                         92.945669\n",
       "DiagnosisGroupCode                  92.945669\n",
       "AdmitForDays                        92.945669\n",
       "DOB                                  0.000000\n",
       "DOD                                 99.231860\n",
       "Gender                               0.000000\n",
       "Race                                 0.000000\n",
       "RenalDiseaseIndicator                0.000000\n",
       "State                                0.000000\n",
       "County                               0.000000\n",
       "NoOfMonths_PartACov                  0.000000\n",
       "NoOfMonths_PartBCov                  0.000000\n",
       "ChronicCond_Alzheimer                0.000000\n",
       "ChronicCond_Heartfailure             0.000000\n",
       "ChronicCond_KidneyDisease            0.000000\n",
       "ChronicCond_Cancer                   0.000000\n",
       "ChronicCond_ObstrPulmonary           0.000000\n",
       "ChronicCond_Depression               0.000000\n",
       "ChronicCond_Diabetes                 0.000000\n",
       "ChronicCond_IschemicHeart            0.000000\n",
       "ChronicCond_Osteoporasis             0.000000\n",
       "ChronicCond_rheumatoidarthritis      0.000000\n",
       "ChronicCond_stroke                   0.000000\n",
       "IPAnnualReimbursementAmt             0.000000\n",
       "IPAnnualDeductibleAmt                0.000000\n",
       "OPAnnualReimbursementAmt             0.000000\n",
       "OPAnnualDeductibleAmt                0.000000\n",
       "Age                                  0.000000\n",
       "WhetherDead                          0.000000\n",
       "dtype: float64"
      ]
     },
     "execution_count": 369,
     "metadata": {},
     "output_type": "execute_result"
    }
   ],
   "source": [
    "### Lets check missing value percentage in full datasets\n",
    "\n",
    "#print('Percent missing values in Train Provider with patient details data :\\n')\n",
    "Train_ProviderWithPatientDetailsdata.isnull().sum()*100/len(Train_ProviderWithPatientDetailsdata)\n",
    "\n",
    "\n",
    "print('Percent missing values in Test Provider with patient details data :\\n')\n",
    "Test_ProviderWithPatientDetailsdata.isnull().sum()*100/len(Test_ProviderWithPatientDetailsdata)"
   ]
  },
  {
   "cell_type": "markdown",
   "metadata": {},
   "source": [
    "### Data Exploration"
   ]
  },
  {
   "cell_type": "markdown",
   "metadata": {},
   "source": [
    "**Plot Potential fraud class proportion in both Train and Merged data**"
   ]
  },
  {
   "cell_type": "code",
   "execution_count": 370,
   "metadata": {},
   "outputs": [
    {
     "name": "stdout",
     "output_type": "stream",
     "text": [
      "Percent Distribution of Potential Fraud class:- \n",
      " No     61.878931\n",
      "Yes    38.121069\n",
      "Name: PotentialFraud, dtype: float64\n"
     ]
    },
    {
     "data": {
      "image/png": "[encoded data removed]",
      "text/plain": [
       "<Figure size 720x432 with 1 Axes>"
      ]
     },
     "metadata": {},
     "output_type": "display_data"
    }
   ],
   "source": [
    "#PLotting the frequencies of fraud and non-fraud Merged transactions in the data\n",
    "\n",
    "sns.set_style('white',rc={'figure.figsize':(12,8)})\n",
    "count_classes = pd.value_counts(Train_ProviderWithPatientDetailsdata['PotentialFraud'], sort = True)\n",
    "print(\"Percent Distribution of Potential Fraud class:- \\n\",count_classes*100/len(Train_ProviderWithPatientDetailsdata))\n",
    "LABELS = [\"Non Fraud\", \"Fraud\"]\n",
    "#Drawing a barplot\n",
    "count_classes.plot(kind = 'bar', rot=0,figsize=(10,6))\n",
    "\n",
    "#Giving titles and labels to the plot\n",
    "plt.title(\"Potential Fraud distribution in Aggregated claim transactional data\")\n",
    "plt.xticks(range(2), LABELS)\n",
    "plt.xlabel(\"Potential Fraud Class \")\n",
    "plt.ylabel(\"Number of PotentialFraud per Class \")\n",
    "\n",
    "plt.savefig('PotentialFraudDistributionInMergedData')"
   ]
  },
  {
   "cell_type": "code",
   "execution_count": 371,
   "metadata": {},
   "outputs": [
    {
     "name": "stdout",
     "output_type": "stream",
     "text": [
      "Percent Distribution of Potential Fraud class:- \n",
      " No     90.64695\n",
      "Yes     9.35305\n",
      "Name: PotentialFraud, dtype: float64\n"
     ]
    },
    {
     "data": {
      "image/png": "[encoded data removed]",
      "text/plain": [
       "<Figure size 720x432 with 1 Axes>"
      ]
     },
     "metadata": {},
     "output_type": "display_data"
    }
   ],
   "source": [
    "#PLotting the frequencies of fraud and non-fraud transactions in the train data\n",
    "\n",
    "count_classes_provider = pd.value_counts(Train['PotentialFraud'], sort = True)\n",
    "print(\"Percent Distribution of Potential Fraud class:- \\n\",count_classes_provider*100/len(Train))\n",
    "LABELS = [\"Non Fraud\", \"Fraud\"]\n",
    "#Drawing a barplot\n",
    "count_classes_provider.plot(kind = 'bar', rot=0,figsize=(10,6))\n",
    "\n",
    "#Giving titles and labels to the plot\n",
    "plt.title(\"Potential Fraud distribution in individual Providers data\")\n",
    "plt.xticks(range(2), LABELS)\n",
    "plt.xlabel(\"Potential Fraud Class \")\n",
    "plt.ylabel(\"Number of PotentialFraud per Class \")\n",
    "\n",
    "\n",
    "plt.savefig('PotentialFraudDistributionImbalance')"
   ]
  },
  {
   "cell_type": "markdown",
   "metadata": {},
   "source": [
    "**State - wise Percent Beneficiary Distribution**"
   ]
  },
  {
   "cell_type": "code",
   "execution_count": 372,
   "metadata": {},
   "outputs": [
    {
     "data": {
      "image/png": "[encoded data removed]",
      "text/plain": [
       "<Figure size 1152x576 with 1 Axes>"
      ]
     },
     "metadata": {},
     "output_type": "display_data"
    },
    {
     "data": {
      "text/plain": [
       "<Figure size 1008x576 with 0 Axes>"
      ]
     },
     "metadata": {},
     "output_type": "display_data"
    }
   ],
   "source": [
    "#PLotting the frequencies of Statewise beneficiaries\n",
    "count_States = pd.value_counts(Train_Beneficiarydata['State'], sort = True)\n",
    "#print(\"Percent Distribution of Beneficieries per state:- \\n\",count_States*100/len(Train_Beneficiarydata))\n",
    "\n",
    "#Drawing a barplot\n",
    "(count_States*100/len(Train_Beneficiarydata)).plot(kind = 'bar', rot=0,figsize=(16,8),fontsize=12,legend=True)\n",
    "\n",
    "#Giving titles and labels to the plot\n",
    "\n",
    "plt.annotate('Maximum Beneficiaries are from this State', xy=(0.01,8), xytext=(8, 6.5),\n",
    "             arrowprops=dict(facecolor='black', shrink=0.05))\n",
    "\n",
    "plt.yticks(np.arange(0,10,2), ('0 %','2 %', '4 %', '6 %', '8 %', '10%'))\n",
    "plt.title(\"State - wise Beneficiary Distribution\",fontsize=18)\n",
    "plt.xlabel(\"State Number\",fontsize=15)\n",
    "plt.ylabel(\"Percentage of Beneficiaries \"'%',fontsize=15)\n",
    "plt.show()\n",
    "\n",
    "plt.savefig('StateWiseBeneficiaryDistribution')"
   ]
  },
  {
   "cell_type": "markdown",
   "metadata": {},
   "source": [
    "**Above Plot shows top states with their beneficiary percentage distribution.States 5,10,45 are top states in terms of beneficiary percentage**\n",
    "\n",
    "****Race-wise Percent Distribution of Beneficiaries****"
   ]
  },
  {
   "cell_type": "code",
   "execution_count": 373,
   "metadata": {},
   "outputs": [
    {
     "data": {
      "image/png": "[encoded data removed]",
      "text/plain": [
       "<Figure size 720x432 with 1 Axes>"
      ]
     },
     "metadata": {},
     "output_type": "display_data"
    },
    {
     "data": {
      "text/plain": [
       "<Figure size 1008x576 with 0 Axes>"
      ]
     },
     "metadata": {},
     "output_type": "display_data"
    }
   ],
   "source": [
    "#PLotting the frequencies of race-wise beneficiaries\n",
    "count_Race = pd.value_counts(Train_Beneficiarydata['Race'], sort = True)\n",
    "\n",
    "#Drawing a barplot\n",
    "(count_Race*100/len(Train_Beneficiarydata)).plot(kind = 'bar', rot=0,figsize=(10,6),fontsize=12)\n",
    "\n",
    "#Giving titles and labels to the plot\n",
    "plt.yticks(np.arange(0,100,20))#, ('0 %','20 %', '40 %', '60 %', '80 %', '100%'))\n",
    "plt.title(\"Race - wise Beneficiary Distribution\",fontsize=18)\n",
    "plt.xlabel(\"Race Code\",fontsize=15)\n",
    "plt.ylabel(\"Percentage of Beneficiaries \"'%',fontsize=15)\n",
    "\n",
    "plt.show()\n",
    "\n",
    "plt.savefig('RacewiseBeneficiaryDistribution')"
   ]
  },
  {
   "cell_type": "markdown",
   "metadata": {},
   "source": [
    "It seems that more than 80% beneficiaries are of same race which is Race 1 which means Maximum population in the dataset originated from same race. There is no race 4 in the dataset"
   ]
  },
  {
   "cell_type": "markdown",
   "metadata": {},
   "source": [
    "****Top-10 Procedures involved in Healthcare Fraud****"
   ]
  },
  {
   "cell_type": "code",
   "execution_count": 375,
   "metadata": {},
   "outputs": [
    {
     "data": {
      "image/png": "[encoded data removed]",
      "text/plain": [
       "<Figure size 864x576 with 1 Axes>"
      ]
     },
     "metadata": {},
     "output_type": "display_data"
    },
    {
     "data": {
      "text/plain": [
       "<Figure size 864x576 with 0 Axes>"
      ]
     },
     "metadata": {},
     "output_type": "display_data"
    }
   ],
   "source": [
    "## Lets plot countplot for each fraud non fraud categories\n",
    "\n",
    "sns.set(rc={'figure.figsize':(12,8)},style='white')\n",
    "\n",
    "ax=sns.countplot(x='ClmProcedureCode_1',hue='PotentialFraud',data=Train_ProviderWithPatientDetailsdata\n",
    "              ,order=Train_ProviderWithPatientDetailsdata.ClmProcedureCode_1.value_counts().iloc[:10].index)\n",
    "\n",
    "plt.title('Top-10 Procedures invloved in Healthcare Fraud')\n",
    "    \n",
    "plt.show()\n",
    "\n",
    "plt.savefig('TopProceduresinvlovedinHealthcareFraud')"
   ]
  },
  {
   "cell_type": "markdown",
   "metadata": {},
   "source": [
    "From the above plot,we can say that Procedure 9904,8154,66 are top procedures (in terms of money involved).Distribution of fraud and non fraud count shows suspicious transactions involved in them."
   ]
  },
  {
   "cell_type": "markdown",
   "metadata": {},
   "source": [
    "****Top-10 Diagnosis invloved in Healthcare Fraud****"
   ]
  },
  {
   "cell_type": "code",
   "execution_count": 376,
   "metadata": {},
   "outputs": [
    {
     "data": {
      "image/png": "[encoded data removed]",
      "text/plain": [
       "<Figure size 864x576 with 1 Axes>"
      ]
     },
     "metadata": {},
     "output_type": "display_data"
    },
    {
     "data": {
      "text/plain": [
       "<Figure size 864x576 with 0 Axes>"
      ]
     },
     "metadata": {},
     "output_type": "display_data"
    }
   ],
   "source": [
    "## lets plot Top-10 Claim Diagnosis  invloved in Healthcare Fraud\n",
    "\n",
    "sns.set(rc={'figure.figsize':(12,8)},style='white')\n",
    "\n",
    "sns.countplot(x='ClmDiagnosisCode_1',hue='PotentialFraud',data=Train_ProviderWithPatientDetailsdata\n",
    "              ,order=Train_ProviderWithPatientDetailsdata.ClmDiagnosisCode_1.value_counts().iloc[:10].index)\n",
    "\n",
    "plt.title('Top-10 Diagnosis invloved in Healthcare Fraud')\n",
    "plt.show()\n",
    "\n",
    "plt.savefig('TopDiagnosisInnvlovedinHealthcareFraud')"
   ]
  },
  {
   "cell_type": "markdown",
   "metadata": {},
   "source": [
    "From the above plot,we can say that diagnosis 4019,4011,2724 are top diagnosis (in terms of money involved).Distribution of fraud and non fraud counts shows suspicious transactions involved in them."
   ]
  },
  {
   "cell_type": "markdown",
   "metadata": {},
   "source": [
    "****Top-20 Attending Physicians invloved in Healthcare Fraud****"
   ]
  },
  {
   "cell_type": "code",
   "execution_count": 377,
   "metadata": {},
   "outputs": [
    {
     "data": {
      "image/png": "[encoded data removed]",
      "text/plain": [
       "<Figure size 864x576 with 1 Axes>"
      ]
     },
     "metadata": {},
     "output_type": "display_data"
    },
    {
     "data": {
      "text/plain": [
       "<Figure size 864x576 with 0 Axes>"
      ]
     },
     "metadata": {},
     "output_type": "display_data"
    }
   ],
   "source": [
    "### lets plot Top-20 Attending Physicians invloved in Healthcare Fraud \n",
    "\n",
    "sns.set(rc={'figure.figsize':(12,8)},style='white')\n",
    "\n",
    "ax= sns.countplot(x='AttendingPhysician',hue='PotentialFraud',data=Train_ProviderWithPatientDetailsdata\n",
    "              ,order=Train_ProviderWithPatientDetailsdata.AttendingPhysician.value_counts().iloc[:20].index)\n",
    "\n",
    "    \n",
    "plt.title('Top-20 Attending physicians invloved in Healthcare Fraud')\n",
    "plt.xticks(rotation=90)\n",
    "plt.show()\n",
    "\n",
    "plt.savefig('TopAttendingphysiciansinvlovedinHealthcareFraud')"
   ]
  },
  {
   "cell_type": "markdown",
   "metadata": {},
   "source": [
    "In the above plot,we see count of involvement of attending physicians.And flags the nature of provider where they are working is whether fraud or non fraud."
   ]
  },
  {
   "cell_type": "markdown",
   "metadata": {},
   "source": [
    "**IPAnnualDeductibleAmt Vs IPAnnualReimbursementAmt Fraud and non Fraud Categories**"
   ]
  },
  {
   "cell_type": "code",
   "execution_count": 378,
   "metadata": {},
   "outputs": [
    {
     "data": {
      "image/png": "[encoded data removed]",
      "text/plain": [
       "<Figure size 720x360 with 2 Axes>"
      ]
     },
     "metadata": {},
     "output_type": "display_data"
    }
   ],
   "source": [
    "## Lets Plot IPAnnualDeductibleAmt and IPAnnualReimbursementAmt in both fraud and non Fraud Categoories\n",
    "\n",
    "sns.set(rc={'figure.figsize':(12,8)},style='white')\n",
    "\n",
    "sns.lmplot(x='IPAnnualDeductibleAmt',y='IPAnnualReimbursementAmt',hue='PotentialFraud',\n",
    "           col='PotentialFraud',fit_reg=False,data=Train_ProviderWithPatientDetailsdata)\n",
    "\n",
    "\n",
    "#plt.title('IPAnnualDeductibleAmt and IPAnnualReimbursementAmt in both fraud and non Fraud Categoories')\n",
    "\n",
    "plt.savefig('IPAnnualDeductibleAmtandIPAnnualReimbursementAmtinbothfraudandnonFraud')"
   ]
  },
  {
   "cell_type": "markdown",
   "metadata": {},
   "source": [
    "As we see in the above graph,there is no visible difference in IpAnnualDeductibleAmt and IPAnnualReimbursementAmt."
   ]
  },
  {
   "cell_type": "markdown",
   "metadata": {},
   "source": [
    "****DeductibleAmtPaid Vs InsClaimAmtReimbursed in Fraud and non Fraud Categories****"
   ]
  },
  {
   "cell_type": "code",
   "execution_count": 379,
   "metadata": {},
   "outputs": [
    {
     "data": {
      "image/png": "[encoded data removed]",
      "text/plain": [
       "<Figure size 720x360 with 2 Axes>"
      ]
     },
     "metadata": {},
     "output_type": "display_data"
    }
   ],
   "source": [
    "## Lets Plot DeductibleAmtPaid and InsClaimAmtReimbursed in both fraud and non Fraud Categoories\n",
    "\n",
    "sns.set(rc={'figure.figsize':(12,8)},style='white')\n",
    "\n",
    "sns.lmplot(x='DeductibleAmtPaid',y='InscClaimAmtReimbursed',hue='PotentialFraud',\n",
    "           col='PotentialFraud',fit_reg=False,data=Train_ProviderWithPatientDetailsdata)\n",
    "\n",
    "\n",
    "plt.savefig('DeductibleAmtPaidandInsClaimAmtReimbursed')"
   ]
  },
  {
   "cell_type": "markdown",
   "metadata": {},
   "source": [
    "We can not differentiate between fraud and non fraud cases based only on DeductibleAmtPaid and InscClaimAmtReimbursed. This lets us derive more features from datasets."
   ]
  },
  {
   "cell_type": "markdown",
   "metadata": {},
   "source": [
    "**Insurance Claim Amount Reimbursed Vs Age in Fraud and Non Fraud**"
   ]
  },
  {
   "cell_type": "code",
   "execution_count": 380,
   "metadata": {},
   "outputs": [
    {
     "data": {
      "image/png": "[encoded data removed]",
      "text/plain": [
       "<Figure size 864x576 with 2 Axes>"
      ]
     },
     "metadata": {},
     "output_type": "display_data"
    }
   ],
   "source": [
    "## Let's See Insurance Claim Amount Reimbursed Vs Age\n",
    "sns.set(rc={'figure.figsize':(12,8)},style='white')\n",
    "\n",
    "f, (ax1, ax2) = plt.subplots(2, 1, sharex=True)\n",
    "f.suptitle('Insurance Claim Amount Reimbursed Vs Age')\n",
    "\n",
    "ax1.scatter(Train_ProviderWithPatientDetailsdata[Train_ProviderWithPatientDetailsdata.PotentialFraud=='Yes'].Age, \n",
    "            Train_ProviderWithPatientDetailsdata[Train_ProviderWithPatientDetailsdata.PotentialFraud=='Yes'].InscClaimAmtReimbursed)\n",
    "ax1.set_title('Fraud')\n",
    "ax1.axhline(y=60000,c='r')\n",
    "ax1.set_ylabel('Insurance Claim Amout Reimbursed')\n",
    "\n",
    "ax2.scatter(Train_ProviderWithPatientDetailsdata[Train_ProviderWithPatientDetailsdata.PotentialFraud=='No'].Age, \n",
    "            Train_ProviderWithPatientDetailsdata[Train_ProviderWithPatientDetailsdata.PotentialFraud=='No'].InscClaimAmtReimbursed)\n",
    "ax2.set_title('Normal')\n",
    "ax2.axhline(y=60000,c='r')\n",
    "ax2.set_xlabel('Age (in Years)')\n",
    "ax2.set_ylabel('Insurance Claim Amout Reimbursed')\n",
    "\n",
    "plt.show()\n",
    "f.savefig('AgeVsClaimAmtReimbursed')"
   ]
  },
  {
   "cell_type": "markdown",
   "metadata": {},
   "source": [
    "From the above graph,we see that occurance of fraud cases is more frequent in lower age groups(30-70 years) compared to higher age groups(70+ years).Age is one of the important feature for differentiating between fraud and non fraud behaviour."
   ]
  },
  {
   "cell_type": "markdown",
   "metadata": {},
   "source": [
    "## Feature Engineering: Append Train to Test to derive more accurate features."
   ]
  },
  {
   "cell_type": "code",
   "execution_count": 381,
   "metadata": {},
   "outputs": [
    {
     "data": {
      "text/html": [
       "<div>\n",
       "<style scoped>\n",
       "    .dataframe tbody tr th:only-of-type {\n",
       "        vertical-align: middle;\n",
       "    }\n",
       "\n",
       "    .dataframe tbody tr th {\n",
       "        vertical-align: top;\n",
       "    }\n",
       "\n",
       "    .dataframe thead th {\n",
       "        text-align: right;\n",
       "    }\n",
       "</style>\n",
       "<table border=\"1\" class=\"dataframe\">\n",
       "  <thead>\n",
       "    <tr style=\"text-align: right;\">\n",
       "      <th></th>\n",
       "      <th>Provider</th>\n",
       "      <th>BeneID</th>\n",
       "      <th>ClaimID</th>\n",
       "      <th>ClaimStartDt</th>\n",
       "      <th>ClaimEndDt</th>\n",
       "      <th>InscClaimAmtReimbursed</th>\n",
       "      <th>AttendingPhysician</th>\n",
       "      <th>OperatingPhysician</th>\n",
       "      <th>OtherPhysician</th>\n",
       "      <th>ClmDiagnosisCode_1</th>\n",
       "      <th>...</th>\n",
       "      <th>ChronicCond_IschemicHeart</th>\n",
       "      <th>ChronicCond_Osteoporasis</th>\n",
       "      <th>ChronicCond_rheumatoidarthritis</th>\n",
       "      <th>ChronicCond_stroke</th>\n",
       "      <th>IPAnnualReimbursementAmt</th>\n",
       "      <th>IPAnnualDeductibleAmt</th>\n",
       "      <th>OPAnnualReimbursementAmt</th>\n",
       "      <th>OPAnnualDeductibleAmt</th>\n",
       "      <th>Age</th>\n",
       "      <th>WhetherDead</th>\n",
       "    </tr>\n",
       "  </thead>\n",
       "  <tbody>\n",
       "    <tr>\n",
       "      <th>135391</th>\n",
       "      <td>PRV57750</td>\n",
       "      <td>BENE150236</td>\n",
       "      <td>CLM675578</td>\n",
       "      <td>2009-11-10</td>\n",
       "      <td>2009-11-10</td>\n",
       "      <td>200</td>\n",
       "      <td>PHY323525</td>\n",
       "      <td>PHY323525</td>\n",
       "      <td>PHY323525</td>\n",
       "      <td>4788</td>\n",
       "      <td>...</td>\n",
       "      <td>1</td>\n",
       "      <td>0</td>\n",
       "      <td>0</td>\n",
       "      <td>0</td>\n",
       "      <td>0</td>\n",
       "      <td>0</td>\n",
       "      <td>290</td>\n",
       "      <td>1120</td>\n",
       "      <td>67.0</td>\n",
       "      <td>0.0</td>\n",
       "    </tr>\n",
       "  </tbody>\n",
       "</table>\n",
       "<p>1 rows × 57 columns</p>\n",
       "</div>"
      ],
      "text/plain": [
       "        Provider      BeneID    ClaimID ClaimStartDt  ClaimEndDt  \\\n",
       "135391  PRV57750  BENE150236  CLM675578   2009-11-10  2009-11-10   \n",
       "\n",
       "        InscClaimAmtReimbursed AttendingPhysician OperatingPhysician  \\\n",
       "135391                     200          PHY323525          PHY323525   \n",
       "\n",
       "       OtherPhysician ClmDiagnosisCode_1  ... ChronicCond_IschemicHeart  \\\n",
       "135391      PHY323525               4788  ...                         1   \n",
       "\n",
       "       ChronicCond_Osteoporasis ChronicCond_rheumatoidarthritis  \\\n",
       "135391                        0                               0   \n",
       "\n",
       "       ChronicCond_stroke IPAnnualReimbursementAmt IPAnnualDeductibleAmt  \\\n",
       "135391                  0                        0                     0   \n",
       "\n",
       "       OPAnnualReimbursementAmt OPAnnualDeductibleAmt   Age  WhetherDead  \n",
       "135391                      290                  1120  67.0          0.0  \n",
       "\n",
       "[1 rows x 57 columns]"
      ]
     },
     "execution_count": 381,
     "metadata": {},
     "output_type": "execute_result"
    }
   ],
   "source": [
    "# Lets check the last record of Test_ProviderWithPatientDetailsdata\n",
    "\n",
    "Test_ProviderWithPatientDetailsdata.iloc[[135391]]\n"
   ]
  },
  {
   "cell_type": "code",
   "execution_count": 382,
   "metadata": {},
   "outputs": [
    {
     "data": {
      "text/html": [
       "<div>\n",
       "<style scoped>\n",
       "    .dataframe tbody tr th:only-of-type {\n",
       "        vertical-align: middle;\n",
       "    }\n",
       "\n",
       "    .dataframe tbody tr th {\n",
       "        vertical-align: top;\n",
       "    }\n",
       "\n",
       "    .dataframe thead th {\n",
       "        text-align: right;\n",
       "    }\n",
       "</style>\n",
       "<table border=\"1\" class=\"dataframe\">\n",
       "  <thead>\n",
       "    <tr style=\"text-align: right;\">\n",
       "      <th></th>\n",
       "      <th>Provider</th>\n",
       "      <th>PotentialFraud</th>\n",
       "      <th>BeneID</th>\n",
       "      <th>ClaimID</th>\n",
       "      <th>ClaimStartDt</th>\n",
       "      <th>ClaimEndDt</th>\n",
       "      <th>InscClaimAmtReimbursed</th>\n",
       "      <th>AttendingPhysician</th>\n",
       "      <th>OperatingPhysician</th>\n",
       "      <th>OtherPhysician</th>\n",
       "      <th>...</th>\n",
       "      <th>ChronicCond_IschemicHeart</th>\n",
       "      <th>ChronicCond_Osteoporasis</th>\n",
       "      <th>ChronicCond_rheumatoidarthritis</th>\n",
       "      <th>ChronicCond_stroke</th>\n",
       "      <th>IPAnnualReimbursementAmt</th>\n",
       "      <th>IPAnnualDeductibleAmt</th>\n",
       "      <th>OPAnnualReimbursementAmt</th>\n",
       "      <th>OPAnnualDeductibleAmt</th>\n",
       "      <th>Age</th>\n",
       "      <th>WhetherDead</th>\n",
       "    </tr>\n",
       "  </thead>\n",
       "  <tbody>\n",
       "    <tr>\n",
       "      <th>558210</th>\n",
       "      <td>PRV57763</td>\n",
       "      <td>No</td>\n",
       "      <td>BENE158531</td>\n",
       "      <td>CLM701529</td>\n",
       "      <td>2009-11-26</td>\n",
       "      <td>2009-11-26</td>\n",
       "      <td>40</td>\n",
       "      <td>PHY321072</td>\n",
       "      <td>NaN</td>\n",
       "      <td>PHY321072</td>\n",
       "      <td>...</td>\n",
       "      <td>1</td>\n",
       "      <td>0</td>\n",
       "      <td>0</td>\n",
       "      <td>0</td>\n",
       "      <td>0</td>\n",
       "      <td>0</td>\n",
       "      <td>3700</td>\n",
       "      <td>240</td>\n",
       "      <td>58.0</td>\n",
       "      <td>0.0</td>\n",
       "    </tr>\n",
       "  </tbody>\n",
       "</table>\n",
       "<p>1 rows × 58 columns</p>\n",
       "</div>"
      ],
      "text/plain": [
       "        Provider PotentialFraud      BeneID    ClaimID ClaimStartDt  \\\n",
       "558210  PRV57763             No  BENE158531  CLM701529   2009-11-26   \n",
       "\n",
       "        ClaimEndDt  InscClaimAmtReimbursed AttendingPhysician  \\\n",
       "558210  2009-11-26                      40          PHY321072   \n",
       "\n",
       "       OperatingPhysician OtherPhysician  ... ChronicCond_IschemicHeart  \\\n",
       "558210                NaN      PHY321072  ...                         1   \n",
       "\n",
       "       ChronicCond_Osteoporasis ChronicCond_rheumatoidarthritis  \\\n",
       "558210                        0                               0   \n",
       "\n",
       "       ChronicCond_stroke IPAnnualReimbursementAmt IPAnnualDeductibleAmt  \\\n",
       "558210                  0                        0                     0   \n",
       "\n",
       "       OPAnnualReimbursementAmt OPAnnualDeductibleAmt   Age WhetherDead  \n",
       "558210                     3700                   240  58.0         0.0  \n",
       "\n",
       "[1 rows x 58 columns]"
      ]
     },
     "execution_count": 382,
     "metadata": {},
     "output_type": "execute_result"
    }
   ],
   "source": [
    "# Lets check the last record of Train_ProviderWithPatientDetailsdata\n",
    "\n",
    "Train_ProviderWithPatientDetailsdata.iloc[[558210]]"
   ]
  },
  {
   "cell_type": "markdown",
   "metadata": {},
   "source": [
    "Appending Train data to Test data will help you get good average scores of new features in Test data, as we see not all levels of variables are present in test data compared to train data. So our approach here will be-to append train data to test data, derive new average features and take only test data to evaluate results."
   ]
  },
  {
   "cell_type": "code",
   "execution_count": 383,
   "metadata": {},
   "outputs": [],
   "source": [
    "## Lets create a copy of test data first and merge test with train to get better feature averages\n",
    "\n",
    "Test_ProviderWithPatientDetailsdata_copy=Test_ProviderWithPatientDetailsdata"
   ]
  },
  {
   "cell_type": "code",
   "execution_count": 384,
   "metadata": {},
   "outputs": [
    {
     "name": "stdout",
     "output_type": "stream",
     "text": [
      "Shape of Test Copy :- (135392, 57)\n"
     ]
    }
   ],
   "source": [
    "#Lets Check shape of copy\n",
    "\n",
    "print('Shape of Test Copy :-',Test_ProviderWithPatientDetailsdata_copy.shape)"
   ]
  },
  {
   "cell_type": "code",
   "execution_count": 385,
   "metadata": {},
   "outputs": [],
   "source": [
    "### We will concat two datasets using columns of Test data only as we dont see target column in Test data.\n",
    "\n",
    "col_merge=Test_ProviderWithPatientDetailsdata.columns"
   ]
  },
  {
   "cell_type": "code",
   "execution_count": 386,
   "metadata": {},
   "outputs": [],
   "source": [
    "## Lets add both test and train datasets\n",
    "\n",
    "Test_ProviderWithPatientDetailsdata=pd.concat([Test_ProviderWithPatientDetailsdata,\n",
    "                                               Train_ProviderWithPatientDetailsdata[col_merge]])"
   ]
  },
  {
   "cell_type": "code",
   "execution_count": 387,
   "metadata": {},
   "outputs": [
    {
     "name": "stdout",
     "output_type": "stream",
     "text": [
      "Shape of Test After Concatenation (693603, 57)\n",
      "Expected rows after addition 693603\n"
     ]
    }
   ],
   "source": [
    "### Lets verify shape after concatenating\n",
    "\n",
    "print(\"Shape of Test After Concatenation\",Test_ProviderWithPatientDetailsdata.shape)\n",
    "\n",
    "print(\"Expected rows after addition\",135392+558211)"
   ]
  },
  {
   "cell_type": "code",
   "execution_count": 388,
   "metadata": {},
   "outputs": [
    {
     "data": {
      "text/html": [
       "<div>\n",
       "<style scoped>\n",
       "    .dataframe tbody tr th:only-of-type {\n",
       "        vertical-align: middle;\n",
       "    }\n",
       "\n",
       "    .dataframe tbody tr th {\n",
       "        vertical-align: top;\n",
       "    }\n",
       "\n",
       "    .dataframe thead th {\n",
       "        text-align: right;\n",
       "    }\n",
       "</style>\n",
       "<table border=\"1\" class=\"dataframe\">\n",
       "  <thead>\n",
       "    <tr style=\"text-align: right;\">\n",
       "      <th></th>\n",
       "      <th>Provider</th>\n",
       "      <th>BeneID</th>\n",
       "      <th>ClaimID</th>\n",
       "      <th>ClaimStartDt</th>\n",
       "      <th>ClaimEndDt</th>\n",
       "      <th>InscClaimAmtReimbursed</th>\n",
       "      <th>AttendingPhysician</th>\n",
       "      <th>OperatingPhysician</th>\n",
       "      <th>OtherPhysician</th>\n",
       "      <th>ClmDiagnosisCode_1</th>\n",
       "      <th>...</th>\n",
       "      <th>ChronicCond_IschemicHeart</th>\n",
       "      <th>ChronicCond_Osteoporasis</th>\n",
       "      <th>ChronicCond_rheumatoidarthritis</th>\n",
       "      <th>ChronicCond_stroke</th>\n",
       "      <th>IPAnnualReimbursementAmt</th>\n",
       "      <th>IPAnnualDeductibleAmt</th>\n",
       "      <th>OPAnnualReimbursementAmt</th>\n",
       "      <th>OPAnnualDeductibleAmt</th>\n",
       "      <th>Age</th>\n",
       "      <th>WhetherDead</th>\n",
       "    </tr>\n",
       "  </thead>\n",
       "  <tbody>\n",
       "    <tr>\n",
       "      <th>0</th>\n",
       "      <td>PRV51001</td>\n",
       "      <td>BENE11727</td>\n",
       "      <td>CLM733300</td>\n",
       "      <td>2009-12-17</td>\n",
       "      <td>2009-12-17</td>\n",
       "      <td>20</td>\n",
       "      <td>PHY383007</td>\n",
       "      <td>NaN</td>\n",
       "      <td>PHY383007</td>\n",
       "      <td>5953</td>\n",
       "      <td>...</td>\n",
       "      <td>1</td>\n",
       "      <td>0</td>\n",
       "      <td>0</td>\n",
       "      <td>0</td>\n",
       "      <td>0</td>\n",
       "      <td>0</td>\n",
       "      <td>300</td>\n",
       "      <td>110</td>\n",
       "      <td>80.0</td>\n",
       "      <td>0.0</td>\n",
       "    </tr>\n",
       "  </tbody>\n",
       "</table>\n",
       "<p>1 rows × 57 columns</p>\n",
       "</div>"
      ],
      "text/plain": [
       "   Provider     BeneID    ClaimID ClaimStartDt  ClaimEndDt  \\\n",
       "0  PRV51001  BENE11727  CLM733300   2009-12-17  2009-12-17   \n",
       "\n",
       "   InscClaimAmtReimbursed AttendingPhysician OperatingPhysician  \\\n",
       "0                      20          PHY383007                NaN   \n",
       "\n",
       "  OtherPhysician ClmDiagnosisCode_1  ... ChronicCond_IschemicHeart  \\\n",
       "0      PHY383007               5953  ...                         1   \n",
       "\n",
       "  ChronicCond_Osteoporasis ChronicCond_rheumatoidarthritis ChronicCond_stroke  \\\n",
       "0                        0                               0                  0   \n",
       "\n",
       "  IPAnnualReimbursementAmt IPAnnualDeductibleAmt OPAnnualReimbursementAmt  \\\n",
       "0                        0                     0                      300   \n",
       "\n",
       "  OPAnnualDeductibleAmt   Age  WhetherDead  \n",
       "0                   110  80.0          0.0  \n",
       "\n",
       "[1 rows x 57 columns]"
      ]
     },
     "execution_count": 388,
     "metadata": {},
     "output_type": "execute_result"
    }
   ],
   "source": [
    "### Lets check record number 135392 as this will be record from train datasets.\n",
    "Test_ProviderWithPatientDetailsdata.iloc[[135392]]"
   ]
  },
  {
   "cell_type": "markdown",
   "metadata": {},
   "source": [
    "As we verified that our first record is appended to test data correctly,we are all set to derive Average features grouped according to columns of datasets.\n",
    "\n",
    "Other than basic explorations and visualizations, we can use certain methods to identify clues of fraud and abuse. One such simple method is 'Grouping based on Similarity'. In this method, we basically group all the records by the ProcedureCodes, DiagnosisCodes,Provider.\n",
    "\n",
    "For example, if we have a dataset with Procedure codes only for X Procedure, we will then group and check average Amounts involved at each levels of Procedure and analyse the behaviour"
   ]
  },
  {
   "cell_type": "markdown",
   "metadata": {},
   "source": [
    "## Average Features based on grouping variables"
   ]
  },
  {
   "cell_type": "markdown",
   "metadata": {},
   "source": [
    "**Average features grouped by Provider**"
   ]
  },
  {
   "cell_type": "code",
   "execution_count": 389,
   "metadata": {},
   "outputs": [],
   "source": [
    "Train_ProviderWithPatientDetailsdata[\"PerProviderAvg_InscClaimAmtReimbursed\"]=Train_ProviderWithPatientDetailsdata.groupby('Provider')['InscClaimAmtReimbursed'].transform('mean')\n",
    "Train_ProviderWithPatientDetailsdata[\"PerProviderAvg_DeductibleAmtPaid\"]=Train_ProviderWithPatientDetailsdata.groupby('Provider')['DeductibleAmtPaid'].transform('mean')\n",
    "Train_ProviderWithPatientDetailsdata[\"PerProviderAvg_IPAnnualReimbursementAmt\"]=Train_ProviderWithPatientDetailsdata.groupby('Provider')['IPAnnualReimbursementAmt'].transform('mean')\n",
    "Train_ProviderWithPatientDetailsdata[\"PerProviderAvg_IPAnnualDeductibleAmt\"]=Train_ProviderWithPatientDetailsdata.groupby('Provider')['IPAnnualDeductibleAmt'].transform('mean')\n",
    "Train_ProviderWithPatientDetailsdata[\"PerProviderAvg_OPAnnualReimbursementAmt\"]=Train_ProviderWithPatientDetailsdata.groupby('Provider')['OPAnnualReimbursementAmt'].transform('mean')\n",
    "Train_ProviderWithPatientDetailsdata[\"PerProviderAvg_OPAnnualDeductibleAmt\"]=Train_ProviderWithPatientDetailsdata.groupby('Provider')['OPAnnualDeductibleAmt'].transform('mean')\n",
    "Train_ProviderWithPatientDetailsdata[\"PerProviderAvg_Age\"]=Train_ProviderWithPatientDetailsdata.groupby('Provider')['Age'].transform('mean')\n",
    "Train_ProviderWithPatientDetailsdata[\"PerProviderAvg_NoOfMonths_PartACov\"]=Train_ProviderWithPatientDetailsdata.groupby('Provider')['NoOfMonths_PartACov'].transform('mean')\n",
    "Train_ProviderWithPatientDetailsdata[\"PerProviderAvg_NoOfMonths_PartBCov\"]=Train_ProviderWithPatientDetailsdata.groupby('Provider')['NoOfMonths_PartBCov'].transform('mean')\n",
    "Train_ProviderWithPatientDetailsdata[\"PerProviderAvg_AdmitForDays\"]=Train_ProviderWithPatientDetailsdata.groupby('Provider')['AdmitForDays'].transform('mean')\n",
    "\n",
    "\n",
    "Test_ProviderWithPatientDetailsdata[\"PerProviderAvg_InscClaimAmtReimbursed\"]=Test_ProviderWithPatientDetailsdata.groupby('Provider')['InscClaimAmtReimbursed'].transform('mean')\n",
    "Test_ProviderWithPatientDetailsdata[\"PerProviderAvg_DeductibleAmtPaid\"]=Test_ProviderWithPatientDetailsdata.groupby('Provider')['DeductibleAmtPaid'].transform('mean')\n",
    "Test_ProviderWithPatientDetailsdata[\"PerProviderAvg_IPAnnualReimbursementAmt\"]=Test_ProviderWithPatientDetailsdata.groupby('Provider')['IPAnnualReimbursementAmt'].transform('mean')\n",
    "Test_ProviderWithPatientDetailsdata[\"PerProviderAvg_IPAnnualDeductibleAmt\"]=Test_ProviderWithPatientDetailsdata.groupby('Provider')['IPAnnualDeductibleAmt'].transform('mean')\n",
    "Test_ProviderWithPatientDetailsdata[\"PerProviderAvg_OPAnnualReimbursementAmt\"]=Test_ProviderWithPatientDetailsdata.groupby('Provider')['OPAnnualReimbursementAmt'].transform('mean')\n",
    "Test_ProviderWithPatientDetailsdata[\"PerProviderAvg_OPAnnualDeductibleAmt\"]=Test_ProviderWithPatientDetailsdata.groupby('Provider')['OPAnnualDeductibleAmt'].transform('mean')\n",
    "Test_ProviderWithPatientDetailsdata[\"PerProviderAvg_Age\"]=Test_ProviderWithPatientDetailsdata.groupby('Provider')['Age'].transform('mean')\n",
    "Test_ProviderWithPatientDetailsdata[\"PerProviderAvg_NoOfMonths_PartACov\"]=Test_ProviderWithPatientDetailsdata.groupby('Provider')['NoOfMonths_PartACov'].transform('mean')\n",
    "Test_ProviderWithPatientDetailsdata[\"PerProviderAvg_NoOfMonths_PartBCov\"]=Test_ProviderWithPatientDetailsdata.groupby('Provider')['NoOfMonths_PartBCov'].transform('mean')\n",
    "Test_ProviderWithPatientDetailsdata[\"PerProviderAvg_AdmitForDays\"]=Test_ProviderWithPatientDetailsdata.groupby('Provider')['AdmitForDays'].transform('mean')\n"
   ]
  },
  {
   "cell_type": "code",
   "execution_count": 390,
   "metadata": {},
   "outputs": [
    {
     "name": "stdout",
     "output_type": "stream",
     "text": [
      "Train (558211, 68)\n",
      "Test  (693603, 67)\n"
     ]
    },
    {
     "data": {
      "text/html": [
       "<div>\n",
       "<style scoped>\n",
       "    .dataframe tbody tr th:only-of-type {\n",
       "        vertical-align: middle;\n",
       "    }\n",
       "\n",
       "    .dataframe tbody tr th {\n",
       "        vertical-align: top;\n",
       "    }\n",
       "\n",
       "    .dataframe thead th {\n",
       "        text-align: right;\n",
       "    }\n",
       "</style>\n",
       "<table border=\"1\" class=\"dataframe\">\n",
       "  <thead>\n",
       "    <tr style=\"text-align: right;\">\n",
       "      <th></th>\n",
       "      <th>PerProviderAvg_InscClaimAmtReimbursed</th>\n",
       "      <th>PerProviderAvg_DeductibleAmtPaid</th>\n",
       "      <th>PerProviderAvg_IPAnnualReimbursementAmt</th>\n",
       "      <th>PerProviderAvg_IPAnnualDeductibleAmt</th>\n",
       "      <th>PerProviderAvg_OPAnnualReimbursementAmt</th>\n",
       "      <th>PerProviderAvg_OPAnnualDeductibleAmt</th>\n",
       "      <th>PerProviderAvg_Age</th>\n",
       "      <th>PerProviderAvg_NoOfMonths_PartACov</th>\n",
       "      <th>PerProviderAvg_NoOfMonths_PartBCov</th>\n",
       "      <th>PerProviderAvg_AdmitForDays</th>\n",
       "    </tr>\n",
       "  </thead>\n",
       "  <tbody>\n",
       "    <tr>\n",
       "      <th>0</th>\n",
       "      <td>262.390244</td>\n",
       "      <td>1.853659</td>\n",
       "      <td>5180.926829</td>\n",
       "      <td>548.253659</td>\n",
       "      <td>2345.073171</td>\n",
       "      <td>677.95122</td>\n",
       "      <td>72.365854</td>\n",
       "      <td>11.82439</td>\n",
       "      <td>12.0</td>\n",
       "      <td>NaN</td>\n",
       "    </tr>\n",
       "    <tr>\n",
       "      <th>1</th>\n",
       "      <td>262.390244</td>\n",
       "      <td>1.853659</td>\n",
       "      <td>5180.926829</td>\n",
       "      <td>548.253659</td>\n",
       "      <td>2345.073171</td>\n",
       "      <td>677.95122</td>\n",
       "      <td>72.365854</td>\n",
       "      <td>11.82439</td>\n",
       "      <td>12.0</td>\n",
       "      <td>NaN</td>\n",
       "    </tr>\n",
       "    <tr>\n",
       "      <th>2</th>\n",
       "      <td>262.390244</td>\n",
       "      <td>1.853659</td>\n",
       "      <td>5180.926829</td>\n",
       "      <td>548.253659</td>\n",
       "      <td>2345.073171</td>\n",
       "      <td>677.95122</td>\n",
       "      <td>72.365854</td>\n",
       "      <td>11.82439</td>\n",
       "      <td>12.0</td>\n",
       "      <td>NaN</td>\n",
       "    </tr>\n",
       "    <tr>\n",
       "      <th>3</th>\n",
       "      <td>262.390244</td>\n",
       "      <td>1.853659</td>\n",
       "      <td>5180.926829</td>\n",
       "      <td>548.253659</td>\n",
       "      <td>2345.073171</td>\n",
       "      <td>677.95122</td>\n",
       "      <td>72.365854</td>\n",
       "      <td>11.82439</td>\n",
       "      <td>12.0</td>\n",
       "      <td>NaN</td>\n",
       "    </tr>\n",
       "  </tbody>\n",
       "</table>\n",
       "</div>"
      ],
      "text/plain": [
       "   PerProviderAvg_InscClaimAmtReimbursed  PerProviderAvg_DeductibleAmtPaid  \\\n",
       "0                             262.390244                          1.853659   \n",
       "1                             262.390244                          1.853659   \n",
       "2                             262.390244                          1.853659   \n",
       "3                             262.390244                          1.853659   \n",
       "\n",
       "   PerProviderAvg_IPAnnualReimbursementAmt  \\\n",
       "0                              5180.926829   \n",
       "1                              5180.926829   \n",
       "2                              5180.926829   \n",
       "3                              5180.926829   \n",
       "\n",
       "   PerProviderAvg_IPAnnualDeductibleAmt  \\\n",
       "0                            548.253659   \n",
       "1                            548.253659   \n",
       "2                            548.253659   \n",
       "3                            548.253659   \n",
       "\n",
       "   PerProviderAvg_OPAnnualReimbursementAmt  \\\n",
       "0                              2345.073171   \n",
       "1                              2345.073171   \n",
       "2                              2345.073171   \n",
       "3                              2345.073171   \n",
       "\n",
       "   PerProviderAvg_OPAnnualDeductibleAmt  PerProviderAvg_Age  \\\n",
       "0                             677.95122           72.365854   \n",
       "1                             677.95122           72.365854   \n",
       "2                             677.95122           72.365854   \n",
       "3                             677.95122           72.365854   \n",
       "\n",
       "   PerProviderAvg_NoOfMonths_PartACov  PerProviderAvg_NoOfMonths_PartBCov  \\\n",
       "0                            11.82439                                12.0   \n",
       "1                            11.82439                                12.0   \n",
       "2                            11.82439                                12.0   \n",
       "3                            11.82439                                12.0   \n",
       "\n",
       "   PerProviderAvg_AdmitForDays  \n",
       "0                          NaN  \n",
       "1                          NaN  \n",
       "2                          NaN  \n",
       "3                          NaN  "
      ]
     },
     "execution_count": 390,
     "metadata": {},
     "output_type": "execute_result"
    }
   ],
   "source": [
    "#lets check shape\n",
    "\n",
    "print('Train',Train_ProviderWithPatientDetailsdata.shape)\n",
    "Train_ProviderWithPatientDetailsdata.iloc[:,-10:].head(2)\n",
    "\n",
    "print(\"Test \",Test_ProviderWithPatientDetailsdata.shape)\n",
    "Test_ProviderWithPatientDetailsdata.iloc[:,-10:].head(4)"
   ]
  },
  {
   "cell_type": "markdown",
   "metadata": {},
   "source": [
    "**Average features grouped by BeneID**"
   ]
  },
  {
   "cell_type": "code",
   "execution_count": 391,
   "metadata": {},
   "outputs": [],
   "source": [
    "## Grouping based on BeneID explains amounts involved per beneficiary.Reason to derive this feature is that one beneficiary \n",
    "## can go to multiple providers and can be involved in fraud cases\n",
    "Train_ProviderWithPatientDetailsdata[\"PerBeneIDAvg_InscClaimAmtReimbursed\"]=Train_ProviderWithPatientDetailsdata.groupby('BeneID')['InscClaimAmtReimbursed'].transform('mean')\n",
    "Train_ProviderWithPatientDetailsdata[\"PerBeneIDAvg_DeductibleAmtPaid\"]=Train_ProviderWithPatientDetailsdata.groupby('BeneID')['DeductibleAmtPaid'].transform('mean')\n",
    "Train_ProviderWithPatientDetailsdata[\"PerBeneIDAvg_IPAnnualReimbursementAmt\"]=Train_ProviderWithPatientDetailsdata.groupby('BeneID')['IPAnnualReimbursementAmt'].transform('mean')\n",
    "Train_ProviderWithPatientDetailsdata[\"PerBeneIDAvg_IPAnnualDeductibleAmt\"]=Train_ProviderWithPatientDetailsdata.groupby('BeneID')['IPAnnualDeductibleAmt'].transform('mean')\n",
    "Train_ProviderWithPatientDetailsdata[\"PerBeneIDAvg_OPAnnualReimbursementAmt\"]=Train_ProviderWithPatientDetailsdata.groupby('BeneID')['OPAnnualReimbursementAmt'].transform('mean')\n",
    "Train_ProviderWithPatientDetailsdata[\"PerBeneIDAvg_OPAnnualDeductibleAmt\"]=Train_ProviderWithPatientDetailsdata.groupby('BeneID')['OPAnnualDeductibleAmt'].transform('mean')\n",
    "Train_ProviderWithPatientDetailsdata[\"PerBeneIDAvg_AdmitForDays\"]=Train_ProviderWithPatientDetailsdata.groupby('BeneID')['AdmitForDays'].transform('mean')\n",
    "\n",
    "\n",
    "Test_ProviderWithPatientDetailsdata[\"PerBeneIDAvg_InscClaimAmtReimbursed\"]=Test_ProviderWithPatientDetailsdata.groupby('BeneID')['InscClaimAmtReimbursed'].transform('mean')\n",
    "Test_ProviderWithPatientDetailsdata[\"PerBeneIDAvg_DeductibleAmtPaid\"]=Test_ProviderWithPatientDetailsdata.groupby('BeneID')['DeductibleAmtPaid'].transform('mean')\n",
    "Test_ProviderWithPatientDetailsdata[\"PerBeneIDAvg_IPAnnualReimbursementAmt\"]=Test_ProviderWithPatientDetailsdata.groupby('BeneID')['IPAnnualReimbursementAmt'].transform('mean')\n",
    "Test_ProviderWithPatientDetailsdata[\"PerBeneIDAvg_IPAnnualDeductibleAmt\"]=Test_ProviderWithPatientDetailsdata.groupby('BeneID')['IPAnnualDeductibleAmt'].transform('mean')\n",
    "Test_ProviderWithPatientDetailsdata[\"PerBeneIDAvg_OPAnnualReimbursementAmt\"]=Test_ProviderWithPatientDetailsdata.groupby('BeneID')['OPAnnualReimbursementAmt'].transform('mean')\n",
    "Test_ProviderWithPatientDetailsdata[\"PerBeneIDAvg_OPAnnualDeductibleAmt\"]=Test_ProviderWithPatientDetailsdata.groupby('BeneID')['OPAnnualDeductibleAmt'].transform('mean')\n",
    "Test_ProviderWithPatientDetailsdata[\"PerBeneIDAvg_AdmitForDays\"]=Test_ProviderWithPatientDetailsdata.groupby('BeneID')['AdmitForDays'].transform('mean')"
   ]
  },
  {
   "cell_type": "markdown",
   "metadata": {},
   "source": [
    "**Average features grouped by OtherPhysician**"
   ]
  },
  {
   "cell_type": "code",
   "execution_count": 392,
   "metadata": {},
   "outputs": [],
   "source": [
    "### Average features grouped by OtherPhysician.\n",
    "\n",
    "Train_ProviderWithPatientDetailsdata[\"PerOtherPhysicianAvg_InscClaimAmtReimbursed\"]=Train_ProviderWithPatientDetailsdata.groupby('OtherPhysician')['InscClaimAmtReimbursed'].transform('mean')\n",
    "Train_ProviderWithPatientDetailsdata[\"PerOtherPhysicianAvg_DeductibleAmtPaid\"]=Train_ProviderWithPatientDetailsdata.groupby('OtherPhysician')['DeductibleAmtPaid'].transform('mean')\n",
    "Train_ProviderWithPatientDetailsdata[\"PerOtherPhysicianAvg_IPAnnualReimbursementAmt\"]=Train_ProviderWithPatientDetailsdata.groupby('OtherPhysician')['IPAnnualReimbursementAmt'].transform('mean')\n",
    "Train_ProviderWithPatientDetailsdata[\"PerOtherPhysicianAvg_IPAnnualDeductibleAmt\"]=Train_ProviderWithPatientDetailsdata.groupby('OtherPhysician')['IPAnnualDeductibleAmt'].transform('mean')\n",
    "Train_ProviderWithPatientDetailsdata[\"PerOtherPhysicianAvg_OPAnnualReimbursementAmt\"]=Train_ProviderWithPatientDetailsdata.groupby('OtherPhysician')['OPAnnualReimbursementAmt'].transform('mean')\n",
    "Train_ProviderWithPatientDetailsdata[\"PerOtherPhysicianAvg_OPAnnualDeductibleAmt\"]=Train_ProviderWithPatientDetailsdata.groupby('OtherPhysician')['OPAnnualDeductibleAmt'].transform('mean')\n",
    "Train_ProviderWithPatientDetailsdata[\"PerOtherPhysicianAvg_AdmitForDays\"]=Train_ProviderWithPatientDetailsdata.groupby('OtherPhysician')['AdmitForDays'].transform('mean')\n",
    "\n",
    "Test_ProviderWithPatientDetailsdata[\"PerOtherPhysicianAvg_InscClaimAmtReimbursed\"]=Test_ProviderWithPatientDetailsdata.groupby('OtherPhysician')['InscClaimAmtReimbursed'].transform('mean')\n",
    "Test_ProviderWithPatientDetailsdata[\"PerOtherPhysicianAvg_DeductibleAmtPaid\"]=Test_ProviderWithPatientDetailsdata.groupby('OtherPhysician')['DeductibleAmtPaid'].transform('mean')\n",
    "Test_ProviderWithPatientDetailsdata[\"PerOtherPhysicianAvg_IPAnnualReimbursementAmt\"]=Test_ProviderWithPatientDetailsdata.groupby('OtherPhysician')['IPAnnualReimbursementAmt'].transform('mean')\n",
    "Test_ProviderWithPatientDetailsdata[\"PerOtherPhysicianAvg_IPAnnualDeductibleAmt\"]=Test_ProviderWithPatientDetailsdata.groupby('OtherPhysician')['IPAnnualDeductibleAmt'].transform('mean')\n",
    "Test_ProviderWithPatientDetailsdata[\"PerOtherPhysicianAvg_OPAnnualReimbursementAmt\"]=Test_ProviderWithPatientDetailsdata.groupby('OtherPhysician')['OPAnnualReimbursementAmt'].transform('mean')\n",
    "Test_ProviderWithPatientDetailsdata[\"PerOtherPhysicianAvg_OPAnnualDeductibleAmt\"]=Test_ProviderWithPatientDetailsdata.groupby('OtherPhysician')['OPAnnualDeductibleAmt'].transform('mean')\n",
    "Test_ProviderWithPatientDetailsdata[\"PerOtherPhysicianAvg_AdmitForDays\"]=Test_ProviderWithPatientDetailsdata.groupby('OtherPhysician')['AdmitForDays'].transform('mean')\n"
   ]
  },
  {
   "cell_type": "markdown",
   "metadata": {},
   "source": [
    "**Average features grouped by OperatingPhysician**"
   ]
  },
  {
   "cell_type": "code",
   "execution_count": 393,
   "metadata": {},
   "outputs": [],
   "source": [
    "##Average features grouped by OperatingPhysician\n",
    "\n",
    "Train_ProviderWithPatientDetailsdata[\"PerOperatingPhysicianAvg_InscClaimAmtReimbursed\"]=Train_ProviderWithPatientDetailsdata.groupby('OperatingPhysician')['InscClaimAmtReimbursed'].transform('mean')\n",
    "Train_ProviderWithPatientDetailsdata[\"PerOperatingPhysicianAvg_DeductibleAmtPaid\"]=Train_ProviderWithPatientDetailsdata.groupby('OperatingPhysician')['DeductibleAmtPaid'].transform('mean')\n",
    "Train_ProviderWithPatientDetailsdata[\"PerOperatingPhysicianAvg_IPAnnualReimbursementAmt\"]=Train_ProviderWithPatientDetailsdata.groupby('OperatingPhysician')['IPAnnualReimbursementAmt'].transform('mean')\n",
    "Train_ProviderWithPatientDetailsdata[\"PerOperatingPhysicianAvg_IPAnnualDeductibleAmt\"]=Train_ProviderWithPatientDetailsdata.groupby('OperatingPhysician')['IPAnnualDeductibleAmt'].transform('mean')\n",
    "Train_ProviderWithPatientDetailsdata[\"PerOperatingPhysicianAvg_OPAnnualReimbursementAmt\"]=Train_ProviderWithPatientDetailsdata.groupby('OperatingPhysician')['OPAnnualReimbursementAmt'].transform('mean')\n",
    "Train_ProviderWithPatientDetailsdata[\"PerOperatingPhysicianAvg_OPAnnualDeductibleAmt\"]=Train_ProviderWithPatientDetailsdata.groupby('OperatingPhysician')['OPAnnualDeductibleAmt'].transform('mean')\n",
    "Train_ProviderWithPatientDetailsdata[\"PerOperatingPhysicianAvg_AdmitForDays\"]=Train_ProviderWithPatientDetailsdata.groupby('OperatingPhysician')['AdmitForDays'].transform('mean')\n",
    "\n",
    "Test_ProviderWithPatientDetailsdata[\"PerOperatingPhysicianAvg_InscClaimAmtReimbursed\"]=Test_ProviderWithPatientDetailsdata.groupby('OperatingPhysician')['InscClaimAmtReimbursed'].transform('mean')\n",
    "Test_ProviderWithPatientDetailsdata[\"PerOperatingPhysicianAvg_DeductibleAmtPaid\"]=Test_ProviderWithPatientDetailsdata.groupby('OperatingPhysician')['DeductibleAmtPaid'].transform('mean')\n",
    "Test_ProviderWithPatientDetailsdata[\"PerOperatingPhysicianAvg_IPAnnualReimbursementAmt\"]=Test_ProviderWithPatientDetailsdata.groupby('OperatingPhysician')['IPAnnualReimbursementAmt'].transform('mean')\n",
    "Test_ProviderWithPatientDetailsdata[\"PerOperatingPhysicianAvg_IPAnnualDeductibleAmt\"]=Test_ProviderWithPatientDetailsdata.groupby('OperatingPhysician')['IPAnnualDeductibleAmt'].transform('mean')\n",
    "Test_ProviderWithPatientDetailsdata[\"PerOperatingPhysicianAvg_OPAnnualReimbursementAmt\"]=Test_ProviderWithPatientDetailsdata.groupby('OperatingPhysician')['OPAnnualReimbursementAmt'].transform('mean')\n",
    "Test_ProviderWithPatientDetailsdata[\"PerOperatingPhysicianAvg_OPAnnualDeductibleAmt\"]=Test_ProviderWithPatientDetailsdata.groupby('OperatingPhysician')['OPAnnualDeductibleAmt'].transform('mean')\n",
    "Test_ProviderWithPatientDetailsdata[\"PerOperatingPhysicianAvg_AdmitForDays\"]=Test_ProviderWithPatientDetailsdata.groupby('OperatingPhysician')['AdmitForDays'].transform('mean')"
   ]
  },
  {
   "cell_type": "markdown",
   "metadata": {},
   "source": [
    "**Average features grouped by AttendingPhysician**"
   ]
  },
  {
   "cell_type": "code",
   "execution_count": 394,
   "metadata": {},
   "outputs": [],
   "source": [
    "### Average features grouped by AttendingPhysician   \n",
    "\n",
    "Train_ProviderWithPatientDetailsdata[\"PerAttendingPhysicianAvg_InscClaimAmtReimbursed\"]=Train_ProviderWithPatientDetailsdata.groupby('AttendingPhysician')['InscClaimAmtReimbursed'].transform('mean')\n",
    "Train_ProviderWithPatientDetailsdata[\"PerAttendingPhysicianAvg_DeductibleAmtPaid\"]=Train_ProviderWithPatientDetailsdata.groupby('AttendingPhysician')['DeductibleAmtPaid'].transform('mean')\n",
    "Train_ProviderWithPatientDetailsdata[\"PerAttendingPhysicianAvg_IPAnnualReimbursementAmt\"]=Train_ProviderWithPatientDetailsdata.groupby('AttendingPhysician')['IPAnnualReimbursementAmt'].transform('mean')\n",
    "Train_ProviderWithPatientDetailsdata[\"PerAttendingPhysicianAvg_IPAnnualDeductibleAmt\"]=Train_ProviderWithPatientDetailsdata.groupby('AttendingPhysician')['IPAnnualDeductibleAmt'].transform('mean')\n",
    "Train_ProviderWithPatientDetailsdata[\"PerAttendingPhysicianAvg_OPAnnualReimbursementAmt\"]=Train_ProviderWithPatientDetailsdata.groupby('AttendingPhysician')['OPAnnualReimbursementAmt'].transform('mean')\n",
    "Train_ProviderWithPatientDetailsdata[\"PerAttendingPhysicianAvg_OPAnnualDeductibleAmt\"]=Train_ProviderWithPatientDetailsdata.groupby('AttendingPhysician')['OPAnnualDeductibleAmt'].transform('mean')\n",
    "Train_ProviderWithPatientDetailsdata[\"PerAttendingPhysicianAvg_AdmitForDays\"]=Train_ProviderWithPatientDetailsdata.groupby('AttendingPhysician')['AdmitForDays'].transform('mean')\n",
    "\n",
    "\n",
    "Test_ProviderWithPatientDetailsdata[\"PerAttendingPhysicianAvg_InscClaimAmtReimbursed\"]=Test_ProviderWithPatientDetailsdata.groupby('AttendingPhysician')['InscClaimAmtReimbursed'].transform('mean')\n",
    "Test_ProviderWithPatientDetailsdata[\"PerAttendingPhysicianAvg_DeductibleAmtPaid\"]=Test_ProviderWithPatientDetailsdata.groupby('AttendingPhysician')['DeductibleAmtPaid'].transform('mean')\n",
    "Test_ProviderWithPatientDetailsdata[\"PerAttendingPhysicianAvg_IPAnnualReimbursementAmt\"]=Test_ProviderWithPatientDetailsdata.groupby('AttendingPhysician')['IPAnnualReimbursementAmt'].transform('mean')\n",
    "Test_ProviderWithPatientDetailsdata[\"PerAttendingPhysicianAvg_IPAnnualDeductibleAmt\"]=Test_ProviderWithPatientDetailsdata.groupby('AttendingPhysician')['IPAnnualDeductibleAmt'].transform('mean')\n",
    "Test_ProviderWithPatientDetailsdata[\"PerAttendingPhysicianAvg_OPAnnualReimbursementAmt\"]=Test_ProviderWithPatientDetailsdata.groupby('AttendingPhysician')['OPAnnualReimbursementAmt'].transform('mean')\n",
    "Test_ProviderWithPatientDetailsdata[\"PerAttendingPhysicianAvg_OPAnnualDeductibleAmt\"]=Test_ProviderWithPatientDetailsdata.groupby('AttendingPhysician')['OPAnnualDeductibleAmt'].transform('mean')\n",
    "Test_ProviderWithPatientDetailsdata[\"PerAttendingPhysicianAvg_AdmitForDays\"]=Test_ProviderWithPatientDetailsdata.groupby('AttendingPhysician')['AdmitForDays'].transform('mean')"
   ]
  },
  {
   "cell_type": "markdown",
   "metadata": {},
   "source": [
    "**Average features grouped by DiagnosisGroupCode**"
   ]
  },
  {
   "cell_type": "code",
   "execution_count": 395,
   "metadata": {},
   "outputs": [],
   "source": [
    "###  Average features grouped by DiagnosisGroupCode  \n",
    "\n",
    "Train_ProviderWithPatientDetailsdata[\"PerDiagnosisGroupCodeAvg_InscClaimAmtReimbursed\"]=Train_ProviderWithPatientDetailsdata.groupby('DiagnosisGroupCode')['InscClaimAmtReimbursed'].transform('mean')\n",
    "Train_ProviderWithPatientDetailsdata[\"PerDiagnosisGroupCodeAvg_DeductibleAmtPaid\"]=Train_ProviderWithPatientDetailsdata.groupby('DiagnosisGroupCode')['DeductibleAmtPaid'].transform('mean')\n",
    "Train_ProviderWithPatientDetailsdata[\"PerDiagnosisGroupCodeAvg_IPAnnualReimbursementAmt\"]=Train_ProviderWithPatientDetailsdata.groupby('DiagnosisGroupCode')['IPAnnualReimbursementAmt'].transform('mean')\n",
    "Train_ProviderWithPatientDetailsdata[\"PerDiagnosisGroupCodeAvg_IPAnnualDeductibleAmt\"]=Train_ProviderWithPatientDetailsdata.groupby('DiagnosisGroupCode')['IPAnnualDeductibleAmt'].transform('mean')\n",
    "Train_ProviderWithPatientDetailsdata[\"PerDiagnosisGroupCodeAvg_OPAnnualReimbursementAmt\"]=Train_ProviderWithPatientDetailsdata.groupby('DiagnosisGroupCode')['OPAnnualReimbursementAmt'].transform('mean')\n",
    "Train_ProviderWithPatientDetailsdata[\"PerDiagnosisGroupCodeAvg_OPAnnualDeductibleAmt\"]=Train_ProviderWithPatientDetailsdata.groupby('DiagnosisGroupCode')['OPAnnualDeductibleAmt'].transform('mean')\n",
    "Train_ProviderWithPatientDetailsdata[\"PerDiagnosisGroupCodeAvg_AdmitForDays\"]=Train_ProviderWithPatientDetailsdata.groupby('DiagnosisGroupCode')['AdmitForDays'].transform('mean')\n",
    "\n",
    "Test_ProviderWithPatientDetailsdata[\"PerDiagnosisGroupCodeAvg_InscClaimAmtReimbursed\"]=Test_ProviderWithPatientDetailsdata.groupby('DiagnosisGroupCode')['InscClaimAmtReimbursed'].transform('mean')\n",
    "Test_ProviderWithPatientDetailsdata[\"PerDiagnosisGroupCodeAvg_DeductibleAmtPaid\"]=Test_ProviderWithPatientDetailsdata.groupby('DiagnosisGroupCode')['DeductibleAmtPaid'].transform('mean')\n",
    "Test_ProviderWithPatientDetailsdata[\"PerDiagnosisGroupCodeAvg_IPAnnualReimbursementAmt\"]=Test_ProviderWithPatientDetailsdata.groupby('DiagnosisGroupCode')['IPAnnualReimbursementAmt'].transform('mean')\n",
    "Test_ProviderWithPatientDetailsdata[\"PerDiagnosisGroupCodeAvg_IPAnnualDeductibleAmt\"]=Test_ProviderWithPatientDetailsdata.groupby('DiagnosisGroupCode')['IPAnnualDeductibleAmt'].transform('mean')\n",
    "Test_ProviderWithPatientDetailsdata[\"PerDiagnosisGroupCodeAvg_OPAnnualReimbursementAmt\"]=Test_ProviderWithPatientDetailsdata.groupby('DiagnosisGroupCode')['OPAnnualReimbursementAmt'].transform('mean')\n",
    "Test_ProviderWithPatientDetailsdata[\"PerDiagnosisGroupCodeAvg_OPAnnualDeductibleAmt\"]=Test_ProviderWithPatientDetailsdata.groupby('DiagnosisGroupCode')['OPAnnualDeductibleAmt'].transform('mean')\n",
    "Test_ProviderWithPatientDetailsdata[\"PerDiagnosisGroupCodeAvg_AdmitForDays\"]=Test_ProviderWithPatientDetailsdata.groupby('DiagnosisGroupCode')['AdmitForDays'].transform('mean')"
   ]
  },
  {
   "cell_type": "markdown",
   "metadata": {},
   "source": [
    "**Average features grouped by ClmAdmitDiagnosisCode**"
   ]
  },
  {
   "cell_type": "code",
   "execution_count": 396,
   "metadata": {},
   "outputs": [],
   "source": [
    "### Average features grouped by ClmAdmitDiagnosisCode \n",
    "\n",
    "Train_ProviderWithPatientDetailsdata[\"PerClmAdmitDiagnosisCodeAvg_InscClaimAmtReimbursed\"]=Train_ProviderWithPatientDetailsdata.groupby('ClmAdmitDiagnosisCode')['InscClaimAmtReimbursed'].transform('mean')\n",
    "Train_ProviderWithPatientDetailsdata[\"PerClmAdmitDiagnosisCodeAvg_DeductibleAmtPaid\"]=Train_ProviderWithPatientDetailsdata.groupby('ClmAdmitDiagnosisCode')['DeductibleAmtPaid'].transform('mean')\n",
    "Train_ProviderWithPatientDetailsdata[\"PerClmAdmitDiagnosisCodeAvg_IPAnnualReimbursementAmt\"]=Train_ProviderWithPatientDetailsdata.groupby('ClmAdmitDiagnosisCode')['IPAnnualReimbursementAmt'].transform('mean')\n",
    "Train_ProviderWithPatientDetailsdata[\"PerClmAdmitDiagnosisCodeAvg_IPAnnualDeductibleAmt\"]=Train_ProviderWithPatientDetailsdata.groupby('ClmAdmitDiagnosisCode')['IPAnnualDeductibleAmt'].transform('mean')\n",
    "Train_ProviderWithPatientDetailsdata[\"PerClmAdmitDiagnosisCodeAvg_OPAnnualReimbursementAmt\"]=Train_ProviderWithPatientDetailsdata.groupby('ClmAdmitDiagnosisCode')['OPAnnualReimbursementAmt'].transform('mean')\n",
    "Train_ProviderWithPatientDetailsdata[\"PerClmAdmitDiagnosisCodeAvg_OPAnnualDeductibleAmt\"]=Train_ProviderWithPatientDetailsdata.groupby('ClmAdmitDiagnosisCode')['OPAnnualDeductibleAmt'].transform('mean')\n",
    "Train_ProviderWithPatientDetailsdata[\"PerClmAdmitDiagnosisCodeAvg_AdmitForDays\"]=Train_ProviderWithPatientDetailsdata.groupby('ClmAdmitDiagnosisCode')['AdmitForDays'].transform('mean')\n",
    "\n",
    "Test_ProviderWithPatientDetailsdata[\"PerClmAdmitDiagnosisCodeAvg_InscClaimAmtReimbursed\"]=Test_ProviderWithPatientDetailsdata.groupby('ClmAdmitDiagnosisCode')['InscClaimAmtReimbursed'].transform('mean')\n",
    "Test_ProviderWithPatientDetailsdata[\"PerClmAdmitDiagnosisCodeAvg_DeductibleAmtPaid\"]=Test_ProviderWithPatientDetailsdata.groupby('ClmAdmitDiagnosisCode')['DeductibleAmtPaid'].transform('mean')\n",
    "Test_ProviderWithPatientDetailsdata[\"PerClmAdmitDiagnosisCodeAvg_IPAnnualReimbursementAmt\"]=Test_ProviderWithPatientDetailsdata.groupby('ClmAdmitDiagnosisCode')['IPAnnualReimbursementAmt'].transform('mean')\n",
    "Test_ProviderWithPatientDetailsdata[\"PerClmAdmitDiagnosisCodeAvg_IPAnnualDeductibleAmt\"]=Test_ProviderWithPatientDetailsdata.groupby('ClmAdmitDiagnosisCode')['IPAnnualDeductibleAmt'].transform('mean')\n",
    "Test_ProviderWithPatientDetailsdata[\"PerClmAdmitDiagnosisCodeAvg_OPAnnualReimbursementAmt\"]=Test_ProviderWithPatientDetailsdata.groupby('ClmAdmitDiagnosisCode')['OPAnnualReimbursementAmt'].transform('mean')\n",
    "Test_ProviderWithPatientDetailsdata[\"PerClmAdmitDiagnosisCodeAvg_OPAnnualDeductibleAmt\"]=Test_ProviderWithPatientDetailsdata.groupby('ClmAdmitDiagnosisCode')['OPAnnualDeductibleAmt'].transform('mean')\n",
    "Test_ProviderWithPatientDetailsdata[\"PerClmAdmitDiagnosisCodeAvg_AdmitForDays\"]=Test_ProviderWithPatientDetailsdata.groupby('ClmAdmitDiagnosisCode')['AdmitForDays'].transform('mean')"
   ]
  },
  {
   "cell_type": "markdown",
   "metadata": {},
   "source": [
    "**Average features grouped by ClmProcedureCode_1**"
   ]
  },
  {
   "cell_type": "code",
   "execution_count": 397,
   "metadata": {},
   "outputs": [],
   "source": [
    "### Average features grouped by ClmProcedureCode_1 \n",
    "\n",
    "Train_ProviderWithPatientDetailsdata[\"PerClmProcedureCode_1Avg_InscClaimAmtReimbursed\"]=Train_ProviderWithPatientDetailsdata.groupby('ClmProcedureCode_1')['InscClaimAmtReimbursed'].transform('mean')\n",
    "Train_ProviderWithPatientDetailsdata[\"PerClmProcedureCode_1Avg_DeductibleAmtPaid\"]=Train_ProviderWithPatientDetailsdata.groupby('ClmProcedureCode_1')['DeductibleAmtPaid'].transform('mean')\n",
    "Train_ProviderWithPatientDetailsdata[\"PerClmProcedureCode_1Avg_IPAnnualReimbursementAmt\"]=Train_ProviderWithPatientDetailsdata.groupby('ClmProcedureCode_1')['IPAnnualReimbursementAmt'].transform('mean')\n",
    "Train_ProviderWithPatientDetailsdata[\"PerClmProcedureCode_1Avg_IPAnnualDeductibleAmt\"]=Train_ProviderWithPatientDetailsdata.groupby('ClmProcedureCode_1')['IPAnnualDeductibleAmt'].transform('mean')\n",
    "Train_ProviderWithPatientDetailsdata[\"PerClmProcedureCode_1Avg_OPAnnualReimbursementAmt\"]=Train_ProviderWithPatientDetailsdata.groupby('ClmProcedureCode_1')['OPAnnualReimbursementAmt'].transform('mean')\n",
    "Train_ProviderWithPatientDetailsdata[\"PerClmProcedureCode_1Avg_OPAnnualDeductibleAmt\"]=Train_ProviderWithPatientDetailsdata.groupby('ClmProcedureCode_1')['OPAnnualDeductibleAmt'].transform('mean')\n",
    "Train_ProviderWithPatientDetailsdata[\"PerClmProcedureCode_1Avg_AdmitForDays\"]=Train_ProviderWithPatientDetailsdata.groupby('ClmProcedureCode_1')['AdmitForDays'].transform('mean')\n",
    "\n",
    "\n",
    "Test_ProviderWithPatientDetailsdata[\"PerClmProcedureCode_1Avg_InscClaimAmtReimbursed\"]=Test_ProviderWithPatientDetailsdata.groupby('ClmProcedureCode_1')['InscClaimAmtReimbursed'].transform('mean')\n",
    "Test_ProviderWithPatientDetailsdata[\"PerClmProcedureCode_1Avg_DeductibleAmtPaid\"]=Test_ProviderWithPatientDetailsdata.groupby('ClmProcedureCode_1')['DeductibleAmtPaid'].transform('mean')\n",
    "Test_ProviderWithPatientDetailsdata[\"PerClmProcedureCode_1Avg_IPAnnualReimbursementAmt\"]=Test_ProviderWithPatientDetailsdata.groupby('ClmProcedureCode_1')['IPAnnualReimbursementAmt'].transform('mean')\n",
    "Test_ProviderWithPatientDetailsdata[\"PerClmProcedureCode_1Avg_IPAnnualDeductibleAmt\"]=Test_ProviderWithPatientDetailsdata.groupby('ClmProcedureCode_1')['IPAnnualDeductibleAmt'].transform('mean')\n",
    "Test_ProviderWithPatientDetailsdata[\"PerClmProcedureCode_1Avg_OPAnnualReimbursementAmt\"]=Test_ProviderWithPatientDetailsdata.groupby('ClmProcedureCode_1')['OPAnnualReimbursementAmt'].transform('mean')\n",
    "Test_ProviderWithPatientDetailsdata[\"PerClmProcedureCode_1Avg_OPAnnualDeductibleAmt\"]=Test_ProviderWithPatientDetailsdata.groupby('ClmProcedureCode_1')['OPAnnualDeductibleAmt'].transform('mean')\n",
    "Test_ProviderWithPatientDetailsdata[\"PerClmProcedureCode_1Avg_AdmitForDays\"]=Test_ProviderWithPatientDetailsdata.groupby('ClmProcedureCode_1')['AdmitForDays'].transform('mean')\n"
   ]
  },
  {
   "cell_type": "markdown",
   "metadata": {},
   "source": [
    "**Average features grouped by ClmProcedureCode_2**"
   ]
  },
  {
   "cell_type": "code",
   "execution_count": 398,
   "metadata": {},
   "outputs": [],
   "source": [
    "### Average features grouped by ClmProcedureCode_2\n",
    "\n",
    "Train_ProviderWithPatientDetailsdata[\"PerClmProcedureCode_2Avg_InscClaimAmtReimbursed\"]=Train_ProviderWithPatientDetailsdata.groupby('ClmProcedureCode_2')['InscClaimAmtReimbursed'].transform('mean')\n",
    "Train_ProviderWithPatientDetailsdata[\"PerClmProcedureCode_2Avg_DeductibleAmtPaid\"]=Train_ProviderWithPatientDetailsdata.groupby('ClmProcedureCode_2')['DeductibleAmtPaid'].transform('mean')\n",
    "Train_ProviderWithPatientDetailsdata[\"PerClmProcedureCode_2Avg_IPAnnualReimbursementAmt\"]=Train_ProviderWithPatientDetailsdata.groupby('ClmProcedureCode_2')['IPAnnualReimbursementAmt'].transform('mean')\n",
    "Train_ProviderWithPatientDetailsdata[\"PerClmProcedureCode_2Avg_IPAnnualDeductibleAmt\"]=Train_ProviderWithPatientDetailsdata.groupby('ClmProcedureCode_2')['IPAnnualDeductibleAmt'].transform('mean')\n",
    "Train_ProviderWithPatientDetailsdata[\"PerClmProcedureCode_2Avg_OPAnnualReimbursementAmt\"]=Train_ProviderWithPatientDetailsdata.groupby('ClmProcedureCode_2')['OPAnnualReimbursementAmt'].transform('mean')\n",
    "Train_ProviderWithPatientDetailsdata[\"PerClmProcedureCode_2Avg_OPAnnualDeductibleAmt\"]=Train_ProviderWithPatientDetailsdata.groupby('ClmProcedureCode_2')['OPAnnualDeductibleAmt'].transform('mean')\n",
    "Train_ProviderWithPatientDetailsdata[\"PerClmProcedureCode_2Avg_AdmitForDays\"]=Train_ProviderWithPatientDetailsdata.groupby('ClmProcedureCode_2')['AdmitForDays'].transform('mean')\n",
    "\n",
    "\n",
    "Test_ProviderWithPatientDetailsdata[\"PerClmProcedureCode_2Avg_InscClaimAmtReimbursed\"]=Test_ProviderWithPatientDetailsdata.groupby('ClmProcedureCode_2')['InscClaimAmtReimbursed'].transform('mean')\n",
    "Test_ProviderWithPatientDetailsdata[\"PerClmProcedureCode_2Avg_DeductibleAmtPaid\"]=Test_ProviderWithPatientDetailsdata.groupby('ClmProcedureCode_2')['DeductibleAmtPaid'].transform('mean')\n",
    "Test_ProviderWithPatientDetailsdata[\"PerClmProcedureCode_2Avg_IPAnnualReimbursementAmt\"]=Test_ProviderWithPatientDetailsdata.groupby('ClmProcedureCode_2')['IPAnnualReimbursementAmt'].transform('mean')\n",
    "Test_ProviderWithPatientDetailsdata[\"PerClmProcedureCode_2Avg_IPAnnualDeductibleAmt\"]=Test_ProviderWithPatientDetailsdata.groupby('ClmProcedureCode_2')['IPAnnualDeductibleAmt'].transform('mean')\n",
    "Test_ProviderWithPatientDetailsdata[\"PerClmProcedureCode_2Avg_OPAnnualReimbursementAmt\"]=Test_ProviderWithPatientDetailsdata.groupby('ClmProcedureCode_2')['OPAnnualReimbursementAmt'].transform('mean')\n",
    "Test_ProviderWithPatientDetailsdata[\"PerClmProcedureCode_2Avg_OPAnnualDeductibleAmt\"]=Test_ProviderWithPatientDetailsdata.groupby('ClmProcedureCode_2')['OPAnnualDeductibleAmt'].transform('mean')\n",
    "Test_ProviderWithPatientDetailsdata[\"PerClmProcedureCode_2Avg_AdmitForDays\"]=Test_ProviderWithPatientDetailsdata.groupby('ClmProcedureCode_2')['AdmitForDays'].transform('mean')"
   ]
  },
  {
   "cell_type": "markdown",
   "metadata": {},
   "source": [
    "**Average features grouped by ClmProcedureCode_3**"
   ]
  },
  {
   "cell_type": "code",
   "execution_count": 399,
   "metadata": {},
   "outputs": [],
   "source": [
    "###  Average features grouped by ClmProcedureCode_3\n",
    "\n",
    "Train_ProviderWithPatientDetailsdata[\"PerClmProcedureCode_3Avg_InscClaimAmtReimbursed\"]=Train_ProviderWithPatientDetailsdata.groupby('ClmProcedureCode_3')['InscClaimAmtReimbursed'].transform('mean')\n",
    "Train_ProviderWithPatientDetailsdata[\"PerClmProcedureCode_3Avg_DeductibleAmtPaid\"]=Train_ProviderWithPatientDetailsdata.groupby('ClmProcedureCode_3')['DeductibleAmtPaid'].transform('mean')\n",
    "Train_ProviderWithPatientDetailsdata[\"PerClmProcedureCode_3Avg_IPAnnualReimbursementAmt\"]=Train_ProviderWithPatientDetailsdata.groupby('ClmProcedureCode_3')['IPAnnualReimbursementAmt'].transform('mean')\n",
    "Train_ProviderWithPatientDetailsdata[\"PerClmProcedureCode_3Avg_IPAnnualDeductibleAmt\"]=Train_ProviderWithPatientDetailsdata.groupby('ClmProcedureCode_3')['IPAnnualDeductibleAmt'].transform('mean')\n",
    "Train_ProviderWithPatientDetailsdata[\"PerClmProcedureCode_3Avg_OPAnnualReimbursementAmt\"]=Train_ProviderWithPatientDetailsdata.groupby('ClmProcedureCode_3')['OPAnnualReimbursementAmt'].transform('mean')\n",
    "Train_ProviderWithPatientDetailsdata[\"PerClmProcedureCode_3Avg_OPAnnualDeductibleAmt\"]=Train_ProviderWithPatientDetailsdata.groupby('ClmProcedureCode_3')['OPAnnualDeductibleAmt'].transform('mean')\n",
    "Train_ProviderWithPatientDetailsdata[\"PerClmProcedureCode_3Avg_AdmitForDays\"]=Train_ProviderWithPatientDetailsdata.groupby('ClmProcedureCode_3')['AdmitForDays'].transform('mean')\n",
    "\n",
    "\n",
    "Test_ProviderWithPatientDetailsdata[\"PerClmProcedureCode_3Avg_InscClaimAmtReimbursed\"]=Test_ProviderWithPatientDetailsdata.groupby('ClmProcedureCode_3')['InscClaimAmtReimbursed'].transform('mean')\n",
    "Test_ProviderWithPatientDetailsdata[\"PerClmProcedureCode_3Avg_DeductibleAmtPaid\"]=Test_ProviderWithPatientDetailsdata.groupby('ClmProcedureCode_3')['DeductibleAmtPaid'].transform('mean')\n",
    "Test_ProviderWithPatientDetailsdata[\"PerClmProcedureCode_3Avg_IPAnnualReimbursementAmt\"]=Test_ProviderWithPatientDetailsdata.groupby('ClmProcedureCode_3')['IPAnnualReimbursementAmt'].transform('mean')\n",
    "Test_ProviderWithPatientDetailsdata[\"PerClmProcedureCode_3Avg_IPAnnualDeductibleAmt\"]=Test_ProviderWithPatientDetailsdata.groupby('ClmProcedureCode_3')['IPAnnualDeductibleAmt'].transform('mean')\n",
    "Test_ProviderWithPatientDetailsdata[\"PerClmProcedureCode_3Avg_OPAnnualReimbursementAmt\"]=Test_ProviderWithPatientDetailsdata.groupby('ClmProcedureCode_3')['OPAnnualReimbursementAmt'].transform('mean')\n",
    "Test_ProviderWithPatientDetailsdata[\"PerClmProcedureCode_3Avg_OPAnnualDeductibleAmt\"]=Test_ProviderWithPatientDetailsdata.groupby('ClmProcedureCode_3')['OPAnnualDeductibleAmt'].transform('mean')\n",
    "Test_ProviderWithPatientDetailsdata[\"PerClmProcedureCode_3Avg_AdmitForDays\"]=Test_ProviderWithPatientDetailsdata.groupby('ClmProcedureCode_3')['AdmitForDays'].transform('mean')"
   ]
  },
  {
   "cell_type": "markdown",
   "metadata": {},
   "source": [
    "**Average features grouped by ClmDiagnosisCode_1**"
   ]
  },
  {
   "cell_type": "code",
   "execution_count": 400,
   "metadata": {},
   "outputs": [],
   "source": [
    "### Average features grouped by ClmDiagnosisCode_1 \n",
    "\n",
    "Train_ProviderWithPatientDetailsdata[\"PerClmDiagnosisCode_1Avg_InscClaimAmtReimbursed\"]=Train_ProviderWithPatientDetailsdata.groupby('ClmDiagnosisCode_1')['InscClaimAmtReimbursed'].transform('mean')\n",
    "Train_ProviderWithPatientDetailsdata[\"PerClmDiagnosisCode_1Avg_DeductibleAmtPaid\"]=Train_ProviderWithPatientDetailsdata.groupby('ClmDiagnosisCode_1')['DeductibleAmtPaid'].transform('mean')\n",
    "Train_ProviderWithPatientDetailsdata[\"PerClmDiagnosisCode_1Avg_IPAnnualReimbursementAmt\"]=Train_ProviderWithPatientDetailsdata.groupby('ClmDiagnosisCode_1')['IPAnnualReimbursementAmt'].transform('mean')\n",
    "Train_ProviderWithPatientDetailsdata[\"PerClmDiagnosisCode_1Avg_IPAnnualDeductibleAmt\"]=Train_ProviderWithPatientDetailsdata.groupby('ClmDiagnosisCode_1')['IPAnnualDeductibleAmt'].transform('mean')\n",
    "Train_ProviderWithPatientDetailsdata[\"PerClmDiagnosisCode_1Avg_OPAnnualReimbursementAmt\"]=Train_ProviderWithPatientDetailsdata.groupby('ClmDiagnosisCode_1')['OPAnnualReimbursementAmt'].transform('mean')\n",
    "Train_ProviderWithPatientDetailsdata[\"PerClmDiagnosisCode_1Avg_OPAnnualDeductibleAmt\"]=Train_ProviderWithPatientDetailsdata.groupby('ClmDiagnosisCode_1')['OPAnnualDeductibleAmt'].transform('mean')\n",
    "Train_ProviderWithPatientDetailsdata[\"PerClmDiagnosisCode_1Avg_AdmitForDays\"]=Train_ProviderWithPatientDetailsdata.groupby('ClmDiagnosisCode_1')['AdmitForDays'].transform('mean')\n",
    "\n",
    "\n",
    "Test_ProviderWithPatientDetailsdata[\"PerClmDiagnosisCode_1Avg_InscClaimAmtReimbursed\"]=Test_ProviderWithPatientDetailsdata.groupby('ClmDiagnosisCode_1')['InscClaimAmtReimbursed'].transform('mean')\n",
    "Test_ProviderWithPatientDetailsdata[\"PerClmDiagnosisCode_1Avg_DeductibleAmtPaid\"]=Test_ProviderWithPatientDetailsdata.groupby('ClmDiagnosisCode_1')['DeductibleAmtPaid'].transform('mean')\n",
    "Test_ProviderWithPatientDetailsdata[\"PerClmDiagnosisCode_1Avg_IPAnnualReimbursementAmt\"]=Test_ProviderWithPatientDetailsdata.groupby('ClmDiagnosisCode_1')['IPAnnualReimbursementAmt'].transform('mean')\n",
    "Test_ProviderWithPatientDetailsdata[\"PerClmDiagnosisCode_1Avg_IPAnnualDeductibleAmt\"]=Test_ProviderWithPatientDetailsdata.groupby('ClmDiagnosisCode_1')['IPAnnualDeductibleAmt'].transform('mean')\n",
    "Test_ProviderWithPatientDetailsdata[\"PerClmDiagnosisCode_1Avg_OPAnnualReimbursementAmt\"]=Test_ProviderWithPatientDetailsdata.groupby('ClmDiagnosisCode_1')['OPAnnualReimbursementAmt'].transform('mean')\n",
    "Test_ProviderWithPatientDetailsdata[\"PerClmDiagnosisCode_1Avg_OPAnnualDeductibleAmt\"]=Test_ProviderWithPatientDetailsdata.groupby('ClmDiagnosisCode_1')['OPAnnualDeductibleAmt'].transform('mean')\n",
    "Test_ProviderWithPatientDetailsdata[\"PerClmDiagnosisCode_1Avg_AdmitForDays\"]=Test_ProviderWithPatientDetailsdata.groupby('ClmDiagnosisCode_1')['AdmitForDays'].transform('mean')"
   ]
  },
  {
   "cell_type": "markdown",
   "metadata": {},
   "source": [
    "**Average features grouped by ClmDiagnosisCode_2**"
   ]
  },
  {
   "cell_type": "code",
   "execution_count": 401,
   "metadata": {},
   "outputs": [],
   "source": [
    "###  Average features grouped by ClmDiagnosisCode_2\n",
    "\n",
    "Train_ProviderWithPatientDetailsdata[\"PerClmDiagnosisCode_2Avg_InscClaimAmtReimbursed\"]=Train_ProviderWithPatientDetailsdata.groupby('ClmDiagnosisCode_2')['InscClaimAmtReimbursed'].transform('mean')\n",
    "Train_ProviderWithPatientDetailsdata[\"PerClmDiagnosisCode_2Avg_DeductibleAmtPaid\"]=Train_ProviderWithPatientDetailsdata.groupby('ClmDiagnosisCode_2')['DeductibleAmtPaid'].transform('mean')\n",
    "Train_ProviderWithPatientDetailsdata[\"PerClmDiagnosisCode_2Avg_IPAnnualReimbursementAmt\"]=Train_ProviderWithPatientDetailsdata.groupby('ClmDiagnosisCode_2')['IPAnnualReimbursementAmt'].transform('mean')\n",
    "Train_ProviderWithPatientDetailsdata[\"PerClmDiagnosisCode_2Avg_IPAnnualDeductibleAmt\"]=Train_ProviderWithPatientDetailsdata.groupby('ClmDiagnosisCode_2')['IPAnnualDeductibleAmt'].transform('mean')\n",
    "Train_ProviderWithPatientDetailsdata[\"PerClmDiagnosisCode_2Avg_OPAnnualReimbursementAmt\"]=Train_ProviderWithPatientDetailsdata.groupby('ClmDiagnosisCode_2')['OPAnnualReimbursementAmt'].transform('mean')\n",
    "Train_ProviderWithPatientDetailsdata[\"PerClmDiagnosisCode_2Avg_OPAnnualDeductibleAmt\"]=Train_ProviderWithPatientDetailsdata.groupby('ClmDiagnosisCode_2')['OPAnnualDeductibleAmt'].transform('mean')\n",
    "Train_ProviderWithPatientDetailsdata[\"PerClmDiagnosisCode_2Avg_AdmitForDays\"]=Train_ProviderWithPatientDetailsdata.groupby('ClmDiagnosisCode_2')['AdmitForDays'].transform('mean')\n",
    "\n",
    "\n",
    "Test_ProviderWithPatientDetailsdata[\"PerClmDiagnosisCode_2Avg_InscClaimAmtReimbursed\"]=Test_ProviderWithPatientDetailsdata.groupby('ClmDiagnosisCode_2')['InscClaimAmtReimbursed'].transform('mean')\n",
    "Test_ProviderWithPatientDetailsdata[\"PerClmDiagnosisCode_2Avg_DeductibleAmtPaid\"]=Test_ProviderWithPatientDetailsdata.groupby('ClmDiagnosisCode_2')['DeductibleAmtPaid'].transform('mean')\n",
    "Test_ProviderWithPatientDetailsdata[\"PerClmDiagnosisCode_2Avg_IPAnnualReimbursementAmt\"]=Test_ProviderWithPatientDetailsdata.groupby('ClmDiagnosisCode_2')['IPAnnualReimbursementAmt'].transform('mean')\n",
    "Test_ProviderWithPatientDetailsdata[\"PerClmDiagnosisCode_2Avg_IPAnnualDeductibleAmt\"]=Test_ProviderWithPatientDetailsdata.groupby('ClmDiagnosisCode_2')['IPAnnualDeductibleAmt'].transform('mean')\n",
    "Test_ProviderWithPatientDetailsdata[\"PerClmDiagnosisCode_2Avg_OPAnnualReimbursementAmt\"]=Test_ProviderWithPatientDetailsdata.groupby('ClmDiagnosisCode_2')['OPAnnualReimbursementAmt'].transform('mean')\n",
    "Test_ProviderWithPatientDetailsdata[\"PerClmDiagnosisCode_2Avg_OPAnnualDeductibleAmt\"]=Test_ProviderWithPatientDetailsdata.groupby('ClmDiagnosisCode_2')['OPAnnualDeductibleAmt'].transform('mean')\n",
    "Test_ProviderWithPatientDetailsdata[\"PerClmDiagnosisCode_2Avg_AdmitForDays\"]=Test_ProviderWithPatientDetailsdata.groupby('ClmDiagnosisCode_2')['AdmitForDays'].transform('mean')"
   ]
  },
  {
   "cell_type": "markdown",
   "metadata": {},
   "source": [
    "**Average features grouped by ClmDiagnosisCode_3**"
   ]
  },
  {
   "cell_type": "code",
   "execution_count": 402,
   "metadata": {},
   "outputs": [],
   "source": [
    "###  Average features grouped by ClmDiagnosisCode_3\n",
    "\n",
    "Train_ProviderWithPatientDetailsdata[\"PerClmDiagnosisCode_3Avg_InscClaimAmtReimbursed\"]=Train_ProviderWithPatientDetailsdata.groupby('ClmDiagnosisCode_3')['InscClaimAmtReimbursed'].transform('mean')\n",
    "Train_ProviderWithPatientDetailsdata[\"PerClmDiagnosisCode_3Avg_DeductibleAmtPaid\"]=Train_ProviderWithPatientDetailsdata.groupby('ClmDiagnosisCode_3')['DeductibleAmtPaid'].transform('mean')\n",
    "Train_ProviderWithPatientDetailsdata[\"PerClmDiagnosisCode_3Avg_IPAnnualReimbursementAmt\"]=Train_ProviderWithPatientDetailsdata.groupby('ClmDiagnosisCode_3')['IPAnnualReimbursementAmt'].transform('mean')\n",
    "Train_ProviderWithPatientDetailsdata[\"PerClmDiagnosisCode_3Avg_IPAnnualDeductibleAmt\"]=Train_ProviderWithPatientDetailsdata.groupby('ClmDiagnosisCode_3')['IPAnnualDeductibleAmt'].transform('mean')\n",
    "Train_ProviderWithPatientDetailsdata[\"PerClmDiagnosisCode_3Avg_OPAnnualReimbursementAmt\"]=Train_ProviderWithPatientDetailsdata.groupby('ClmDiagnosisCode_3')['OPAnnualReimbursementAmt'].transform('mean')\n",
    "Train_ProviderWithPatientDetailsdata[\"PerClmDiagnosisCode_3Avg_OPAnnualDeductibleAmt\"]=Train_ProviderWithPatientDetailsdata.groupby('ClmDiagnosisCode_3')['OPAnnualDeductibleAmt'].transform('mean')\n",
    "Train_ProviderWithPatientDetailsdata[\"PerClmDiagnosisCode_3Avg_AdmitForDays\"]=Train_ProviderWithPatientDetailsdata.groupby('ClmDiagnosisCode_3')['AdmitForDays'].transform('mean')\n",
    "\n",
    "\n",
    "Test_ProviderWithPatientDetailsdata[\"PerClmDiagnosisCode_3Avg_InscClaimAmtReimbursed\"]=Test_ProviderWithPatientDetailsdata.groupby('ClmDiagnosisCode_3')['InscClaimAmtReimbursed'].transform('mean')\n",
    "Test_ProviderWithPatientDetailsdata[\"PerClmDiagnosisCode_3Avg_DeductibleAmtPaid\"]=Test_ProviderWithPatientDetailsdata.groupby('ClmDiagnosisCode_3')['DeductibleAmtPaid'].transform('mean')\n",
    "Test_ProviderWithPatientDetailsdata[\"PerClmDiagnosisCode_3Avg_IPAnnualReimbursementAmt\"]=Test_ProviderWithPatientDetailsdata.groupby('ClmDiagnosisCode_3')['IPAnnualReimbursementAmt'].transform('mean')\n",
    "Test_ProviderWithPatientDetailsdata[\"PerClmDiagnosisCode_3Avg_IPAnnualDeductibleAmt\"]=Test_ProviderWithPatientDetailsdata.groupby('ClmDiagnosisCode_3')['IPAnnualDeductibleAmt'].transform('mean')\n",
    "Test_ProviderWithPatientDetailsdata[\"PerClmDiagnosisCode_3Avg_OPAnnualReimbursementAmt\"]=Test_ProviderWithPatientDetailsdata.groupby('ClmDiagnosisCode_3')['OPAnnualReimbursementAmt'].transform('mean')\n",
    "Test_ProviderWithPatientDetailsdata[\"PerClmDiagnosisCode_3Avg_OPAnnualDeductibleAmt\"]=Test_ProviderWithPatientDetailsdata.groupby('ClmDiagnosisCode_3')['OPAnnualDeductibleAmt'].transform('mean')\n",
    "Test_ProviderWithPatientDetailsdata[\"PerClmDiagnosisCode_3Avg_AdmitForDays\"]=Test_ProviderWithPatientDetailsdata.groupby('ClmDiagnosisCode_3')['AdmitForDays'].transform('mean')\n"
   ]
  },
  {
   "cell_type": "markdown",
   "metadata": {},
   "source": [
    "**Average features grouped by ClmDiagnosisCode_4**"
   ]
  },
  {
   "cell_type": "code",
   "execution_count": 403,
   "metadata": {},
   "outputs": [],
   "source": [
    "###  Average features grouped by ClmDiagnosisCode_4\n",
    "\n",
    "Train_ProviderWithPatientDetailsdata[\"PerClmDiagnosisCode_4Avg_InscClaimAmtReimbursed\"]=Train_ProviderWithPatientDetailsdata.groupby('ClmDiagnosisCode_4')['InscClaimAmtReimbursed'].transform('mean')\n",
    "Train_ProviderWithPatientDetailsdata[\"PerClmDiagnosisCode_4Avg_DeductibleAmtPaid\"]=Train_ProviderWithPatientDetailsdata.groupby('ClmDiagnosisCode_4')['DeductibleAmtPaid'].transform('mean')\n",
    "Train_ProviderWithPatientDetailsdata[\"PerClmDiagnosisCode_4Avg_IPAnnualReimbursementAmt\"]=Train_ProviderWithPatientDetailsdata.groupby('ClmDiagnosisCode_4')['IPAnnualReimbursementAmt'].transform('mean')\n",
    "Train_ProviderWithPatientDetailsdata[\"PerClmDiagnosisCode_4Avg_IPAnnualDeductibleAmt\"]=Train_ProviderWithPatientDetailsdata.groupby('ClmDiagnosisCode_4')['IPAnnualDeductibleAmt'].transform('mean')\n",
    "Train_ProviderWithPatientDetailsdata[\"PerClmDiagnosisCode_4Avg_OPAnnualReimbursementAmt\"]=Train_ProviderWithPatientDetailsdata.groupby('ClmDiagnosisCode_4')['OPAnnualReimbursementAmt'].transform('mean')\n",
    "Train_ProviderWithPatientDetailsdata[\"PerClmDiagnosisCode_4Avg_OPAnnualDeductibleAmt\"]=Train_ProviderWithPatientDetailsdata.groupby('ClmDiagnosisCode_4')['OPAnnualDeductibleAmt'].transform('mean')\n",
    "Train_ProviderWithPatientDetailsdata[\"PerClmDiagnosisCode_4Avg_AdmitForDays\"]=Train_ProviderWithPatientDetailsdata.groupby('ClmDiagnosisCode_4')['AdmitForDays'].transform('mean')\n",
    "\n",
    "\n",
    "Test_ProviderWithPatientDetailsdata[\"PerClmDiagnosisCode_4Avg_InscClaimAmtReimbursed\"]=Test_ProviderWithPatientDetailsdata.groupby('ClmDiagnosisCode_4')['InscClaimAmtReimbursed'].transform('mean')\n",
    "Test_ProviderWithPatientDetailsdata[\"PerClmDiagnosisCode_4Avg_DeductibleAmtPaid\"]=Test_ProviderWithPatientDetailsdata.groupby('ClmDiagnosisCode_4')['DeductibleAmtPaid'].transform('mean')\n",
    "Test_ProviderWithPatientDetailsdata[\"PerClmDiagnosisCode_4Avg_IPAnnualReimbursementAmt\"]=Test_ProviderWithPatientDetailsdata.groupby('ClmDiagnosisCode_4')['IPAnnualReimbursementAmt'].transform('mean')\n",
    "Test_ProviderWithPatientDetailsdata[\"PerClmDiagnosisCode_4Avg_IPAnnualDeductibleAmt\"]=Test_ProviderWithPatientDetailsdata.groupby('ClmDiagnosisCode_4')['IPAnnualDeductibleAmt'].transform('mean')\n",
    "Test_ProviderWithPatientDetailsdata[\"PerClmDiagnosisCode_4Avg_OPAnnualReimbursementAmt\"]=Test_ProviderWithPatientDetailsdata.groupby('ClmDiagnosisCode_4')['OPAnnualReimbursementAmt'].transform('mean')\n",
    "Test_ProviderWithPatientDetailsdata[\"PerClmDiagnosisCode_4Avg_OPAnnualDeductibleAmt\"]=Test_ProviderWithPatientDetailsdata.groupby('ClmDiagnosisCode_4')['OPAnnualDeductibleAmt'].transform('mean')\n",
    "Test_ProviderWithPatientDetailsdata[\"PerClmDiagnosisCode_4Avg_AdmitForDays\"]=Test_ProviderWithPatientDetailsdata.groupby('ClmDiagnosisCode_4')['AdmitForDays'].transform('mean')\n"
   ]
  },
  {
   "cell_type": "markdown",
   "metadata": {},
   "source": [
    "**Claims are filed by Provider,so fraud can be organized crime.So we will check ClmCounts filed by Providers and when pairs like Provider +BeneID, Provider+Attending Physician, Provider+ClmAdmitDiagnosisCode, Provider+ClmProcedureCode_1,Provider+ClmDiagnosisCode_1 are together.**\n",
    "\n",
    "\n",
    "**Average Feature based on grouping based on combinations of different variables.**"
   ]
  },
  {
   "cell_type": "code",
   "execution_count": 404,
   "metadata": {},
   "outputs": [],
   "source": [
    "### Average Feature based on grouping based on combinations of different variables\n",
    "\n",
    "Train_ProviderWithPatientDetailsdata[\"ClmCount_Provider\"]=Train_ProviderWithPatientDetailsdata.groupby(['Provider'])['ClaimID'].transform('count')\n",
    "Train_ProviderWithPatientDetailsdata[\"ClmCount_Provider_BeneID\"]=Train_ProviderWithPatientDetailsdata.groupby(['Provider','BeneID'])['ClaimID'].transform('count')\n",
    "Train_ProviderWithPatientDetailsdata[\"ClmCount_Provider_AttendingPhysician\"]=Train_ProviderWithPatientDetailsdata.groupby(['Provider','AttendingPhysician'])['ClaimID'].transform('count')\n",
    "Train_ProviderWithPatientDetailsdata[\"ClmCount_Provider_OtherPhysician\"]=Train_ProviderWithPatientDetailsdata.groupby(['Provider','OtherPhysician'])['ClaimID'].transform('count')\n",
    "Train_ProviderWithPatientDetailsdata[\"ClmCount_Provider_OperatingPhysician\"]=Train_ProviderWithPatientDetailsdata.groupby(['Provider','OperatingPhysician'])['ClaimID'].transform('count')\n",
    "Train_ProviderWithPatientDetailsdata[\"ClmCount_Provider_ClmAdmitDiagnosisCode\"]=Train_ProviderWithPatientDetailsdata.groupby(['Provider','ClmAdmitDiagnosisCode'])['ClaimID'].transform('count')\n",
    "Train_ProviderWithPatientDetailsdata[\"ClmCount_Provider_ClmProcedureCode_1\"]=Train_ProviderWithPatientDetailsdata.groupby(['Provider','ClmProcedureCode_1'])['ClaimID'].transform('count')\n",
    "Train_ProviderWithPatientDetailsdata[\"ClmCount_Provider_ClmProcedureCode_2\"]=Train_ProviderWithPatientDetailsdata.groupby(['Provider','ClmProcedureCode_2'])['ClaimID'].transform('count')\n",
    "Train_ProviderWithPatientDetailsdata[\"ClmCount_Provider_ClmProcedureCode_3\"]=Train_ProviderWithPatientDetailsdata.groupby(['Provider','ClmProcedureCode_3'])['ClaimID'].transform('count')\n",
    "Train_ProviderWithPatientDetailsdata[\"ClmCount_Provider_ClmProcedureCode_4\"]=Train_ProviderWithPatientDetailsdata.groupby(['Provider','ClmProcedureCode_4'])['ClaimID'].transform('count')\n",
    "Train_ProviderWithPatientDetailsdata[\"ClmCount_Provider_ClmProcedureCode_5\"]=Train_ProviderWithPatientDetailsdata.groupby(['Provider','ClmProcedureCode_5'])['ClaimID'].transform('count')\n",
    "Train_ProviderWithPatientDetailsdata[\"ClmCount_Provider_ClmDiagnosisCode_1\"]=Train_ProviderWithPatientDetailsdata.groupby(['Provider','ClmDiagnosisCode_1'])['ClaimID'].transform('count')\n",
    "Train_ProviderWithPatientDetailsdata[\"ClmCount_Provider_ClmDiagnosisCode_2\"]=Train_ProviderWithPatientDetailsdata.groupby(['Provider','ClmDiagnosisCode_2'])['ClaimID'].transform('count')\n",
    "Train_ProviderWithPatientDetailsdata[\"ClmCount_Provider_ClmDiagnosisCode_3\"]=Train_ProviderWithPatientDetailsdata.groupby(['Provider','ClmDiagnosisCode_3'])['ClaimID'].transform('count')\n",
    "Train_ProviderWithPatientDetailsdata[\"ClmCount_Provider_ClmDiagnosisCode_4\"]=Train_ProviderWithPatientDetailsdata.groupby(['Provider','ClmDiagnosisCode_4'])['ClaimID'].transform('count')\n",
    "Train_ProviderWithPatientDetailsdata[\"ClmCount_Provider_ClmDiagnosisCode_5\"]=Train_ProviderWithPatientDetailsdata.groupby(['Provider','ClmDiagnosisCode_5'])['ClaimID'].transform('count')\n",
    "Train_ProviderWithPatientDetailsdata[\"ClmCount_Provider_ClmDiagnosisCode_6\"]=Train_ProviderWithPatientDetailsdata.groupby(['Provider','ClmDiagnosisCode_6'])['ClaimID'].transform('count')\n",
    "Train_ProviderWithPatientDetailsdata[\"ClmCount_Provider_ClmDiagnosisCode_7\"]=Train_ProviderWithPatientDetailsdata.groupby(['Provider','ClmDiagnosisCode_7'])['ClaimID'].transform('count')\n",
    "Train_ProviderWithPatientDetailsdata[\"ClmCount_Provider_ClmDiagnosisCode_8\"]=Train_ProviderWithPatientDetailsdata.groupby(['Provider','ClmDiagnosisCode_8'])['ClaimID'].transform('count')\n",
    "Train_ProviderWithPatientDetailsdata[\"ClmCount_Provider_ClmDiagnosisCode_9\"]=Train_ProviderWithPatientDetailsdata.groupby(['Provider','ClmDiagnosisCode_9'])['ClaimID'].transform('count')\n",
    "Train_ProviderWithPatientDetailsdata[\"ClmCount_Provider_DiagnosisGroupCode\"]=Train_ProviderWithPatientDetailsdata.groupby(['Provider','DiagnosisGroupCode'])['ClaimID'].transform('count')\n",
    "\n",
    "Train_ProviderWithPatientDetailsdata[\"ClmCount_Provider_BeneID_AttendingPhysician\"]=Train_ProviderWithPatientDetailsdata.groupby(['Provider','BeneID','AttendingPhysician'])['ClaimID'].transform('count')\n",
    "Train_ProviderWithPatientDetailsdata[\"ClmCount_Provider_BeneID_OtherPhysician\"]=Train_ProviderWithPatientDetailsdata.groupby(['Provider','BeneID','OtherPhysician'])['ClaimID'].transform('count')\n",
    "Train_ProviderWithPatientDetailsdata[\"ClmCount_Provider_BeneID_AttendingPhysician_ClmProcedureCode_1\"]=Train_ProviderWithPatientDetailsdata.groupby(['Provider','BeneID','AttendingPhysician','ClmProcedureCode_1'])['ClaimID'].transform('count')\n",
    "Train_ProviderWithPatientDetailsdata[\"ClmCount_Provider_BeneID_AttendingPhysician_ClmDiagnosisCode_1\"]=Train_ProviderWithPatientDetailsdata.groupby(['Provider','BeneID','AttendingPhysician','ClmDiagnosisCode_1'])['ClaimID'].transform('count')\n",
    "Train_ProviderWithPatientDetailsdata[\"ClmCount_Provider_BeneID_OperatingPhysician\"]=Train_ProviderWithPatientDetailsdata.groupby(['Provider','BeneID','OperatingPhysician'])['ClaimID'].transform('count')\n",
    "Train_ProviderWithPatientDetailsdata[\"ClmCount_Provider_BeneID_ClmProcedureCode_1\"]=Train_ProviderWithPatientDetailsdata.groupby(['Provider','BeneID','ClmProcedureCode_1'])['ClaimID'].transform('count')\n",
    "Train_ProviderWithPatientDetailsdata[\"ClmCount_Provider_BeneID_ClmDiagnosisCode_1\"]=Train_ProviderWithPatientDetailsdata.groupby(['Provider','BeneID','ClmDiagnosisCode_1'])['ClaimID'].transform('count')\n",
    "Train_ProviderWithPatientDetailsdata[\"ClmCount_Provider_BeneID_ClmDiagnosisCode_1_ClmProcedureCode_1\"]=Train_ProviderWithPatientDetailsdata.groupby(['Provider','BeneID','ClmDiagnosisCode_1','ClmProcedureCode_1'])['ClaimID'].transform('count')\n",
    "\n",
    "\n",
    "Test_ProviderWithPatientDetailsdata[\"ClmCount_Provider\"]=Test_ProviderWithPatientDetailsdata.groupby(['Provider'])['ClaimID'].transform('count')\n",
    "Test_ProviderWithPatientDetailsdata[\"ClmCount_Provider_BeneID\"]=Test_ProviderWithPatientDetailsdata.groupby(['Provider','BeneID'])['ClaimID'].transform('count')\n",
    "Test_ProviderWithPatientDetailsdata[\"ClmCount_Provider_AttendingPhysician\"]=Test_ProviderWithPatientDetailsdata.groupby(['Provider','AttendingPhysician'])['ClaimID'].transform('count')\n",
    "Test_ProviderWithPatientDetailsdata[\"ClmCount_Provider_OtherPhysician\"]=Test_ProviderWithPatientDetailsdata.groupby(['Provider','OtherPhysician'])['ClaimID'].transform('count')\n",
    "Test_ProviderWithPatientDetailsdata[\"ClmCount_Provider_OperatingPhysician\"]=Test_ProviderWithPatientDetailsdata.groupby(['Provider','OperatingPhysician'])['ClaimID'].transform('count')\n",
    "Test_ProviderWithPatientDetailsdata[\"ClmCount_Provider_ClmAdmitDiagnosisCode\"]=Test_ProviderWithPatientDetailsdata.groupby(['Provider','ClmAdmitDiagnosisCode'])['ClaimID'].transform('count')\n",
    "Test_ProviderWithPatientDetailsdata[\"ClmCount_Provider_ClmProcedureCode_1\"]=Test_ProviderWithPatientDetailsdata.groupby(['Provider','ClmProcedureCode_1'])['ClaimID'].transform('count')\n",
    "Test_ProviderWithPatientDetailsdata[\"ClmCount_Provider_ClmProcedureCode_2\"]=Test_ProviderWithPatientDetailsdata.groupby(['Provider','ClmProcedureCode_2'])['ClaimID'].transform('count')\n",
    "Test_ProviderWithPatientDetailsdata[\"ClmCount_Provider_ClmProcedureCode_3\"]=Test_ProviderWithPatientDetailsdata.groupby(['Provider','ClmProcedureCode_3'])['ClaimID'].transform('count')\n",
    "Test_ProviderWithPatientDetailsdata[\"ClmCount_Provider_ClmProcedureCode_4\"]=Test_ProviderWithPatientDetailsdata.groupby(['Provider','ClmProcedureCode_4'])['ClaimID'].transform('count')\n",
    "Test_ProviderWithPatientDetailsdata[\"ClmCount_Provider_ClmProcedureCode_5\"]=Test_ProviderWithPatientDetailsdata.groupby(['Provider','ClmProcedureCode_5'])['ClaimID'].transform('count')\n",
    "Test_ProviderWithPatientDetailsdata[\"ClmCount_Provider_ClmDiagnosisCode_1\"]=Test_ProviderWithPatientDetailsdata.groupby(['Provider','ClmDiagnosisCode_1'])['ClaimID'].transform('count')\n",
    "Test_ProviderWithPatientDetailsdata[\"ClmCount_Provider_ClmDiagnosisCode_2\"]=Test_ProviderWithPatientDetailsdata.groupby(['Provider','ClmDiagnosisCode_2'])['ClaimID'].transform('count')\n",
    "Test_ProviderWithPatientDetailsdata[\"ClmCount_Provider_ClmDiagnosisCode_3\"]=Test_ProviderWithPatientDetailsdata.groupby(['Provider','ClmDiagnosisCode_3'])['ClaimID'].transform('count')\n",
    "Test_ProviderWithPatientDetailsdata[\"ClmCount_Provider_ClmDiagnosisCode_4\"]=Test_ProviderWithPatientDetailsdata.groupby(['Provider','ClmDiagnosisCode_4'])['ClaimID'].transform('count')\n",
    "Test_ProviderWithPatientDetailsdata[\"ClmCount_Provider_ClmDiagnosisCode_5\"]=Test_ProviderWithPatientDetailsdata.groupby(['Provider','ClmDiagnosisCode_5'])['ClaimID'].transform('count')\n",
    "Test_ProviderWithPatientDetailsdata[\"ClmCount_Provider_ClmDiagnosisCode_6\"]=Test_ProviderWithPatientDetailsdata.groupby(['Provider','ClmDiagnosisCode_6'])['ClaimID'].transform('count')\n",
    "Test_ProviderWithPatientDetailsdata[\"ClmCount_Provider_ClmDiagnosisCode_7\"]=Test_ProviderWithPatientDetailsdata.groupby(['Provider','ClmDiagnosisCode_7'])['ClaimID'].transform('count')\n",
    "Test_ProviderWithPatientDetailsdata[\"ClmCount_Provider_ClmDiagnosisCode_8\"]=Test_ProviderWithPatientDetailsdata.groupby(['Provider','ClmDiagnosisCode_8'])['ClaimID'].transform('count')\n",
    "Test_ProviderWithPatientDetailsdata[\"ClmCount_Provider_ClmDiagnosisCode_9\"]=Test_ProviderWithPatientDetailsdata.groupby(['Provider','ClmDiagnosisCode_9'])['ClaimID'].transform('count')\n",
    "Test_ProviderWithPatientDetailsdata[\"ClmCount_Provider_DiagnosisGroupCode\"]=Test_ProviderWithPatientDetailsdata.groupby(['Provider','DiagnosisGroupCode'])['ClaimID'].transform('count')\n",
    "\n",
    "Test_ProviderWithPatientDetailsdata[\"ClmCount_Provider_BeneID_AttendingPhysician\"]=Test_ProviderWithPatientDetailsdata.groupby(['Provider','BeneID','AttendingPhysician'])['ClaimID'].transform('count')\n",
    "Test_ProviderWithPatientDetailsdata[\"ClmCount_Provider_BeneID_OtherPhysician\"]=Test_ProviderWithPatientDetailsdata.groupby(['Provider','BeneID','OtherPhysician'])['ClaimID'].transform('count')\n",
    "Test_ProviderWithPatientDetailsdata[\"ClmCount_Provider_BeneID_AttendingPhysician_ClmProcedureCode_1\"]=Test_ProviderWithPatientDetailsdata.groupby(['Provider','BeneID','AttendingPhysician','ClmProcedureCode_1'])['ClaimID'].transform('count')\n",
    "Test_ProviderWithPatientDetailsdata[\"ClmCount_Provider_BeneID_AttendingPhysician_ClmDiagnosisCode_1\"]=Test_ProviderWithPatientDetailsdata.groupby(['Provider','BeneID','AttendingPhysician','ClmDiagnosisCode_1'])['ClaimID'].transform('count')\n",
    "Test_ProviderWithPatientDetailsdata[\"ClmCount_Provider_BeneID_OperatingPhysician\"]=Test_ProviderWithPatientDetailsdata.groupby(['Provider','BeneID','OperatingPhysician'])['ClaimID'].transform('count')\n",
    "Test_ProviderWithPatientDetailsdata[\"ClmCount_Provider_BeneID_ClmProcedureCode_1\"]=Test_ProviderWithPatientDetailsdata.groupby(['Provider','BeneID','ClmProcedureCode_1'])['ClaimID'].transform('count')\n",
    "Test_ProviderWithPatientDetailsdata[\"ClmCount_Provider_BeneID_ClmDiagnosisCode_1\"]=Test_ProviderWithPatientDetailsdata.groupby(['Provider','BeneID','ClmDiagnosisCode_1'])['ClaimID'].transform('count')\n",
    "Test_ProviderWithPatientDetailsdata[\"ClmCount_Provider_BeneID_ClmDiagnosisCode_1_ClmProcedureCode_1\"]=Test_ProviderWithPatientDetailsdata.groupby(['Provider','BeneID','ClmDiagnosisCode_1','ClmProcedureCode_1'])['ClaimID'].transform('count')\n"
   ]
  },
  {
   "cell_type": "code",
   "execution_count": 405,
   "metadata": {},
   "outputs": [
    {
     "name": "stdout",
     "output_type": "stream",
     "text": [
      "Train_ProviderWithPatientDetailsdata shape- (558211, 188)\n",
      "Test_ProviderWithPatientDetailsdata shape- (693603, 187)\n"
     ]
    }
   ],
   "source": [
    "## Lets Check Shape after creating new features.\n",
    "\n",
    "print('Train_ProviderWithPatientDetailsdata shape-',Train_ProviderWithPatientDetailsdata.shape)\n",
    "print('Test_ProviderWithPatientDetailsdata shape-',Test_ProviderWithPatientDetailsdata.shape)"
   ]
  },
  {
   "cell_type": "code",
   "execution_count": 406,
   "metadata": {},
   "outputs": [
    {
     "data": {
      "text/plain": [
       "array(['59', '78', 'V4', '29', '03', '51', 'na', '71', 'V1', '27', '42',\n",
       "       'V7', '24', '41', '56', '79', '04', '35', '85', 'V5', '72', '44',\n",
       "       '45', '18', '60', '50', '57', '40', '16', '25', '68', '15', '82',\n",
       "       '28', '61', '47', '99', '20', '70', '33', '31', '49', '88', '48',\n",
       "       '53', '43', '91', '55', '00', '58', '73', '46', '19', '17', 'V0',\n",
       "       '34', 'V6', '62', 'V8', '11', '36', '83', 'E8', '02', '32', '52',\n",
       "       '38', '23', '84', '37', 'V2', '87', '30', '90', '21', '12', '92',\n",
       "       '39', '63', '69', '64', '81', '89', '95', '80', '22', '07', '06',\n",
       "       '93', '94', '54', '26', '05', '13', '74', '14', '98', '08', '97',\n",
       "       '75', '66', 'E9', '09', '96', '10', '77', '86', '65', '67', '01',\n",
       "       '76'], dtype=object)"
      ]
     },
     "execution_count": 406,
     "metadata": {},
     "output_type": "execute_result"
    }
   ],
   "source": [
    "## Lets Check unique values of ICD Diagnosis Codes\n",
    "\n",
    "diagnosiscode_2chars=Train_ProviderWithPatientDetailsdata['ClmDiagnosisCode_1'].astype(str).str[0:2]\n",
    "\n",
    "diagnosiscode_2chars.unique()"
   ]
  },
  {
   "cell_type": "code",
   "execution_count": 407,
   "metadata": {},
   "outputs": [
    {
     "data": {
      "text/plain": [
       "array(['00', '01', '02', '03', '04', '05', '06', '07', '08', '09', '10',\n",
       "       '11', '12', '13', '14', '15', '16', '17', '18', '19', '20', '21',\n",
       "       '22', '23', '24', '25', '26', '27', '28', '29', '30', '31', '32',\n",
       "       '33', '34', '35', '36', '37', '38', '39', '40', '41', '42', '43',\n",
       "       '44', '45', '46', '47', '48', '49', '50', '51', '52', '53', '54',\n",
       "       '55', '56', '57', '58', '59', '60', '61', '62', '63', '64', '65',\n",
       "       '66', '67', '68', '69', '70', '71', '72', '73', '74', '75', '76',\n",
       "       '77', '78', '79', '80', '81', '82', '83', '84', '85', '86', '87',\n",
       "       '88', '89', '90', '91', '92', '93', '94', '95', '96', '97', '98',\n",
       "       '99', 'E8', 'E9', 'V0', 'V1', 'V2', 'V4', 'V5', 'V6', 'V7', 'V8',\n",
       "       'na'], dtype=object)"
      ]
     },
     "execution_count": 407,
     "metadata": {},
     "output_type": "execute_result"
    }
   ],
   "source": [
    "x=diagnosiscode_2chars.sort_values(ascending=True)\n",
    "x.unique()\n",
    "#x.value_counts()[:10]"
   ]
  },
  {
   "cell_type": "markdown",
   "metadata": {},
   "source": [
    "**Above Data Shows that if we take only first 2 characters of diagnosis code for the purpose of grouping them ,we might end up creating large sparse matrix ,as each 'code' column will generate 120+ dummy columns.This will increase computational time and loose explicability.**"
   ]
  },
  {
   "cell_type": "markdown",
   "metadata": {},
   "source": [
    "## Data Preprocessing"
   ]
  },
  {
   "cell_type": "markdown",
   "metadata": {},
   "source": [
    "**Impute Numeric columns with 0's.**"
   ]
  },
  {
   "cell_type": "code",
   "execution_count": 408,
   "metadata": {},
   "outputs": [
    {
     "name": "stdout",
     "output_type": "stream",
     "text": [
      "Test_ProviderWithPatientDetailsdata shape: (693603, 187)\n"
     ]
    }
   ],
   "source": [
    "##### Lets impute numeric columns with 0\n",
    "\n",
    "cols1 = Train_ProviderWithPatientDetailsdata.select_dtypes([np.number]).columns\n",
    "cols2 = Train_ProviderWithPatientDetailsdata.select_dtypes(exclude = [np.number]).columns\n",
    "\n",
    "Train_ProviderWithPatientDetailsdata[cols1] = Train_ProviderWithPatientDetailsdata[cols1].fillna(value=0)\n",
    "Test_ProviderWithPatientDetailsdata[cols1]=Test_ProviderWithPatientDetailsdata[cols1].fillna(value=0)\n",
    "print('Test_ProviderWithPatientDetailsdata shape:',Test_ProviderWithPatientDetailsdata.shape)"
   ]
  },
  {
   "cell_type": "markdown",
   "metadata": {},
   "source": [
    "**Feature Selection**"
   ]
  },
  {
   "cell_type": "code",
   "execution_count": 409,
   "metadata": {},
   "outputs": [],
   "source": [
    "# Lets remove unnecessary columns ,as we grouped based on these columns and derived maximum infromation from them.\n",
    "\n",
    "cols=Train_ProviderWithPatientDetailsdata.columns\n",
    "cols[:58]\n",
    "\n",
    "remove_these_columns=['BeneID', 'ClaimID', 'ClaimStartDt','ClaimEndDt','AttendingPhysician',\n",
    "       'OperatingPhysician', 'OtherPhysician', 'ClmDiagnosisCode_1',\n",
    "       'ClmDiagnosisCode_2', 'ClmDiagnosisCode_3', 'ClmDiagnosisCode_4',\n",
    "       'ClmDiagnosisCode_5', 'ClmDiagnosisCode_6', 'ClmDiagnosisCode_7',\n",
    "       'ClmDiagnosisCode_8', 'ClmDiagnosisCode_9', 'ClmDiagnosisCode_10',\n",
    "       'ClmProcedureCode_1', 'ClmProcedureCode_2', 'ClmProcedureCode_3',\n",
    "       'ClmProcedureCode_4', 'ClmProcedureCode_5', 'ClmProcedureCode_6',\n",
    "       'ClmAdmitDiagnosisCode', 'AdmissionDt',\n",
    "       'DischargeDt', 'DiagnosisGroupCode','DOB', 'DOD',\n",
    "        'State', 'County']\n",
    "\n",
    "Train_category_removed=Train_ProviderWithPatientDetailsdata.drop(axis=1,columns=remove_these_columns)\n",
    "Test_category_removed=Test_ProviderWithPatientDetailsdata.drop(axis=1,columns=remove_these_columns)"
   ]
  },
  {
   "cell_type": "code",
   "execution_count": 410,
   "metadata": {},
   "outputs": [
    {
     "name": "stdout",
     "output_type": "stream",
     "text": [
      "Train Shape : (558211, 157)\n",
      "Test Shape :  (693603, 156)\n",
      "Train Missing Values 0\n",
      "Test Missing Values 0\n"
     ]
    }
   ],
   "source": [
    "## Lets Check shape and missing values\n",
    "\n",
    "print('Train Shape :',Train_category_removed.shape)\n",
    "print('Test Shape : ',Test_category_removed.shape)\n",
    "print(\"Train Missing Values\",Train_category_removed.isnull().sum().sum())\n",
    "print(\"Test Missing Values\",Test_category_removed.isnull().sum().sum())"
   ]
  },
  {
   "cell_type": "markdown",
   "metadata": {},
   "source": [
    "**Type Conversion**"
   ]
  },
  {
   "cell_type": "code",
   "execution_count": 411,
   "metadata": {},
   "outputs": [],
   "source": [
    "## Lets Convert types of gender and race to categorical.\n",
    "\n",
    "Train_category_removed.Gender=Train_category_removed.Gender.astype('category')\n",
    "Test_category_removed.Gender=Test_category_removed.Gender.astype('category')\n",
    "\n",
    "Train_category_removed.Race=Train_category_removed.Race.astype('category')\n",
    "Test_category_removed.Race=Test_category_removed.Race.astype('category')"
   ]
  },
  {
   "cell_type": "markdown",
   "metadata": {},
   "source": [
    "**Dummification**"
   ]
  },
  {
   "cell_type": "code",
   "execution_count": 412,
   "metadata": {},
   "outputs": [],
   "source": [
    "# Lets create dummies for categorical columns.\n",
    "\n",
    "Train_category_removed=pd.get_dummies(Train_category_removed,columns=['Gender','Race'],drop_first=True)\n",
    "Test_category_removed=pd.get_dummies(Test_category_removed,columns=['Gender','Race'],drop_first=True)"
   ]
  },
  {
   "cell_type": "code",
   "execution_count": 413,
   "metadata": {},
   "outputs": [
    {
     "data": {
      "text/html": [
       "<div>\n",
       "<style scoped>\n",
       "    .dataframe tbody tr th:only-of-type {\n",
       "        vertical-align: middle;\n",
       "    }\n",
       "\n",
       "    .dataframe tbody tr th {\n",
       "        vertical-align: top;\n",
       "    }\n",
       "\n",
       "    .dataframe thead th {\n",
       "        text-align: right;\n",
       "    }\n",
       "</style>\n",
       "<table border=\"1\" class=\"dataframe\">\n",
       "  <thead>\n",
       "    <tr style=\"text-align: right;\">\n",
       "      <th></th>\n",
       "      <th>Provider</th>\n",
       "      <th>InscClaimAmtReimbursed</th>\n",
       "      <th>DeductibleAmtPaid</th>\n",
       "      <th>AdmitForDays</th>\n",
       "      <th>RenalDiseaseIndicator</th>\n",
       "      <th>NoOfMonths_PartACov</th>\n",
       "      <th>NoOfMonths_PartBCov</th>\n",
       "      <th>ChronicCond_Alzheimer</th>\n",
       "      <th>ChronicCond_Heartfailure</th>\n",
       "      <th>ChronicCond_KidneyDisease</th>\n",
       "      <th>...</th>\n",
       "      <th>ClmCount_Provider_BeneID_AttendingPhysician_ClmProcedureCode_1</th>\n",
       "      <th>ClmCount_Provider_BeneID_AttendingPhysician_ClmDiagnosisCode_1</th>\n",
       "      <th>ClmCount_Provider_BeneID_OperatingPhysician</th>\n",
       "      <th>ClmCount_Provider_BeneID_ClmProcedureCode_1</th>\n",
       "      <th>ClmCount_Provider_BeneID_ClmDiagnosisCode_1</th>\n",
       "      <th>ClmCount_Provider_BeneID_ClmDiagnosisCode_1_ClmProcedureCode_1</th>\n",
       "      <th>Gender_2</th>\n",
       "      <th>Race_2</th>\n",
       "      <th>Race_3</th>\n",
       "      <th>Race_5</th>\n",
       "    </tr>\n",
       "  </thead>\n",
       "  <tbody>\n",
       "    <tr>\n",
       "      <th>135391</th>\n",
       "      <td>PRV57750</td>\n",
       "      <td>200</td>\n",
       "      <td>0.0</td>\n",
       "      <td>0.0</td>\n",
       "      <td>0</td>\n",
       "      <td>12</td>\n",
       "      <td>12</td>\n",
       "      <td>0</td>\n",
       "      <td>1</td>\n",
       "      <td>0</td>\n",
       "      <td>...</td>\n",
       "      <td>0.0</td>\n",
       "      <td>1.0</td>\n",
       "      <td>1.0</td>\n",
       "      <td>0.0</td>\n",
       "      <td>1.0</td>\n",
       "      <td>0.0</td>\n",
       "      <td>1</td>\n",
       "      <td>0</td>\n",
       "      <td>1</td>\n",
       "      <td>0</td>\n",
       "    </tr>\n",
       "    <tr>\n",
       "      <th>0</th>\n",
       "      <td>PRV51001</td>\n",
       "      <td>20</td>\n",
       "      <td>0.0</td>\n",
       "      <td>0.0</td>\n",
       "      <td>1</td>\n",
       "      <td>12</td>\n",
       "      <td>12</td>\n",
       "      <td>1</td>\n",
       "      <td>1</td>\n",
       "      <td>1</td>\n",
       "      <td>...</td>\n",
       "      <td>0.0</td>\n",
       "      <td>1.0</td>\n",
       "      <td>0.0</td>\n",
       "      <td>0.0</td>\n",
       "      <td>1.0</td>\n",
       "      <td>0.0</td>\n",
       "      <td>0</td>\n",
       "      <td>0</td>\n",
       "      <td>0</td>\n",
       "      <td>0</td>\n",
       "    </tr>\n",
       "  </tbody>\n",
       "</table>\n",
       "<p>2 rows × 158 columns</p>\n",
       "</div>"
      ],
      "text/plain": [
       "        Provider  InscClaimAmtReimbursed  DeductibleAmtPaid  AdmitForDays  \\\n",
       "135391  PRV57750                     200                0.0           0.0   \n",
       "0       PRV51001                      20                0.0           0.0   \n",
       "\n",
       "       RenalDiseaseIndicator  NoOfMonths_PartACov  NoOfMonths_PartBCov  \\\n",
       "135391                     0                   12                   12   \n",
       "0                          1                   12                   12   \n",
       "\n",
       "        ChronicCond_Alzheimer  ChronicCond_Heartfailure  \\\n",
       "135391                      0                         1   \n",
       "0                           1                         1   \n",
       "\n",
       "        ChronicCond_KidneyDisease  ...  \\\n",
       "135391                          0  ...   \n",
       "0                               1  ...   \n",
       "\n",
       "        ClmCount_Provider_BeneID_AttendingPhysician_ClmProcedureCode_1  \\\n",
       "135391                                                0.0                \n",
       "0                                                     0.0                \n",
       "\n",
       "        ClmCount_Provider_BeneID_AttendingPhysician_ClmDiagnosisCode_1  \\\n",
       "135391                                                1.0                \n",
       "0                                                     1.0                \n",
       "\n",
       "        ClmCount_Provider_BeneID_OperatingPhysician  \\\n",
       "135391                                          1.0   \n",
       "0                                               0.0   \n",
       "\n",
       "        ClmCount_Provider_BeneID_ClmProcedureCode_1  \\\n",
       "135391                                          0.0   \n",
       "0                                               0.0   \n",
       "\n",
       "        ClmCount_Provider_BeneID_ClmDiagnosisCode_1  \\\n",
       "135391                                          1.0   \n",
       "0                                               1.0   \n",
       "\n",
       "        ClmCount_Provider_BeneID_ClmDiagnosisCode_1_ClmProcedureCode_1  \\\n",
       "135391                                                0.0                \n",
       "0                                                     0.0                \n",
       "\n",
       "        Gender_2  Race_2  Race_3  Race_5  \n",
       "135391         1       0       1       0  \n",
       "0              0       0       0       0  \n",
       "\n",
       "[2 rows x 158 columns]"
      ]
     },
     "execution_count": 413,
     "metadata": {},
     "output_type": "execute_result"
    }
   ],
   "source": [
    "\n",
    "Train_category_removed.head().T\n",
    "Test_category_removed.iloc[135391:135393]"
   ]
  },
  {
   "cell_type": "markdown",
   "metadata": {},
   "source": [
    "**Convert Target values to 1 and 0,wher '1' means Yes and '0' means No**"
   ]
  },
  {
   "cell_type": "code",
   "execution_count": 414,
   "metadata": {},
   "outputs": [
    {
     "data": {
      "text/plain": [
       "0"
      ]
     },
     "execution_count": 414,
     "metadata": {},
     "output_type": "execute_result"
    }
   ],
   "source": [
    "    Train_category_removed.PotentialFraud.replace(['Yes','No'],['1','0'],inplace=True)\n",
    "Train_category_removed.head()\n",
    "Train_category_removed.PotentialFraud=Train_category_removed.PotentialFraud.astype('int64')\n",
    "Train_category_removed.PotentialFraud.dtypes\n",
    "Train_category_removed.PotentialFraud.min()"
   ]
  },
  {
   "cell_type": "code",
   "execution_count": 415,
   "metadata": {},
   "outputs": [
    {
     "data": {
      "text/plain": [
       "1"
      ]
     },
     "execution_count": 415,
     "metadata": {},
     "output_type": "execute_result"
    }
   ],
   "source": [
    "Train_category_removed.PotentialFraud.max()"
   ]
  },
  {
   "cell_type": "markdown",
   "metadata": {},
   "source": [
    "**Select only Test related data from merged data**"
   ]
  },
  {
   "cell_type": "code",
   "execution_count": 416,
   "metadata": {},
   "outputs": [
    {
     "name": "stdout",
     "output_type": "stream",
     "text": [
      "Test Shape before removing (693603, 158)\n"
     ]
    }
   ],
   "source": [
    "print('Test Shape before removing',Test_category_removed.shape)"
   ]
  },
  {
   "cell_type": "code",
   "execution_count": 417,
   "metadata": {},
   "outputs": [],
   "source": [
    "Test_category_removed=Test_category_removed.iloc[:135392]   ##Remove train data from appended test data"
   ]
  },
  {
   "cell_type": "code",
   "execution_count": 418,
   "metadata": {},
   "outputs": [
    {
     "data": {
      "text/html": [
       "<div>\n",
       "<style scoped>\n",
       "    .dataframe tbody tr th:only-of-type {\n",
       "        vertical-align: middle;\n",
       "    }\n",
       "\n",
       "    .dataframe tbody tr th {\n",
       "        vertical-align: top;\n",
       "    }\n",
       "\n",
       "    .dataframe thead th {\n",
       "        text-align: right;\n",
       "    }\n",
       "</style>\n",
       "<table border=\"1\" class=\"dataframe\">\n",
       "  <thead>\n",
       "    <tr style=\"text-align: right;\">\n",
       "      <th></th>\n",
       "      <th>Provider</th>\n",
       "      <th>InscClaimAmtReimbursed</th>\n",
       "      <th>DeductibleAmtPaid</th>\n",
       "      <th>AdmitForDays</th>\n",
       "      <th>RenalDiseaseIndicator</th>\n",
       "      <th>NoOfMonths_PartACov</th>\n",
       "      <th>NoOfMonths_PartBCov</th>\n",
       "      <th>ChronicCond_Alzheimer</th>\n",
       "      <th>ChronicCond_Heartfailure</th>\n",
       "      <th>ChronicCond_KidneyDisease</th>\n",
       "      <th>...</th>\n",
       "      <th>ClmCount_Provider_BeneID_AttendingPhysician_ClmProcedureCode_1</th>\n",
       "      <th>ClmCount_Provider_BeneID_AttendingPhysician_ClmDiagnosisCode_1</th>\n",
       "      <th>ClmCount_Provider_BeneID_OperatingPhysician</th>\n",
       "      <th>ClmCount_Provider_BeneID_ClmProcedureCode_1</th>\n",
       "      <th>ClmCount_Provider_BeneID_ClmDiagnosisCode_1</th>\n",
       "      <th>ClmCount_Provider_BeneID_ClmDiagnosisCode_1_ClmProcedureCode_1</th>\n",
       "      <th>Gender_2</th>\n",
       "      <th>Race_2</th>\n",
       "      <th>Race_3</th>\n",
       "      <th>Race_5</th>\n",
       "    </tr>\n",
       "  </thead>\n",
       "  <tbody>\n",
       "    <tr>\n",
       "      <th>135387</th>\n",
       "      <td>PRV57750</td>\n",
       "      <td>1300</td>\n",
       "      <td>0.0</td>\n",
       "      <td>0.0</td>\n",
       "      <td>0</td>\n",
       "      <td>12</td>\n",
       "      <td>12</td>\n",
       "      <td>0</td>\n",
       "      <td>1</td>\n",
       "      <td>0</td>\n",
       "      <td>...</td>\n",
       "      <td>0.0</td>\n",
       "      <td>1.0</td>\n",
       "      <td>0.0</td>\n",
       "      <td>0.0</td>\n",
       "      <td>1.0</td>\n",
       "      <td>0.0</td>\n",
       "      <td>1</td>\n",
       "      <td>0</td>\n",
       "      <td>0</td>\n",
       "      <td>0</td>\n",
       "    </tr>\n",
       "    <tr>\n",
       "      <th>135388</th>\n",
       "      <td>PRV57750</td>\n",
       "      <td>10</td>\n",
       "      <td>0.0</td>\n",
       "      <td>0.0</td>\n",
       "      <td>0</td>\n",
       "      <td>12</td>\n",
       "      <td>12</td>\n",
       "      <td>0</td>\n",
       "      <td>0</td>\n",
       "      <td>0</td>\n",
       "      <td>...</td>\n",
       "      <td>0.0</td>\n",
       "      <td>1.0</td>\n",
       "      <td>0.0</td>\n",
       "      <td>0.0</td>\n",
       "      <td>1.0</td>\n",
       "      <td>0.0</td>\n",
       "      <td>1</td>\n",
       "      <td>0</td>\n",
       "      <td>0</td>\n",
       "      <td>0</td>\n",
       "    </tr>\n",
       "    <tr>\n",
       "      <th>135389</th>\n",
       "      <td>PRV57750</td>\n",
       "      <td>200</td>\n",
       "      <td>0.0</td>\n",
       "      <td>0.0</td>\n",
       "      <td>0</td>\n",
       "      <td>12</td>\n",
       "      <td>12</td>\n",
       "      <td>0</td>\n",
       "      <td>0</td>\n",
       "      <td>0</td>\n",
       "      <td>...</td>\n",
       "      <td>0.0</td>\n",
       "      <td>1.0</td>\n",
       "      <td>0.0</td>\n",
       "      <td>0.0</td>\n",
       "      <td>1.0</td>\n",
       "      <td>0.0</td>\n",
       "      <td>1</td>\n",
       "      <td>1</td>\n",
       "      <td>0</td>\n",
       "      <td>0</td>\n",
       "    </tr>\n",
       "    <tr>\n",
       "      <th>135390</th>\n",
       "      <td>PRV57750</td>\n",
       "      <td>2300</td>\n",
       "      <td>0.0</td>\n",
       "      <td>0.0</td>\n",
       "      <td>0</td>\n",
       "      <td>12</td>\n",
       "      <td>12</td>\n",
       "      <td>1</td>\n",
       "      <td>0</td>\n",
       "      <td>1</td>\n",
       "      <td>...</td>\n",
       "      <td>0.0</td>\n",
       "      <td>1.0</td>\n",
       "      <td>1.0</td>\n",
       "      <td>0.0</td>\n",
       "      <td>1.0</td>\n",
       "      <td>0.0</td>\n",
       "      <td>1</td>\n",
       "      <td>0</td>\n",
       "      <td>0</td>\n",
       "      <td>0</td>\n",
       "    </tr>\n",
       "    <tr>\n",
       "      <th>135391</th>\n",
       "      <td>PRV57750</td>\n",
       "      <td>200</td>\n",
       "      <td>0.0</td>\n",
       "      <td>0.0</td>\n",
       "      <td>0</td>\n",
       "      <td>12</td>\n",
       "      <td>12</td>\n",
       "      <td>0</td>\n",
       "      <td>1</td>\n",
       "      <td>0</td>\n",
       "      <td>...</td>\n",
       "      <td>0.0</td>\n",
       "      <td>1.0</td>\n",
       "      <td>1.0</td>\n",
       "      <td>0.0</td>\n",
       "      <td>1.0</td>\n",
       "      <td>0.0</td>\n",
       "      <td>1</td>\n",
       "      <td>0</td>\n",
       "      <td>1</td>\n",
       "      <td>0</td>\n",
       "    </tr>\n",
       "  </tbody>\n",
       "</table>\n",
       "<p>5 rows × 158 columns</p>\n",
       "</div>"
      ],
      "text/plain": [
       "        Provider  InscClaimAmtReimbursed  DeductibleAmtPaid  AdmitForDays  \\\n",
       "135387  PRV57750                    1300                0.0           0.0   \n",
       "135388  PRV57750                      10                0.0           0.0   \n",
       "135389  PRV57750                     200                0.0           0.0   \n",
       "135390  PRV57750                    2300                0.0           0.0   \n",
       "135391  PRV57750                     200                0.0           0.0   \n",
       "\n",
       "       RenalDiseaseIndicator  NoOfMonths_PartACov  NoOfMonths_PartBCov  \\\n",
       "135387                     0                   12                   12   \n",
       "135388                     0                   12                   12   \n",
       "135389                     0                   12                   12   \n",
       "135390                     0                   12                   12   \n",
       "135391                     0                   12                   12   \n",
       "\n",
       "        ChronicCond_Alzheimer  ChronicCond_Heartfailure  \\\n",
       "135387                      0                         1   \n",
       "135388                      0                         0   \n",
       "135389                      0                         0   \n",
       "135390                      1                         0   \n",
       "135391                      0                         1   \n",
       "\n",
       "        ChronicCond_KidneyDisease  ...  \\\n",
       "135387                          0  ...   \n",
       "135388                          0  ...   \n",
       "135389                          0  ...   \n",
       "135390                          1  ...   \n",
       "135391                          0  ...   \n",
       "\n",
       "        ClmCount_Provider_BeneID_AttendingPhysician_ClmProcedureCode_1  \\\n",
       "135387                                                0.0                \n",
       "135388                                                0.0                \n",
       "135389                                                0.0                \n",
       "135390                                                0.0                \n",
       "135391                                                0.0                \n",
       "\n",
       "        ClmCount_Provider_BeneID_AttendingPhysician_ClmDiagnosisCode_1  \\\n",
       "135387                                                1.0                \n",
       "135388                                                1.0                \n",
       "135389                                                1.0                \n",
       "135390                                                1.0                \n",
       "135391                                                1.0                \n",
       "\n",
       "        ClmCount_Provider_BeneID_OperatingPhysician  \\\n",
       "135387                                          0.0   \n",
       "135388                                          0.0   \n",
       "135389                                          0.0   \n",
       "135390                                          1.0   \n",
       "135391                                          1.0   \n",
       "\n",
       "        ClmCount_Provider_BeneID_ClmProcedureCode_1  \\\n",
       "135387                                          0.0   \n",
       "135388                                          0.0   \n",
       "135389                                          0.0   \n",
       "135390                                          0.0   \n",
       "135391                                          0.0   \n",
       "\n",
       "        ClmCount_Provider_BeneID_ClmDiagnosisCode_1  \\\n",
       "135387                                          1.0   \n",
       "135388                                          1.0   \n",
       "135389                                          1.0   \n",
       "135390                                          1.0   \n",
       "135391                                          1.0   \n",
       "\n",
       "        ClmCount_Provider_BeneID_ClmDiagnosisCode_1_ClmProcedureCode_1  \\\n",
       "135387                                                0.0                \n",
       "135388                                                0.0                \n",
       "135389                                                0.0                \n",
       "135390                                                0.0                \n",
       "135391                                                0.0                \n",
       "\n",
       "        Gender_2  Race_2  Race_3  Race_5  \n",
       "135387         1       0       0       0  \n",
       "135388         1       0       0       0  \n",
       "135389         1       1       0       0  \n",
       "135390         1       0       0       0  \n",
       "135391         1       0       1       0  \n",
       "\n",
       "[5 rows x 158 columns]"
      ]
     },
     "execution_count": 418,
     "metadata": {},
     "output_type": "execute_result"
    }
   ],
   "source": [
    "Test_category_removed.tail()   # Check last 5 records.\n"
   ]
  },
  {
   "cell_type": "code",
   "execution_count": 419,
   "metadata": {},
   "outputs": [
    {
     "name": "stdout",
     "output_type": "stream",
     "text": [
      "Test Shape before removing (135392, 158)\n"
     ]
    }
   ],
   "source": [
    "print('Test Shape before removing',Test_category_removed.shape)"
   ]
  },
  {
   "cell_type": "markdown",
   "metadata": {},
   "source": [
    "**Data Aggregation to the Providers level**"
   ]
  },
  {
   "cell_type": "code",
   "execution_count": 420,
   "metadata": {},
   "outputs": [],
   "source": [
    "### Lets aggregate claims data to unique providers.\n",
    "\n",
    "Train_category_removed_groupedbyProv_PF=Train_category_removed.groupby(['Provider','PotentialFraud'],as_index=False).agg('sum')\n",
    "Test_category_removed_groupedbyProv_PF=Test_category_removed.groupby(['Provider'],as_index=False).agg('sum')"
   ]
  },
  {
   "cell_type": "code",
   "execution_count": 421,
   "metadata": {},
   "outputs": [
    {
     "name": "stdout",
     "output_type": "stream",
     "text": [
      "Providers in Train: (5410, 158)\n",
      "Providers in Test : (1353, 157)\n"
     ]
    }
   ],
   "source": [
    "print('Providers in Train:' ,Train_category_removed_groupedbyProv_PF.shape)\n",
    "print('Providers in Test :',Test_category_removed_groupedbyProv_PF.shape)"
   ]
  },
  {
   "cell_type": "code",
   "execution_count": 422,
   "metadata": {},
   "outputs": [
    {
     "data": {
      "text/html": [
       "<div>\n",
       "<style scoped>\n",
       "    .dataframe tbody tr th:only-of-type {\n",
       "        vertical-align: middle;\n",
       "    }\n",
       "\n",
       "    .dataframe tbody tr th {\n",
       "        vertical-align: top;\n",
       "    }\n",
       "\n",
       "    .dataframe thead th {\n",
       "        text-align: right;\n",
       "    }\n",
       "</style>\n",
       "<table border=\"1\" class=\"dataframe\">\n",
       "  <thead>\n",
       "    <tr style=\"text-align: right;\">\n",
       "      <th></th>\n",
       "      <th>Provider</th>\n",
       "      <th>InscClaimAmtReimbursed</th>\n",
       "      <th>DeductibleAmtPaid</th>\n",
       "      <th>AdmitForDays</th>\n",
       "      <th>NoOfMonths_PartACov</th>\n",
       "      <th>NoOfMonths_PartBCov</th>\n",
       "      <th>ChronicCond_Alzheimer</th>\n",
       "      <th>ChronicCond_Heartfailure</th>\n",
       "      <th>ChronicCond_KidneyDisease</th>\n",
       "      <th>ChronicCond_Cancer</th>\n",
       "      <th>...</th>\n",
       "      <th>ClmCount_Provider_BeneID_AttendingPhysician_ClmProcedureCode_1</th>\n",
       "      <th>ClmCount_Provider_BeneID_AttendingPhysician_ClmDiagnosisCode_1</th>\n",
       "      <th>ClmCount_Provider_BeneID_OperatingPhysician</th>\n",
       "      <th>ClmCount_Provider_BeneID_ClmProcedureCode_1</th>\n",
       "      <th>ClmCount_Provider_BeneID_ClmDiagnosisCode_1</th>\n",
       "      <th>ClmCount_Provider_BeneID_ClmDiagnosisCode_1_ClmProcedureCode_1</th>\n",
       "      <th>Gender_2</th>\n",
       "      <th>Race_2</th>\n",
       "      <th>Race_3</th>\n",
       "      <th>Race_5</th>\n",
       "    </tr>\n",
       "  </thead>\n",
       "  <tbody>\n",
       "    <tr>\n",
       "      <th>0</th>\n",
       "      <td>PRV51002</td>\n",
       "      <td>53790</td>\n",
       "      <td>380.0</td>\n",
       "      <td>0.0</td>\n",
       "      <td>2424</td>\n",
       "      <td>2460</td>\n",
       "      <td>79</td>\n",
       "      <td>108</td>\n",
       "      <td>72</td>\n",
       "      <td>25</td>\n",
       "      <td>...</td>\n",
       "      <td>0.0</td>\n",
       "      <td>202.0</td>\n",
       "      <td>30.0</td>\n",
       "      <td>0.0</td>\n",
       "      <td>204.0</td>\n",
       "      <td>0.0</td>\n",
       "      <td>134.0</td>\n",
       "      <td>30.0</td>\n",
       "      <td>2.0</td>\n",
       "      <td>4.0</td>\n",
       "    </tr>\n",
       "    <tr>\n",
       "      <th>1</th>\n",
       "      <td>PRV51006</td>\n",
       "      <td>30720</td>\n",
       "      <td>0.0</td>\n",
       "      <td>0.0</td>\n",
       "      <td>1224</td>\n",
       "      <td>1224</td>\n",
       "      <td>35</td>\n",
       "      <td>69</td>\n",
       "      <td>50</td>\n",
       "      <td>15</td>\n",
       "      <td>...</td>\n",
       "      <td>0.0</td>\n",
       "      <td>99.0</td>\n",
       "      <td>26.0</td>\n",
       "      <td>0.0</td>\n",
       "      <td>99.0</td>\n",
       "      <td>0.0</td>\n",
       "      <td>59.0</td>\n",
       "      <td>26.0</td>\n",
       "      <td>0.0</td>\n",
       "      <td>0.0</td>\n",
       "    </tr>\n",
       "    <tr>\n",
       "      <th>2</th>\n",
       "      <td>PRV51009</td>\n",
       "      <td>27230</td>\n",
       "      <td>1238.0</td>\n",
       "      <td>8.0</td>\n",
       "      <td>468</td>\n",
       "      <td>468</td>\n",
       "      <td>8</td>\n",
       "      <td>17</td>\n",
       "      <td>19</td>\n",
       "      <td>1</td>\n",
       "      <td>...</td>\n",
       "      <td>2.0</td>\n",
       "      <td>40.0</td>\n",
       "      <td>24.0</td>\n",
       "      <td>2.0</td>\n",
       "      <td>41.0</td>\n",
       "      <td>2.0</td>\n",
       "      <td>23.0</td>\n",
       "      <td>6.0</td>\n",
       "      <td>0.0</td>\n",
       "      <td>0.0</td>\n",
       "    </tr>\n",
       "  </tbody>\n",
       "</table>\n",
       "<p>3 rows × 157 columns</p>\n",
       "</div>"
      ],
      "text/plain": [
       "   Provider  InscClaimAmtReimbursed  DeductibleAmtPaid  AdmitForDays  \\\n",
       "0  PRV51002                   53790              380.0           0.0   \n",
       "1  PRV51006                   30720                0.0           0.0   \n",
       "2  PRV51009                   27230             1238.0           8.0   \n",
       "\n",
       "   NoOfMonths_PartACov  NoOfMonths_PartBCov  ChronicCond_Alzheimer  \\\n",
       "0                 2424                 2460                     79   \n",
       "1                 1224                 1224                     35   \n",
       "2                  468                  468                      8   \n",
       "\n",
       "   ChronicCond_Heartfailure  ChronicCond_KidneyDisease  ChronicCond_Cancer  \\\n",
       "0                       108                         72                  25   \n",
       "1                        69                         50                  15   \n",
       "2                        17                         19                   1   \n",
       "\n",
       "   ...  ClmCount_Provider_BeneID_AttendingPhysician_ClmProcedureCode_1  \\\n",
       "0  ...                                                0.0                \n",
       "1  ...                                                0.0                \n",
       "2  ...                                                2.0                \n",
       "\n",
       "   ClmCount_Provider_BeneID_AttendingPhysician_ClmDiagnosisCode_1  \\\n",
       "0                                              202.0                \n",
       "1                                               99.0                \n",
       "2                                               40.0                \n",
       "\n",
       "   ClmCount_Provider_BeneID_OperatingPhysician  \\\n",
       "0                                         30.0   \n",
       "1                                         26.0   \n",
       "2                                         24.0   \n",
       "\n",
       "   ClmCount_Provider_BeneID_ClmProcedureCode_1  \\\n",
       "0                                          0.0   \n",
       "1                                          0.0   \n",
       "2                                          2.0   \n",
       "\n",
       "   ClmCount_Provider_BeneID_ClmDiagnosisCode_1  \\\n",
       "0                                        204.0   \n",
       "1                                         99.0   \n",
       "2                                         41.0   \n",
       "\n",
       "   ClmCount_Provider_BeneID_ClmDiagnosisCode_1_ClmProcedureCode_1  Gender_2  \\\n",
       "0                                                0.0                  134.0   \n",
       "1                                                0.0                   59.0   \n",
       "2                                                2.0                   23.0   \n",
       "\n",
       "   Race_2  Race_3  Race_5  \n",
       "0    30.0     2.0     4.0  \n",
       "1    26.0     0.0     0.0  \n",
       "2     6.0     0.0     0.0  \n",
       "\n",
       "[3 rows x 157 columns]"
      ]
     },
     "execution_count": 422,
     "metadata": {},
     "output_type": "execute_result"
    }
   ],
   "source": [
    "Train_category_removed_groupedbyProv_PF.head(3)\n",
    "Test_category_removed_groupedbyProv_PF.head(3)"
   ]
  },
  {
   "cell_type": "markdown",
   "metadata": {},
   "source": [
    "**Train Validation split**"
   ]
  },
  {
   "cell_type": "code",
   "execution_count": 423,
   "metadata": {},
   "outputs": [
    {
     "name": "stdout",
     "output_type": "stream",
     "text": [
      "Train shape: (5410, 158)\n"
     ]
    }
   ],
   "source": [
    "print('Train shape:',Train_category_removed_groupedbyProv_PF.shape)"
   ]
  },
  {
   "cell_type": "code",
   "execution_count": 424,
   "metadata": {},
   "outputs": [
    {
     "data": {
      "text/html": [
       "<div>\n",
       "<style scoped>\n",
       "    .dataframe tbody tr th:only-of-type {\n",
       "        vertical-align: middle;\n",
       "    }\n",
       "\n",
       "    .dataframe tbody tr th {\n",
       "        vertical-align: top;\n",
       "    }\n",
       "\n",
       "    .dataframe thead th {\n",
       "        text-align: right;\n",
       "    }\n",
       "</style>\n",
       "<table border=\"1\" class=\"dataframe\">\n",
       "  <thead>\n",
       "    <tr style=\"text-align: right;\">\n",
       "      <th></th>\n",
       "      <th>Provider</th>\n",
       "      <th>PotentialFraud</th>\n",
       "      <th>InscClaimAmtReimbursed</th>\n",
       "      <th>DeductibleAmtPaid</th>\n",
       "      <th>AdmitForDays</th>\n",
       "      <th>NoOfMonths_PartACov</th>\n",
       "      <th>NoOfMonths_PartBCov</th>\n",
       "      <th>ChronicCond_Alzheimer</th>\n",
       "      <th>ChronicCond_Heartfailure</th>\n",
       "      <th>ChronicCond_KidneyDisease</th>\n",
       "      <th>...</th>\n",
       "      <th>ClmCount_Provider_BeneID_AttendingPhysician_ClmProcedureCode_1</th>\n",
       "      <th>ClmCount_Provider_BeneID_AttendingPhysician_ClmDiagnosisCode_1</th>\n",
       "      <th>ClmCount_Provider_BeneID_OperatingPhysician</th>\n",
       "      <th>ClmCount_Provider_BeneID_ClmProcedureCode_1</th>\n",
       "      <th>ClmCount_Provider_BeneID_ClmDiagnosisCode_1</th>\n",
       "      <th>ClmCount_Provider_BeneID_ClmDiagnosisCode_1_ClmProcedureCode_1</th>\n",
       "      <th>Gender_2</th>\n",
       "      <th>Race_2</th>\n",
       "      <th>Race_3</th>\n",
       "      <th>Race_5</th>\n",
       "    </tr>\n",
       "  </thead>\n",
       "  <tbody>\n",
       "    <tr>\n",
       "      <th>0</th>\n",
       "      <td>PRV51001</td>\n",
       "      <td>0</td>\n",
       "      <td>104640</td>\n",
       "      <td>5340.0</td>\n",
       "      <td>30.0</td>\n",
       "      <td>300</td>\n",
       "      <td>300</td>\n",
       "      <td>15</td>\n",
       "      <td>19</td>\n",
       "      <td>17</td>\n",
       "      <td>...</td>\n",
       "      <td>2.0</td>\n",
       "      <td>24.0</td>\n",
       "      <td>5.0</td>\n",
       "      <td>2.0</td>\n",
       "      <td>24.0</td>\n",
       "      <td>2.0</td>\n",
       "      <td>16.0</td>\n",
       "      <td>4.0</td>\n",
       "      <td>0.0</td>\n",
       "      <td>0.0</td>\n",
       "    </tr>\n",
       "    <tr>\n",
       "      <th>1</th>\n",
       "      <td>PRV51003</td>\n",
       "      <td>1</td>\n",
       "      <td>605670</td>\n",
       "      <td>66286.0</td>\n",
       "      <td>382.0</td>\n",
       "      <td>1560</td>\n",
       "      <td>1567</td>\n",
       "      <td>56</td>\n",
       "      <td>80</td>\n",
       "      <td>64</td>\n",
       "      <td>...</td>\n",
       "      <td>39.0</td>\n",
       "      <td>132.0</td>\n",
       "      <td>45.0</td>\n",
       "      <td>39.0</td>\n",
       "      <td>132.0</td>\n",
       "      <td>39.0</td>\n",
       "      <td>78.0</td>\n",
       "      <td>24.0</td>\n",
       "      <td>0.0</td>\n",
       "      <td>1.0</td>\n",
       "    </tr>\n",
       "    <tr>\n",
       "      <th>2</th>\n",
       "      <td>PRV51004</td>\n",
       "      <td>0</td>\n",
       "      <td>52170</td>\n",
       "      <td>310.0</td>\n",
       "      <td>0.0</td>\n",
       "      <td>1768</td>\n",
       "      <td>1782</td>\n",
       "      <td>64</td>\n",
       "      <td>88</td>\n",
       "      <td>50</td>\n",
       "      <td>...</td>\n",
       "      <td>0.0</td>\n",
       "      <td>143.0</td>\n",
       "      <td>27.0</td>\n",
       "      <td>0.0</td>\n",
       "      <td>143.0</td>\n",
       "      <td>0.0</td>\n",
       "      <td>103.0</td>\n",
       "      <td>24.0</td>\n",
       "      <td>5.0</td>\n",
       "      <td>0.0</td>\n",
       "    </tr>\n",
       "  </tbody>\n",
       "</table>\n",
       "<p>3 rows × 158 columns</p>\n",
       "</div>"
      ],
      "text/plain": [
       "   Provider  PotentialFraud  InscClaimAmtReimbursed  DeductibleAmtPaid  \\\n",
       "0  PRV51001               0                  104640             5340.0   \n",
       "1  PRV51003               1                  605670            66286.0   \n",
       "2  PRV51004               0                   52170              310.0   \n",
       "\n",
       "   AdmitForDays  NoOfMonths_PartACov  NoOfMonths_PartBCov  \\\n",
       "0          30.0                  300                  300   \n",
       "1         382.0                 1560                 1567   \n",
       "2           0.0                 1768                 1782   \n",
       "\n",
       "   ChronicCond_Alzheimer  ChronicCond_Heartfailure  ChronicCond_KidneyDisease  \\\n",
       "0                     15                        19                         17   \n",
       "1                     56                        80                         64   \n",
       "2                     64                        88                         50   \n",
       "\n",
       "   ...  ClmCount_Provider_BeneID_AttendingPhysician_ClmProcedureCode_1  \\\n",
       "0  ...                                                2.0                \n",
       "1  ...                                               39.0                \n",
       "2  ...                                                0.0                \n",
       "\n",
       "   ClmCount_Provider_BeneID_AttendingPhysician_ClmDiagnosisCode_1  \\\n",
       "0                                               24.0                \n",
       "1                                              132.0                \n",
       "2                                              143.0                \n",
       "\n",
       "   ClmCount_Provider_BeneID_OperatingPhysician  \\\n",
       "0                                          5.0   \n",
       "1                                         45.0   \n",
       "2                                         27.0   \n",
       "\n",
       "   ClmCount_Provider_BeneID_ClmProcedureCode_1  \\\n",
       "0                                          2.0   \n",
       "1                                         39.0   \n",
       "2                                          0.0   \n",
       "\n",
       "   ClmCount_Provider_BeneID_ClmDiagnosisCode_1  \\\n",
       "0                                         24.0   \n",
       "1                                        132.0   \n",
       "2                                        143.0   \n",
       "\n",
       "   ClmCount_Provider_BeneID_ClmDiagnosisCode_1_ClmProcedureCode_1  Gender_2  \\\n",
       "0                                                2.0                   16.0   \n",
       "1                                               39.0                   78.0   \n",
       "2                                                0.0                  103.0   \n",
       "\n",
       "   Race_2  Race_3  Race_5  \n",
       "0     4.0     0.0     0.0  \n",
       "1    24.0     0.0     1.0  \n",
       "2    24.0     5.0     0.0  \n",
       "\n",
       "[3 rows x 158 columns]"
      ]
     },
     "execution_count": 424,
     "metadata": {},
     "output_type": "execute_result"
    }
   ],
   "source": [
    "Train_category_removed_groupedbyProv_PF.head(3)"
   ]
  },
  {
   "cell_type": "code",
   "execution_count": 425,
   "metadata": {},
   "outputs": [],
   "source": [
    "## Lets Seperate out Target and providers from independent variables.Create Target column y.\n",
    "\n",
    "X=Train_category_removed_groupedbyProv_PF.drop(axis=1,columns=['Provider','PotentialFraud'])\n",
    "y=Train_category_removed_groupedbyProv_PF['PotentialFraud']"
   ]
  },
  {
   "cell_type": "markdown",
   "metadata": {},
   "source": [
    "**Standardization**"
   ]
  },
  {
   "cell_type": "code",
   "execution_count": 426,
   "metadata": {},
   "outputs": [],
   "source": [
    "## Lets apply StandardScaler and transform values to its z form,where 99.7% values range between -3 to 3.\n",
    "sc=StandardScaler()   # MinMaxScaler\n",
    "sc.fit(X)\n",
    "X_std=sc.transform(X)\n",
    "\n",
    "X_teststd=sc.transform(Test_category_removed_groupedbyProv_PF.iloc[:,1:])   #Apply Standard Scaler to unseen data as well.\n",
    "\n",
    "#print(X_std[0:3,:])\n",
    "#print(X_teststd[0:3,:])"
   ]
  },
  {
   "cell_type": "code",
   "execution_count": 427,
   "metadata": {},
   "outputs": [
    {
     "name": "stdout",
     "output_type": "stream",
     "text": [
      "X Shape: (5410, 156)\n"
     ]
    }
   ],
   "source": [
    "print('X Shape:',X_std.shape)"
   ]
  },
  {
   "cell_type": "markdown",
   "metadata": {},
   "source": [
    "**Split data in train and validation**"
   ]
  },
  {
   "cell_type": "code",
   "execution_count": 428,
   "metadata": {},
   "outputs": [],
   "source": [
    "## 'stratify=y' will make sure equal distribution of yes:no in both train and validation\n",
    "\n",
    "X_train,X_val,y_train,y_val = train_test_split(X_std,y,test_size=0.3,random_state=101,stratify=y,shuffle=True)"
   ]
  },
  {
   "cell_type": "code",
   "execution_count": 429,
   "metadata": {},
   "outputs": [
    {
     "name": "stdout",
     "output_type": "stream",
     "text": [
      "X_train : (3787, 156)\n",
      "y_train : (3787,)\n",
      "X_val : (1623, 156)\n",
      "y_val : (1623,)\n"
     ]
    }
   ],
   "source": [
    "print('X_train :',X_train.shape)\n",
    "print('y_train :',y_train.shape)\n",
    "\n",
    "print('X_val :',X_val.shape)\n",
    "print('y_val :',y_val.shape)"
   ]
  },
  {
   "cell_type": "code",
   "execution_count": 430,
   "metadata": {},
   "outputs": [
    {
     "name": "stdout",
     "output_type": "stream",
     "text": [
      "X_teststd (1353, 156)\n"
     ]
    }
   ],
   "source": [
    "\n",
    "print('X_teststd',X_teststd.shape)"
   ]
  },
  {
   "cell_type": "markdown",
   "metadata": {},
   "source": [
    "## Model Building\n"
   ]
  },
  {
   "cell_type": "markdown",
   "metadata": {},
   "source": [
    "**Logistic regression**"
   ]
  },
  {
   "cell_type": "code",
   "execution_count": 431,
   "metadata": {},
   "outputs": [
    {
     "data": {
      "text/plain": [
       "LogisticRegressionCV(Cs=10, class_weight='balanced', cv=10, dual=False,\n",
       "                     fit_intercept=True, intercept_scaling=1.0, l1_ratios=None,\n",
       "                     max_iter=100, multi_class='warn', n_jobs=None,\n",
       "                     penalty='l2', random_state=123, refit=True, scoring=None,\n",
       "                     solver='lbfgs', tol=0.0001, verbose=0)"
      ]
     },
     "execution_count": 431,
     "metadata": {},
     "output_type": "execute_result"
    }
   ],
   "source": [
    "from sklearn.linear_model import LogisticRegressionCV\n",
    "\n",
    "log = LogisticRegressionCV(cv=10,class_weight='balanced',random_state=123)    \n",
    "\n",
    "# The \"balanced\" mode uses the values of y to automatically adjust weights inversely proportional to class frequencies\n",
    "#in the input data as ``n_samples / (n_classes * np.bincount(y))``.\n",
    "\n",
    "log.fit(X_train,y_train)"
   ]
  },
  {
   "cell_type": "code",
   "execution_count": 432,
   "metadata": {},
   "outputs": [],
   "source": [
    "## Lets predict probability of 1 and 0 for X_train and X_val\n",
    "\n",
    "log_train_pred_probability=log.predict_proba(X_train)\n",
    "log_val_pred_probability=log.predict_proba(X_val)"
   ]
  },
  {
   "cell_type": "markdown",
   "metadata": {},
   "source": [
    "**Logistic Regression Model Prediction for Train and Validation**"
   ]
  },
  {
   "cell_type": "code",
   "execution_count": 433,
   "metadata": {},
   "outputs": [
    {
     "data": {
      "image/png": "[encoded data removed]",
      "text/plain": [
       "<Figure size 864x576 with 1 Axes>"
      ]
     },
     "metadata": {},
     "output_type": "display_data"
    }
   ],
   "source": [
    "# Lets compare model prediction performance on train and Validation both.\n",
    "\n",
    "fig = plt.figure(figsize=(12,8))\n",
    "\n",
    "sns.distplot(log.predict_proba(X_train)[:,1],color='darkblue')\n",
    "sns.distplot(log.predict_proba(X_val)[:,1],color='firebrick')\n",
    "plt.title('Predictions of Train and Validation ')\n",
    "plt.xlim([0, 1])\n",
    "\n",
    "plt.tight_layout()\n",
    "\n",
    "plt.show()"
   ]
  },
  {
   "cell_type": "markdown",
   "metadata": {},
   "source": [
    "**Logistic Regression : Precision Vs Recall Curve¶**"
   ]
  },
  {
   "cell_type": "code",
   "execution_count": 434,
   "metadata": {},
   "outputs": [
    {
     "data": {
      "text/plain": [
       "Text(0.5, 1.0, 'Precision Vs Recall')"
      ]
     },
     "execution_count": 434,
     "metadata": {},
     "output_type": "execute_result"
    },
    {
     "data": {
      "image/png": "[encoded data removed]",
      "text/plain": [
       "<Figure size 864x576 with 1 Axes>"
      ]
     },
     "metadata": {},
     "output_type": "display_data"
    }
   ],
   "source": [
    "## Lets Check precision and recall \n",
    "precision, recall, _ = precision_recall_curve(y_val, log.predict_proba(X_val)[:,1])\n",
    "\n",
    "plt.plot(precision,recall)\n",
    "plt.xlabel('Recall')\n",
    "plt.ylabel('Precision')\n",
    "plt.title('Precision Vs Recall')"
   ]
  },
  {
   "cell_type": "markdown",
   "metadata": {},
   "source": [
    "**Probability Thresholding**\n",
    "\n",
    "\n",
    "**Thresholding Probabilities: \n",
    "\n",
    "If the algorithm returns probabilities (or some other score), thresholding can be applied after a model has been built. Essentially you change the classification threshold from 50-50 to an appropriate trade-off level. This typically can be optimized by generated a curve of the evaluation metric (e.g. F-measure). The limitation here is that you are making absolute trade-offs. Any modification in the cutoff will in turn decrease the accuracy of predicting the other class.**"
   ]
  },
  {
   "cell_type": "code",
   "execution_count": 435,
   "metadata": {},
   "outputs": [],
   "source": [
    "## Lets Set probability Threshold to 0.60\n",
    "\n",
    "log_train_pred_60=(log.predict_proba(X_train)[:,1]>0.60).astype(bool)\n",
    "log_val_pred_60=(log.predict_proba(X_val)[:,1]>0.60).astype(bool)   # set threshold as 0.60"
   ]
  },
  {
   "cell_type": "markdown",
   "metadata": {},
   "source": [
    "**Logistic Regression : Evaluation**"
   ]
  },
  {
   "cell_type": "code",
   "execution_count": 436,
   "metadata": {},
   "outputs": [
    {
     "name": "stdout",
     "output_type": "stream",
     "text": [
      "Confusion Matrix Train : \n",
      " [[ 270   84]\n",
      " [ 210 3223]]\n",
      "Confusion Matrix Val: \n",
      " [[ 103   49]\n",
      " [  93 1378]]\n",
      "Accuracy Train:  0.922365988909427\n",
      "Accuracy Val:  0.9125077017868145\n",
      "Sensitivity Train :  0.7627118644067796\n",
      "Sensitivity Val:  0.6776315789473685\n",
      "Specificity Train:  0.9388290125254879\n",
      "Specificity Val:  0.9367777022433719\n",
      "Kappa Value : 0.5438304105142315\n",
      "AUC         : 0.8072046405953702\n",
      "F1-Score Train  :  0.6474820143884892\n",
      "F1-Score Val  :  0.5919540229885056\n"
     ]
    }
   ],
   "source": [
    "#Confusion matrix, Accuracy, sensitivity and specificity\n",
    "\n",
    "from sklearn.metrics import confusion_matrix,accuracy_score,cohen_kappa_score,roc_auc_score,f1_score,auc\n",
    "\n",
    "cm0 = confusion_matrix(y_train, log_train_pred_60,labels=[1,0])\n",
    "print('Confusion Matrix Train : \\n', cm0)\n",
    "\n",
    "cm1 = confusion_matrix(y_val, log_val_pred_60,labels=[1,0])\n",
    "print('Confusion Matrix Val: \\n', cm1)\n",
    "\n",
    "total0=sum(sum(cm0))\n",
    "total1=sum(sum(cm1))\n",
    "#####from confusion matrix calculate accuracy\n",
    "accuracy0=(cm0[0,0]+cm0[1,1])/total0\n",
    "print ('Accuracy Train: ', accuracy0)\n",
    "\n",
    "accuracy1=(cm1[0,0]+cm1[1,1])/total1\n",
    "print ('Accuracy Val: ', accuracy1)\n",
    "\n",
    "sensitivity0 = cm0[0,0]/(cm0[0,0]+cm0[0,1])\n",
    "print('Sensitivity Train : ', sensitivity0 )\n",
    "\n",
    "sensitivity1 = cm1[0,0]/(cm1[0,0]+cm1[0,1])\n",
    "print('Sensitivity Val: ', sensitivity1 )\n",
    "\n",
    "\n",
    "specificity0 = cm0[1,1]/(cm0[1,0]+cm0[1,1])\n",
    "print('Specificity Train: ', specificity0)\n",
    "\n",
    "specificity1 = cm1[1,1]/(cm1[1,0]+cm1[1,1])\n",
    "print('Specificity Val: ', specificity1)\n",
    "\n",
    "KappaValue=cohen_kappa_score(y_val, log_val_pred_60)\n",
    "print(\"Kappa Value :\",KappaValue)\n",
    "AUC=roc_auc_score(y_val, log_val_pred_60)\n",
    "\n",
    "print(\"AUC         :\",AUC)\n",
    "\n",
    "print(\"F1-Score Train  : \",f1_score(y_train, log_train_pred_60))\n",
    "\n",
    "print(\"F1-Score Val  : \",f1_score(y_val, log_val_pred_60))"
   ]
  },
  {
   "cell_type": "markdown",
   "metadata": {},
   "source": [
    "****Confusion Matrix** Confusion Matrix Train : [[ 270 84] [ 210 3223]] Confusion Matrix Val: [[ 103 49] [ 93 1378]] Accuracy Train: 0.922365988909427 Accuracy Val: 0.9125077017868145 Sensitivity Train : 0.7627118644067796 Sensitivity Val: 0.6776315789473685 Specificity Train: 0.9388290125254879 Specificity Val: 0.9367777022433719 Kappa Value : 0.5438304105142315 AUC : 0.8072046405953702 F1-Score Train : 0.6474820143884892 F1-Score Val : 0.5919540229885056**"
   ]
  },
  {
   "cell_type": "code",
   "execution_count": 437,
   "metadata": {},
   "outputs": [
    {
     "data": {
      "text/html": [
       "<div>\n",
       "<style scoped>\n",
       "    .dataframe tbody tr th:only-of-type {\n",
       "        vertical-align: middle;\n",
       "    }\n",
       "\n",
       "    .dataframe tbody tr th {\n",
       "        vertical-align: top;\n",
       "    }\n",
       "\n",
       "    .dataframe thead th {\n",
       "        text-align: right;\n",
       "    }\n",
       "</style>\n",
       "<table border=\"1\" class=\"dataframe\">\n",
       "  <thead>\n",
       "    <tr style=\"text-align: right;\">\n",
       "      <th></th>\n",
       "      <th>0</th>\n",
       "    </tr>\n",
       "  </thead>\n",
       "  <tbody>\n",
       "    <tr>\n",
       "      <th>0</th>\n",
       "      <td>False</td>\n",
       "    </tr>\n",
       "    <tr>\n",
       "      <th>1</th>\n",
       "      <td>False</td>\n",
       "    </tr>\n",
       "  </tbody>\n",
       "</table>\n",
       "</div>"
      ],
      "text/plain": [
       "       0\n",
       "0  False\n",
       "1  False"
      ]
     },
     "execution_count": 437,
     "metadata": {},
     "output_type": "execute_result"
    }
   ],
   "source": [
    "## Lets predict on Test data\n",
    "\n",
    "log_test_pred_60 = (log.predict_proba(X_teststd)[:,1]>0.60).astype(bool)\n",
    "log_test_pred=pd.DataFrame(log_test_pred_60)\n",
    "log_test_pred.head(2)"
   ]
  },
  {
   "cell_type": "code",
   "execution_count": 438,
   "metadata": {},
   "outputs": [
    {
     "data": {
      "text/plain": [
       "No     1182\n",
       "Yes     171\n",
       "Name: 0, dtype: int64"
      ]
     },
     "execution_count": 438,
     "metadata": {},
     "output_type": "execute_result"
    }
   ],
   "source": [
    "\n",
    "# Lets Replace 1 with Yes and 0 With No\n",
    "Replacement = {1:'Yes',0:'No'}\n",
    "\n",
    "Labels=log_test_pred[0].apply(lambda x : Replacement[x])\n",
    "Labels.value_counts()    #Check count of Predictions"
   ]
  },
  {
   "cell_type": "code",
   "execution_count": 439,
   "metadata": {},
   "outputs": [
    {
     "data": {
      "text/plain": [
       "(1353, 2)"
      ]
     },
     "execution_count": 439,
     "metadata": {},
     "output_type": "execute_result"
    }
   ],
   "source": [
    "## Submission file\n",
    "\n",
    "submission_log=pd.DataFrame({\"Provider\":Test_category_removed_groupedbyProv_PF.Provider})\n",
    "submission_log['PotentialFraud']=Labels\n",
    "submission_log.shape\n"
   ]
  },
  {
   "cell_type": "code",
   "execution_count": 440,
   "metadata": {},
   "outputs": [
    {
     "name": "stdout",
     "output_type": "stream",
     "text": [
      "Submission Shape: (1353, 2)\n"
     ]
    }
   ],
   "source": [
    "\n",
    "print('Submission Shape:',submission_log.shape)"
   ]
  },
  {
   "cell_type": "code",
   "execution_count": 441,
   "metadata": {},
   "outputs": [],
   "source": [
    "#write Submission file\n",
    "\n",
    "submission_log.to_csv(\"Submission_Logistic_Regression_F1_60_Threshold_60Prcnt.csv\",index=False)"
   ]
  },
  {
   "cell_type": "code",
   "execution_count": 442,
   "metadata": {},
   "outputs": [
    {
     "data": {
      "text/plain": [
       "No     1182\n",
       "Yes     171\n",
       "Name: PotentialFraud, dtype: int64"
      ]
     },
     "execution_count": 442,
     "metadata": {},
     "output_type": "execute_result"
    }
   ],
   "source": [
    "submission_log.PotentialFraud.value_counts()"
   ]
  },
  {
   "cell_type": "markdown",
   "metadata": {},
   "source": [
    "**Random Forest**"
   ]
  },
  {
   "cell_type": "code",
   "execution_count": 209,
   "metadata": {},
   "outputs": [],
   "source": [
    "## Lets Apply Random Forest \n",
    "from sklearn.ensemble import RandomForestClassifier"
   ]
  },
  {
   "cell_type": "code",
   "execution_count": 210,
   "metadata": {},
   "outputs": [],
   "source": [
    "rfc = RandomForestClassifier(n_estimators=500,class_weight='balanced',random_state=123,max_depth=4)   # We will set max_depth =4"
   ]
  },
  {
   "cell_type": "code",
   "execution_count": 211,
   "metadata": {},
   "outputs": [
    {
     "data": {
      "text/plain": [
       "RandomForestClassifier(bootstrap=True, class_weight='balanced',\n",
       "                       criterion='gini', max_depth=4, max_features='auto',\n",
       "                       max_leaf_nodes=None, min_impurity_decrease=0.0,\n",
       "                       min_impurity_split=None, min_samples_leaf=1,\n",
       "                       min_samples_split=2, min_weight_fraction_leaf=0.0,\n",
       "                       n_estimators=500, n_jobs=None, oob_score=False,\n",
       "                       random_state=123, verbose=0, warm_start=False)"
      ]
     },
     "execution_count": 211,
     "metadata": {},
     "output_type": "execute_result"
    }
   ],
   "source": [
    "rfc.fit(X_train,y_train)  #fit the model"
   ]
  },
  {
   "cell_type": "markdown",
   "metadata": {},
   "source": [
    "**Random Forest : ROC Curve**"
   ]
  },
  {
   "cell_type": "code",
   "execution_count": 212,
   "metadata": {},
   "outputs": [
    {
     "data": {
      "image/png": "[encoded data removed]",
      "text/plain": [
       "<Figure size 864x576 with 1 Axes>"
      ]
     },
     "metadata": {},
     "output_type": "display_data"
    }
   ],
   "source": [
    "from sklearn.metrics import roc_curve, auc\n",
    "fpr, tpr, thresholds = roc_curve(y_val, rfc.predict_proba(X_val)[:,1])\n",
    "roc_auc = auc(fpr, tpr)\n",
    "\n",
    "plt.figure()\n",
    "plt.plot(fpr, tpr, color='darkorange', lw=1, label='ROC curve (AUC = %0.2f)' % roc_auc)\n",
    "\n",
    "for label in range(1,10,1):\n",
    "    plt.text((10-label)/10,(10-label)/10,thresholds[label*15],fontdict={'size': 14})\n",
    "    \n",
    "plt.plot([0, 1], [0, 1], color='navy', lw=1, linestyle='--')\n",
    "plt.xlim([0.0, 1.0])\n",
    "plt.ylim([0.0, 1.05])\n",
    "plt.xlabel('False Positive Rate')\n",
    "plt.ylabel('True Positive Rate')\n",
    "plt.title('Receiver operating characteristic')\n",
    "plt.legend(loc=\"lower right\")\n",
    "plt.show()\n"
   ]
  },
  {
   "cell_type": "markdown",
   "metadata": {},
   "source": [
    "**\n",
    "Random Forest : TPR Vs FPR**"
   ]
  },
  {
   "cell_type": "code",
   "execution_count": 213,
   "metadata": {},
   "outputs": [
    {
     "data": {
      "image/png": "[encoded data removed]",
      "text/plain": [
       "<Figure size 864x576 with 1 Axes>"
      ]
     },
     "metadata": {},
     "output_type": "display_data"
    }
   ],
   "source": [
    "fig = plt.figure(figsize=(12,8))\n",
    "\n",
    "sns.distplot(tpr,color='firebrick')\n",
    "\n",
    "sns.distplot(fpr,color='darkblue')\n",
    "plt.title('TPR Vs FPR ')\n",
    "plt.xlim([-.25, 1.2])\n",
    "\n",
    "plt.text(0.1,4,'Negatives',color='darkblue')\n",
    "plt.text(0.7,4,'Positives',color='firebrick')\n",
    "plt.xlabel('Probability')\n",
    "plt.ylabel('Distribution')\n",
    "plt.show()"
   ]
  },
  {
   "cell_type": "code",
   "execution_count": 214,
   "metadata": {},
   "outputs": [],
   "source": [
    "\n",
    "rfc_train_pred = (rfc.predict_proba(X_train)[:,1]>0.5).astype(bool)   # Set threshold to 0.5\n",
    "rfc_val_pred = (rfc.predict_proba(X_val)[:,1]>0.5).astype(bool)# Set threshold to 0.5"
   ]
  },
  {
   "cell_type": "markdown",
   "metadata": {},
   "source": [
    "**Random Forest : Model Evaluation**"
   ]
  },
  {
   "cell_type": "code",
   "execution_count": 215,
   "metadata": {},
   "outputs": [
    {
     "name": "stdout",
     "output_type": "stream",
     "text": [
      "Confusion Matrix Train : \n",
      " [[ 320   34]\n",
      " [ 388 3045]]\n",
      "Confusion Matrix Test: \n",
      " [[ 124   28]\n",
      " [ 181 1290]]\n",
      "Accuracy Train :  0.8885661473461843\n",
      "Accuracy Test :  0.8712261244608749\n",
      "Sensitivity :  0.8157894736842105\n",
      "Specificity :  0.8769544527532291\n",
      "Kappa Value : 0.47733173495472203\n",
      "AUC         : 0.8463719632187199\n",
      "F1-Score Train 0.6026365348399246\n",
      "F1-Score Validation :  0.5426695842450766\n"
     ]
    }
   ],
   "source": [
    "#Confusion matrix, Accuracy, sensitivity and specificity\n",
    "from sklearn.metrics import confusion_matrix,accuracy_score,cohen_kappa_score,roc_auc_score,f1_score,roc_curve\n",
    "\n",
    "cm0 = confusion_matrix(y_train, rfc_train_pred,labels=[1,0])\n",
    "print('Confusion Matrix Train : \\n', cm0)\n",
    "\n",
    "cm1 = confusion_matrix(y_val, rfc_val_pred,labels=[1,0])\n",
    "print('Confusion Matrix Test: \\n', cm1)\n",
    "\n",
    "total0=sum(sum(cm0))\n",
    "total1=sum(sum(cm1))\n",
    "#####from confusion matrix calculate accuracy\n",
    "accuracy0=(cm0[0,0]+cm0[1,1])/total0\n",
    "print ('Accuracy Train : ', accuracy0)\n",
    "\n",
    "accuracy1=(cm1[0,0]+cm1[1,1])/total1\n",
    "print ('Accuracy Test : ', accuracy1)\n",
    "\n",
    "sensitivity1 = cm1[0,0]/(cm1[0,0]+cm1[0,1])\n",
    "print('Sensitivity : ', sensitivity1 )\n",
    "\n",
    "specificity1 = cm1[1,1]/(cm1[1,0]+cm1[1,1])\n",
    "print('Specificity : ', specificity1)\n",
    "\n",
    "KappaValue=cohen_kappa_score(y_val, rfc_val_pred)\n",
    "print(\"Kappa Value :\",KappaValue)\n",
    "AUC=roc_auc_score(y_val, rfc_val_pred)\n",
    "print(\"AUC         :\",AUC)\n",
    "\n",
    "\n",
    "print(\"F1-Score Train\",f1_score(y_train,rfc_train_pred))\n",
    "print(\"F1-Score Validation : \",f1_score(y_val, rfc_val_pred))"
   ]
  },
  {
   "cell_type": "markdown",
   "metadata": {},
   "source": [
    "**Confusion Matrix Train : [[ 275 79] [ 239 3194]] Confusion Matrix Test: [[ 107 45] [ 105 1366]] Accuracy Train : 0.916028518616319 Accuracy Test : 0.9075785582255084 Sensitivity : 0.7039473684210527 Specificity : 0.9286199864038069 Kappa Value : 0.5374522157454344 AUC : 0.8162836774124298 F1-Score Train 0.6336405529953918 F1-Score Validation : 0.587912087912088**\n",
    "\n",
    "\n",
    "\n",
    "**Random Forest : Feature Importance**"
   ]
  },
  {
   "cell_type": "code",
   "execution_count": 216,
   "metadata": {},
   "outputs": [
    {
     "name": "stdout",
     "output_type": "stream",
     "text": [
      "Top -20 features impacting Random forest model and their importance score :- \n",
      "\n",
      "Variable: PerProviderAvg_InscClaimAmtReimbursed Importance: 0.08\n",
      "Variable: InscClaimAmtReimbursed Importance: 0.07\n",
      "Variable: PerAttendingPhysicianAvg_InscClaimAmtReimbursed Importance: 0.07\n",
      "Variable: PerOperatingPhysicianAvg_InscClaimAmtReimbursed Importance: 0.06\n",
      "Variable: PerClmAdmitDiagnosisCodeAvg_InscClaimAmtReimbursed Importance: 0.04\n",
      "Variable: PerClmAdmitDiagnosisCodeAvg_DeductibleAmtPaid Importance: 0.04\n",
      "Variable: PerClmDiagnosisCode_1Avg_DeductibleAmtPaid Importance: 0.04\n",
      "Variable: PerOperatingPhysicianAvg_IPAnnualReimbursementAmt Importance: 0.03\n",
      "Variable: ClmCount_Provider_ClmDiagnosisCode_7 Importance: 0.03\n",
      "Variable: ClmCount_Provider_ClmDiagnosisCode_8 Importance: 0.03\n",
      "Variable: ClmCount_Provider_ClmDiagnosisCode_9 Importance: 0.03\n",
      "Variable: DeductibleAmtPaid    Importance: 0.02\n",
      "Variable: AdmitForDays         Importance: 0.02\n",
      "Variable: PerProviderAvg_DeductibleAmtPaid Importance: 0.02\n",
      "Variable: PerAttendingPhysicianAvg_DeductibleAmtPaid Importance: 0.02\n"
     ]
    }
   ],
   "source": [
    "feature_list = list(Test_category_removed_groupedbyProv_PF.columns)\n",
    "# Get numerical feature importances\n",
    "importances = list(rfc.feature_importances_)\n",
    "# List of tuples with variable and importance\n",
    "feature_importances = [(feature, round(importance, 2)) for feature, importance in zip(feature_list[1:], importances)]\n",
    "# Sort the feature importances by most important first\n",
    "feature_importances = sorted(feature_importances, key = lambda x: x[1], reverse = True)\n",
    "# Print out the feature and importances \n",
    "print('Top -20 features impacting Random forest model and their importance score :- \\n',)\n",
    "[print('Variable: {:20} Importance: {}'.format(*pair)) for pair in feature_importances[:15]];"
   ]
  },
  {
   "cell_type": "markdown",
   "metadata": {},
   "source": [
    "**Random Forest : Prediction on Unseen Data**"
   ]
  },
  {
   "cell_type": "code",
   "execution_count": 217,
   "metadata": {},
   "outputs": [],
   "source": [
    "## Lets predict on Test data\n",
    "\n",
    "rfc_test_pred = rfc.predict(X_teststd)"
   ]
  },
  {
   "cell_type": "code",
   "execution_count": 218,
   "metadata": {},
   "outputs": [
    {
     "data": {
      "text/html": [
       "<div>\n",
       "<style scoped>\n",
       "    .dataframe tbody tr th:only-of-type {\n",
       "        vertical-align: middle;\n",
       "    }\n",
       "\n",
       "    .dataframe tbody tr th {\n",
       "        vertical-align: top;\n",
       "    }\n",
       "\n",
       "    .dataframe thead th {\n",
       "        text-align: right;\n",
       "    }\n",
       "</style>\n",
       "<table border=\"1\" class=\"dataframe\">\n",
       "  <thead>\n",
       "    <tr style=\"text-align: right;\">\n",
       "      <th></th>\n",
       "      <th>0</th>\n",
       "    </tr>\n",
       "  </thead>\n",
       "  <tbody>\n",
       "    <tr>\n",
       "      <th>0</th>\n",
       "      <td>0</td>\n",
       "    </tr>\n",
       "    <tr>\n",
       "      <th>1</th>\n",
       "      <td>0</td>\n",
       "    </tr>\n",
       "  </tbody>\n",
       "</table>\n",
       "</div>"
      ],
      "text/plain": [
       "   0\n",
       "0  0\n",
       "1  0"
      ]
     },
     "execution_count": 218,
     "metadata": {},
     "output_type": "execute_result"
    }
   ],
   "source": [
    "\n",
    "rfc_test_pred=pd.DataFrame(rfc_test_pred)\n",
    "rfc_test_pred.head(2)"
   ]
  },
  {
   "cell_type": "code",
   "execution_count": 219,
   "metadata": {},
   "outputs": [],
   "source": [
    "\n",
    "## Lets Replace 1 with Yes and 0 With No\n",
    "\n",
    "Replacement = {1:'Yes',0:'No'}\n",
    "\n",
    "Labels=rfc_test_pred[0].apply(lambda x : Replacement[x])"
   ]
  },
  {
   "cell_type": "code",
   "execution_count": 220,
   "metadata": {},
   "outputs": [
    {
     "data": {
      "text/plain": [
       "No     1094\n",
       "Yes     259\n",
       "Name: 0, dtype: int64"
      ]
     },
     "execution_count": 220,
     "metadata": {},
     "output_type": "execute_result"
    }
   ],
   "source": [
    "\n",
    "Labels.value_counts()"
   ]
  },
  {
   "cell_type": "code",
   "execution_count": 221,
   "metadata": {},
   "outputs": [
    {
     "data": {
      "text/plain": [
       "(1353, 2)"
      ]
     },
     "execution_count": 221,
     "metadata": {},
     "output_type": "execute_result"
    }
   ],
   "source": [
    "\n",
    "submission_rfc=pd.DataFrame({\"Provider\":Test_category_removed_groupedbyProv_PF.Provider})\n",
    "submission_rfc['PotentialFraud']=Labels\n",
    "submission_rfc.shape"
   ]
  },
  {
   "cell_type": "code",
   "execution_count": 222,
   "metadata": {},
   "outputs": [
    {
     "name": "stdout",
     "output_type": "stream",
     "text": [
      "Shape Of Submission (1353, 2)\n"
     ]
    }
   ],
   "source": [
    "print('Shape Of Submission',submission_rfc.shape)"
   ]
  },
  {
   "cell_type": "code",
   "execution_count": 223,
   "metadata": {},
   "outputs": [],
   "source": [
    "    #write Submission file\n",
    "\n",
    "submission_rfc.to_csv(\"Submission_Random_Forest_Estimator_F1_60_estimators_3000.csv\",index=False)"
   ]
  },
  {
   "cell_type": "markdown",
   "metadata": {},
   "source": [
    "**Other Models and their Performance**"
   ]
  },
  {
   "cell_type": "code",
   "execution_count": 226,
   "metadata": {},
   "outputs": [],
   "source": [
    "## Lets import packages \n",
    "from collections import Counter\n",
    "from sklearn.naive_bayes import MultinomialNB\n",
    "\n",
    "from sklearn.svm import SVC\n",
    "from sklearn.ensemble import AdaBoostClassifier\n",
    "from sklearn.tree import DecisionTreeClassifier\n",
    "from sklearn.ensemble import RandomForestClassifier\n",
    "from sklearn.ensemble import GradientBoostingClassifier\n",
    "from sklearn.linear_model import LogisticRegression\n",
    "from xgboost import XGBClassifier\n",
    "import pprint"
   ]
  },
  {
   "cell_type": "code",
   "execution_count": 227,
   "metadata": {},
   "outputs": [],
   "source": [
    "clfs = {\n",
    "    #'mnb': MultinomialNB(),\n",
    "    'svm1': SVC(C=0.01,kernel='linear',probability=1),\n",
    "    'svm2': SVC(C=0.01,kernel='rbf',probability=1),\n",
    "    'svm3': SVC(C=.01,kernel='poly',degree=2,probability=1),\n",
    "    'ada': AdaBoostClassifier(),\n",
    "    'dtc': DecisionTreeClassifier(class_weight='balanced'),\n",
    "    'gbc': GradientBoostingClassifier(),\n",
    "    'lr': LogisticRegression(class_weight='balanced'),\n",
    "    'xgb': XGBClassifier(booster='gbtree')\n",
    "}"
   ]
  },
  {
   "cell_type": "code",
   "execution_count": 228,
   "metadata": {},
   "outputs": [
    {
     "name": "stdout",
     "output_type": "stream",
     "text": [
      "svm1\n",
      "svm2\n",
      "svm3\n",
      "ada\n",
      "dtc\n",
      "gbc\n",
      "lr\n",
      "xgb\n"
     ]
    }
   ],
   "source": [
    "## Lets Fit These models and check their performance \n",
    "\n",
    "f1_scores = dict()\n",
    "for clf_name in clfs:\n",
    "    print(clf_name)\n",
    "    clf = clfs[clf_name]\n",
    "    clf.fit(X_train, y_train)\n",
    "    y_pred =((clf.predict_proba(X_val)[:,1]>0.5).astype(bool))\n",
    "    f1_scores[clf_name] = f1_score(y_pred, y_val)"
   ]
  },
  {
   "cell_type": "code",
   "execution_count": 229,
   "metadata": {},
   "outputs": [
    {
     "name": "stdout",
     "output_type": "stream",
     "text": [
      "{'ada': 0.5309090909090909,\n",
      " 'dtc': 0.43986254295532645,\n",
      " 'gbc': 0.576,\n",
      " 'lr': 0.5974683544303796,\n",
      " 'svm1': 0.5069124423963134,\n",
      " 'svm2': 0.5551020408163265,\n",
      " 'svm3': 0.41791044776119407,\n",
      " 'xgb': 0.5477178423236515}\n"
     ]
    }
   ],
   "source": [
    "pprint.pprint(f1_scores) #Printing F1 Scores"
   ]
  },
  {
   "cell_type": "markdown",
   "metadata": {},
   "source": [
    "**Above figures shows that Logistic regression model is performing better compared to other models.**"
   ]
  },
  {
   "cell_type": "markdown",
   "metadata": {},
   "source": [
    "**Summary of Project**\n",
    "\n",
    "**In this Project,I have used Supervised and Unsupervised machine learning algorithms to classify Fradulent behaviour of Healthcare providers.For the purpose of classifying providers in Fraud and Non Fraud category I used following methods:-\n",
    "\n",
    "1) Feature Engineering\n",
    "\n",
    "Medicare fraud is categorised as organized crime which involves peers working together to create fraud transactions of claims.Adding features from grouping them helped in improving accuracy of prediction and fraud pattern recognition. Grouping and aggregating numeric features to provider level helped in detecting behaviour of their transactions overall.\n",
    "\n",
    "2) Logistic Regression Classifier\n",
    "\n",
    "Features derived from above step are trained using logistic regression and evaluated.My decision of choosing LR is to check linear behaviour between dependent and independent variables.Also Logistic model adds explicability to the predictions. Performance of the LR model showcase the linearity between variables.\n",
    "\n",
    "3) Random Forest Classifier\n",
    "\n",
    "One of benefits of Random forest which excites most is, the power of handle large data set with higher dimensionality. It can handle thousands of input variables and identify most significant variables. Further, the model outputs Importance of variable, which can be a very handy feature.It also checks for non linearity between variables.\n",
    "\n",
    "4) Autoencoders\n",
    "\n",
    "Autoencoders are neural networks that aims to copy their inputs to their outputs. They work by compressing the input into a latent-space representation, and then reconstructing the output from this representation. My aim for the project is to train non fraud data using autoeencoder and reconstructing it back.While reconstructing Faud data it will create an error,called as reconstruction error.Based on the threshold setting of reconstruction errors, we can easily predict Fraudulent behaviour of healthcare provider.\n",
    "\n",
    "Conclusion\n",
    "Important Features\n",
    "In this Project ,I studied behaviour of Providers and found following important features impactful in predicting Fraud/NonFraud are folowing:\n",
    "\n",
    "1) PerProviderAvg_InscClaimAmtReimbursed( Importance: 8%)\n",
    "\n",
    "2) InscClaimAmtReimbursed (Importance: 7%)\n",
    "\n",
    "3) PerAttendingPhysicianAvg_InscClaimAmtReimbursed (Importance: 7%)\n",
    "\n",
    "4) PerOperatingPhysicianAvg_InscClaimAmtReimbursed (Importance: 6%)\n",
    "\n",
    "5) PerClmAdmitDiagnosisCodeAvg_InscClaimAmtReimbursed (Importance: 4%)\n",
    "\n",
    "Model Performance\n",
    "Based on business requirement,Threshold can be set on prediction probabilities.This threshold can be varied for different performance of these models.Recall and Precision tradeoff is entirely based on business decision.\n",
    "\n",
    "Our models consistentently performed with ~0.90 Accuracy, ~0.80 AUROC score and ~0.55 Kappa Score.\n",
    "\n",
    "**"
   ]
  },
  {
   "cell_type": "markdown",
   "metadata": {},
   "source": [
    "**Model Improvement**\n",
    "**Based on the above model performance ,there is a scope in improving model performance by :\n",
    "\n",
    "1) Adding more fraud data to the training dataset help in predicting unseen fraudulent behaviour time to time.\n",
    "\n",
    "2) Ensembling methods with parameter tuning can improve performance of the models.\n",
    "\n",
    "3) Vectorizing Medical codes(ICD 9 codes) with Count Vectoriser may add performance imporvement.**"
   ]
  },
  {
   "cell_type": "markdown",
   "metadata": {},
   "source": [
    "**Business Recommendation and Improvement**\n",
    "\n",
    "\n",
    "\n",
    "**1) Above model will help in predicting Provider fraud ,which will be helpful for insurance companies to scrutinize claims thoroughly.\n",
    "\n",
    "2) Further improvement in the project will help Government to take decision against fradulent health providers and will help in ammending rules and regulations in this domain.\n",
    "\n",
    "3) Improvement in the model will help in detecting networks of fraud Physicians,Providers and Beneficiaries.\n",
    "\n",
    "4) This type of project will help in improving health of economy by reducing inflation caused by fraud peers and lowering down insurance premiums which will certainly not cause health to become costly affair.\n",
    "\n",
    "The End**"
   ]
  },
  {
   "cell_type": "code",
   "execution_count": null,
   "metadata": {},
   "outputs": [],
   "source": []
  }
 ],
 "metadata": {
  "kernelspec": {
   "display_name": "Python 3",
   "language": "python",
   "name": "python3"
  },
  "language_info": {
   "codemirror_mode": {
    "name": "ipython",
    "version": 3
   },
   "file_extension": ".py",
   "mimetype": "text/x-python",
   "name": "python",
   "nbconvert_exporter": "python",
   "pygments_lexer": "ipython3",
   "version": "3.7.3"
  }
 },
 "nbformat": 4,
 "nbformat_minor": 1
}
